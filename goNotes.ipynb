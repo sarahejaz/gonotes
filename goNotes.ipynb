{
  "nbformat": 4,
  "nbformat_minor": 0,
  "metadata": {
    "accelerator": "GPU",
    "colab": {
      "name": "goNotes.ipynb",
      "provenance": [],
      "collapsed_sections": [],
      "toc_visible": true,
      "include_colab_link": true
    },
    "kernelspec": {
      "display_name": "Python 3",
      "name": "python3"
    }
  },
  "cells": [
    {
      "cell_type": "markdown",
      "metadata": {
        "id": "view-in-github",
        "colab_type": "text"
      },
      "source": [
        "<a href=\"https://colab.research.google.com/github/sarahejaz/gonotes/blob/main/goNotes.ipynb\" target=\"_parent\"><img src=\"https://colab.research.google.com/assets/colab-badge.svg\" alt=\"Open In Colab\"/></a>"
      ]
    },
    {
      "cell_type": "markdown",
      "metadata": {
        "id": "4zj613EFHxtB"
      },
      "source": [
        "#Mounting the Drive"
      ]
    },
    {
      "cell_type": "code",
      "metadata": {
        "colab": {
          "base_uri": "https://localhost:8080/"
        },
        "id": "L7y9-uXb3ZJD",
        "outputId": "34237b1c-0714-4fd8-ff17-bfc15cb0fa4e"
      },
      "source": [
        "from google.colab import drive\n",
        "drive.mount('/content/drive')"
      ],
      "execution_count": 1,
      "outputs": [
        {
          "output_type": "stream",
          "text": [
            "Drive already mounted at /content/drive; to attempt to forcibly remount, call drive.mount(\"/content/drive\", force_remount=True).\n"
          ],
          "name": "stdout"
        }
      ]
    },
    {
      "cell_type": "markdown",
      "metadata": {
        "id": "8vnRhRUP69c8"
      },
      "source": [
        "#Installations"
      ]
    },
    {
      "cell_type": "code",
      "metadata": {
        "id": "ylJDJCDO66AJ"
      },
      "source": [
        "!pip install -q youtube-dl"
      ],
      "execution_count": 2,
      "outputs": []
    },
    {
      "cell_type": "code",
      "metadata": {
        "colab": {
          "base_uri": "https://localhost:8080/"
        },
        "id": "mQ5nRr8H7Hjj",
        "outputId": "91873444-2557-4d92-a518-6759ba7cf6aa"
      },
      "source": [
        "!pip install transformers"
      ],
      "execution_count": 3,
      "outputs": [
        {
          "output_type": "stream",
          "text": [
            "Requirement already satisfied: transformers in /usr/local/lib/python3.7/dist-packages (4.9.0)\n",
            "Requirement already satisfied: packaging in /usr/local/lib/python3.7/dist-packages (from transformers) (21.0)\n",
            "Requirement already satisfied: sacremoses in /usr/local/lib/python3.7/dist-packages (from transformers) (0.0.45)\n",
            "Requirement already satisfied: numpy>=1.17 in /usr/local/lib/python3.7/dist-packages (from transformers) (1.19.5)\n",
            "Requirement already satisfied: regex!=2019.12.17 in /usr/local/lib/python3.7/dist-packages (from transformers) (2019.12.20)\n",
            "Requirement already satisfied: importlib-metadata in /usr/local/lib/python3.7/dist-packages (from transformers) (4.6.1)\n",
            "Requirement already satisfied: filelock in /usr/local/lib/python3.7/dist-packages (from transformers) (3.0.12)\n",
            "Requirement already satisfied: tokenizers<0.11,>=0.10.1 in /usr/local/lib/python3.7/dist-packages (from transformers) (0.10.3)\n",
            "Requirement already satisfied: huggingface-hub==0.0.12 in /usr/local/lib/python3.7/dist-packages (from transformers) (0.0.12)\n",
            "Requirement already satisfied: tqdm>=4.27 in /usr/local/lib/python3.7/dist-packages (from transformers) (4.41.1)\n",
            "Requirement already satisfied: pyyaml>=5.1 in /usr/local/lib/python3.7/dist-packages (from transformers) (5.4.1)\n",
            "Requirement already satisfied: requests in /usr/local/lib/python3.7/dist-packages (from transformers) (2.23.0)\n",
            "Requirement already satisfied: typing-extensions in /usr/local/lib/python3.7/dist-packages (from huggingface-hub==0.0.12->transformers) (3.7.4.3)\n",
            "Requirement already satisfied: pyparsing>=2.0.2 in /usr/local/lib/python3.7/dist-packages (from packaging->transformers) (2.4.7)\n",
            "Requirement already satisfied: zipp>=0.5 in /usr/local/lib/python3.7/dist-packages (from importlib-metadata->transformers) (3.5.0)\n",
            "Requirement already satisfied: certifi>=2017.4.17 in /usr/local/lib/python3.7/dist-packages (from requests->transformers) (2021.5.30)\n",
            "Requirement already satisfied: chardet<4,>=3.0.2 in /usr/local/lib/python3.7/dist-packages (from requests->transformers) (3.0.4)\n",
            "Requirement already satisfied: urllib3!=1.25.0,!=1.25.1,<1.26,>=1.21.1 in /usr/local/lib/python3.7/dist-packages (from requests->transformers) (1.24.3)\n",
            "Requirement already satisfied: idna<3,>=2.5 in /usr/local/lib/python3.7/dist-packages (from requests->transformers) (2.10)\n",
            "Requirement already satisfied: joblib in /usr/local/lib/python3.7/dist-packages (from sacremoses->transformers) (1.0.1)\n",
            "Requirement already satisfied: six in /usr/local/lib/python3.7/dist-packages (from sacremoses->transformers) (1.15.0)\n",
            "Requirement already satisfied: click in /usr/local/lib/python3.7/dist-packages (from sacremoses->transformers) (7.1.2)\n"
          ],
          "name": "stdout"
        }
      ]
    },
    {
      "cell_type": "code",
      "metadata": {
        "colab": {
          "base_uri": "https://localhost:8080/"
        },
        "id": "VkH6CMd07Ji5",
        "outputId": "19869733-4eb6-47b8-ba85-ba296b626b09"
      },
      "source": [
        "!pip install pydub"
      ],
      "execution_count": 4,
      "outputs": [
        {
          "output_type": "stream",
          "text": [
            "Requirement already satisfied: pydub in /usr/local/lib/python3.7/dist-packages (0.25.1)\n"
          ],
          "name": "stdout"
        }
      ]
    },
    {
      "cell_type": "code",
      "metadata": {
        "colab": {
          "base_uri": "https://localhost:8080/"
        },
        "id": "TO00bhQw7M_4",
        "outputId": "1cf5ed70-f3c3-4616-8e87-e6924afd9077"
      },
      "source": [
        "!pip install punctuator==0.9.6"
      ],
      "execution_count": 5,
      "outputs": [
        {
          "output_type": "stream",
          "text": [
            "Requirement already satisfied: punctuator==0.9.6 in /usr/local/lib/python3.7/dist-packages (0.9.6)\n",
            "Requirement already satisfied: numpy>=1.17.2 in /usr/local/lib/python3.7/dist-packages (from punctuator==0.9.6) (1.19.5)\n",
            "Requirement already satisfied: theano>=1.0.4 in /usr/local/lib/python3.7/dist-packages (from punctuator==0.9.6) (1.0.5)\n",
            "Requirement already satisfied: gdown>=3.8.3 in /usr/local/lib/python3.7/dist-packages (from punctuator==0.9.6) (3.13.0)\n",
            "Requirement already satisfied: nltk>=3.4.5 in /usr/local/lib/python3.7/dist-packages (from punctuator==0.9.6) (3.6.2)\n",
            "Requirement already satisfied: requests[socks]>=2.12.0 in /usr/local/lib/python3.7/dist-packages (from gdown>=3.8.3->punctuator==0.9.6) (2.23.0)\n",
            "Requirement already satisfied: six in /usr/local/lib/python3.7/dist-packages (from gdown>=3.8.3->punctuator==0.9.6) (1.15.0)\n",
            "Requirement already satisfied: filelock in /usr/local/lib/python3.7/dist-packages (from gdown>=3.8.3->punctuator==0.9.6) (3.0.12)\n",
            "Requirement already satisfied: tqdm in /usr/local/lib/python3.7/dist-packages (from gdown>=3.8.3->punctuator==0.9.6) (4.41.1)\n",
            "Requirement already satisfied: joblib in /usr/local/lib/python3.7/dist-packages (from nltk>=3.4.5->punctuator==0.9.6) (1.0.1)\n",
            "Requirement already satisfied: click in /usr/local/lib/python3.7/dist-packages (from nltk>=3.4.5->punctuator==0.9.6) (7.1.2)\n",
            "Requirement already satisfied: regex in /usr/local/lib/python3.7/dist-packages (from nltk>=3.4.5->punctuator==0.9.6) (2019.12.20)\n",
            "Requirement already satisfied: urllib3!=1.25.0,!=1.25.1,<1.26,>=1.21.1 in /usr/local/lib/python3.7/dist-packages (from requests[socks]>=2.12.0->gdown>=3.8.3->punctuator==0.9.6) (1.24.3)\n",
            "Requirement already satisfied: idna<3,>=2.5 in /usr/local/lib/python3.7/dist-packages (from requests[socks]>=2.12.0->gdown>=3.8.3->punctuator==0.9.6) (2.10)\n",
            "Requirement already satisfied: chardet<4,>=3.0.2 in /usr/local/lib/python3.7/dist-packages (from requests[socks]>=2.12.0->gdown>=3.8.3->punctuator==0.9.6) (3.0.4)\n",
            "Requirement already satisfied: certifi>=2017.4.17 in /usr/local/lib/python3.7/dist-packages (from requests[socks]>=2.12.0->gdown>=3.8.3->punctuator==0.9.6) (2021.5.30)\n",
            "Requirement already satisfied: PySocks!=1.5.7,>=1.5.6 in /usr/local/lib/python3.7/dist-packages (from requests[socks]>=2.12.0->gdown>=3.8.3->punctuator==0.9.6) (1.7.1)\n",
            "Requirement already satisfied: scipy>=0.14 in /usr/local/lib/python3.7/dist-packages (from theano>=1.0.4->punctuator==0.9.6) (1.4.1)\n"
          ],
          "name": "stdout"
        }
      ]
    },
    {
      "cell_type": "code",
      "metadata": {
        "colab": {
          "base_uri": "https://localhost:8080/"
        },
        "id": "F6yy3JZQ8KDT",
        "outputId": "9b8aedc8-81a1-4c7e-9aae-1f89c0e42801"
      },
      "source": [
        "!pip install gdown"
      ],
      "execution_count": 6,
      "outputs": [
        {
          "output_type": "stream",
          "text": [
            "Requirement already satisfied: gdown in /usr/local/lib/python3.7/dist-packages (3.13.0)\n",
            "Requirement already satisfied: six in /usr/local/lib/python3.7/dist-packages (from gdown) (1.15.0)\n",
            "Requirement already satisfied: requests[socks]>=2.12.0 in /usr/local/lib/python3.7/dist-packages (from gdown) (2.23.0)\n",
            "Requirement already satisfied: tqdm in /usr/local/lib/python3.7/dist-packages (from gdown) (4.41.1)\n",
            "Requirement already satisfied: filelock in /usr/local/lib/python3.7/dist-packages (from gdown) (3.0.12)\n",
            "Requirement already satisfied: idna<3,>=2.5 in /usr/local/lib/python3.7/dist-packages (from requests[socks]>=2.12.0->gdown) (2.10)\n",
            "Requirement already satisfied: certifi>=2017.4.17 in /usr/local/lib/python3.7/dist-packages (from requests[socks]>=2.12.0->gdown) (2021.5.30)\n",
            "Requirement already satisfied: chardet<4,>=3.0.2 in /usr/local/lib/python3.7/dist-packages (from requests[socks]>=2.12.0->gdown) (3.0.4)\n",
            "Requirement already satisfied: urllib3!=1.25.0,!=1.25.1,<1.26,>=1.21.1 in /usr/local/lib/python3.7/dist-packages (from requests[socks]>=2.12.0->gdown) (1.24.3)\n",
            "Requirement already satisfied: PySocks!=1.5.7,>=1.5.6 in /usr/local/lib/python3.7/dist-packages (from requests[socks]>=2.12.0->gdown) (1.7.1)\n"
          ],
          "name": "stdout"
        }
      ]
    },
    {
      "cell_type": "code",
      "metadata": {
        "colab": {
          "base_uri": "https://localhost:8080/"
        },
        "id": "XIrP8w278ssb",
        "outputId": "1ef0537e-821c-4eb9-913e-5c5831d52335"
      },
      "source": [
        "!pip install autocorrect"
      ],
      "execution_count": 7,
      "outputs": [
        {
          "output_type": "stream",
          "text": [
            "Requirement already satisfied: autocorrect in /usr/local/lib/python3.7/dist-packages (2.5.0)\n"
          ],
          "name": "stdout"
        }
      ]
    },
    {
      "cell_type": "code",
      "metadata": {
        "colab": {
          "base_uri": "https://localhost:8080/"
        },
        "id": "X9YXihAR9NIJ",
        "outputId": "e72bb994-fa3e-4ae6-d77d-a411e464c7b2"
      },
      "source": [
        "!pip install gensim"
      ],
      "execution_count": 8,
      "outputs": [
        {
          "output_type": "stream",
          "text": [
            "Requirement already satisfied: gensim in /usr/local/lib/python3.7/dist-packages (3.6.0)\n",
            "Requirement already satisfied: numpy>=1.11.3 in /usr/local/lib/python3.7/dist-packages (from gensim) (1.19.5)\n",
            "Requirement already satisfied: six>=1.5.0 in /usr/local/lib/python3.7/dist-packages (from gensim) (1.15.0)\n",
            "Requirement already satisfied: scipy>=0.18.1 in /usr/local/lib/python3.7/dist-packages (from gensim) (1.4.1)\n",
            "Requirement already satisfied: smart-open>=1.2.1 in /usr/local/lib/python3.7/dist-packages (from gensim) (5.1.0)\n"
          ],
          "name": "stdout"
        }
      ]
    },
    {
      "cell_type": "code",
      "metadata": {
        "colab": {
          "base_uri": "https://localhost:8080/"
        },
        "id": "v8b6cZ2-9qad",
        "outputId": "007191ff-a6dc-4586-8067-c2f93114bf65"
      },
      "source": [
        "!pip install crepe"
      ],
      "execution_count": 9,
      "outputs": [
        {
          "output_type": "stream",
          "text": [
            "Requirement already satisfied: crepe in /usr/local/lib/python3.7/dist-packages (0.0.12)\n",
            "Requirement already satisfied: matplotlib>=2.1.0 in /usr/local/lib/python3.7/dist-packages (from crepe) (3.2.2)\n",
            "Requirement already satisfied: imageio>=2.3.0 in /usr/local/lib/python3.7/dist-packages (from crepe) (2.4.1)\n",
            "Requirement already satisfied: scipy>=1.0.0 in /usr/local/lib/python3.7/dist-packages (from crepe) (1.4.1)\n",
            "Requirement already satisfied: hmmlearn<0.3.0,>=0.2.0 in /usr/local/lib/python3.7/dist-packages (from crepe) (0.2.6)\n",
            "Requirement already satisfied: resampy<0.3.0,>=0.2.0 in /usr/local/lib/python3.7/dist-packages (from crepe) (0.2.2)\n",
            "Requirement already satisfied: numpy>=1.14.0 in /usr/local/lib/python3.7/dist-packages (from crepe) (1.19.5)\n",
            "Requirement already satisfied: h5py in /usr/local/lib/python3.7/dist-packages (from crepe) (3.1.0)\n",
            "Requirement already satisfied: scikit-learn>=0.16 in /usr/local/lib/python3.7/dist-packages (from crepe) (0.22.2.post1)\n",
            "Requirement already satisfied: pillow in /usr/local/lib/python3.7/dist-packages (from imageio>=2.3.0->crepe) (7.1.2)\n",
            "Requirement already satisfied: cycler>=0.10 in /usr/local/lib/python3.7/dist-packages (from matplotlib>=2.1.0->crepe) (0.10.0)\n",
            "Requirement already satisfied: kiwisolver>=1.0.1 in /usr/local/lib/python3.7/dist-packages (from matplotlib>=2.1.0->crepe) (1.3.1)\n",
            "Requirement already satisfied: pyparsing!=2.0.4,!=2.1.2,!=2.1.6,>=2.0.1 in /usr/local/lib/python3.7/dist-packages (from matplotlib>=2.1.0->crepe) (2.4.7)\n",
            "Requirement already satisfied: python-dateutil>=2.1 in /usr/local/lib/python3.7/dist-packages (from matplotlib>=2.1.0->crepe) (2.8.1)\n",
            "Requirement already satisfied: six in /usr/local/lib/python3.7/dist-packages (from cycler>=0.10->matplotlib>=2.1.0->crepe) (1.15.0)\n",
            "Requirement already satisfied: numba>=0.32 in /usr/local/lib/python3.7/dist-packages (from resampy<0.3.0,>=0.2.0->crepe) (0.51.2)\n",
            "Requirement already satisfied: llvmlite<0.35,>=0.34.0.dev0 in /usr/local/lib/python3.7/dist-packages (from numba>=0.32->resampy<0.3.0,>=0.2.0->crepe) (0.34.0)\n",
            "Requirement already satisfied: setuptools in /usr/local/lib/python3.7/dist-packages (from numba>=0.32->resampy<0.3.0,>=0.2.0->crepe) (57.2.0)\n",
            "Requirement already satisfied: joblib>=0.11 in /usr/local/lib/python3.7/dist-packages (from scikit-learn>=0.16->crepe) (1.0.1)\n",
            "Requirement already satisfied: cached-property in /usr/local/lib/python3.7/dist-packages (from h5py->crepe) (1.5.2)\n"
          ],
          "name": "stdout"
        }
      ]
    },
    {
      "cell_type": "code",
      "metadata": {
        "colab": {
          "base_uri": "https://localhost:8080/"
        },
        "id": "L12rW0o-WEFc",
        "outputId": "c71a5ade-a99d-40b1-ac3f-609a310cbbe9"
      },
      "source": [
        "!pip install fuzzywuzzy[speedup]"
      ],
      "execution_count": 10,
      "outputs": [
        {
          "output_type": "stream",
          "text": [
            "Requirement already satisfied: fuzzywuzzy[speedup] in /usr/local/lib/python3.7/dist-packages (0.18.0)\n",
            "Requirement already satisfied: python-levenshtein>=0.12 in /usr/local/lib/python3.7/dist-packages (from fuzzywuzzy[speedup]) (0.12.2)\n",
            "Requirement already satisfied: setuptools in /usr/local/lib/python3.7/dist-packages (from python-levenshtein>=0.12->fuzzywuzzy[speedup]) (57.2.0)\n"
          ],
          "name": "stdout"
        }
      ]
    },
    {
      "cell_type": "code",
      "metadata": {
        "colab": {
          "base_uri": "https://localhost:8080/"
        },
        "id": "3fI5vZXpD_Zf",
        "outputId": "b81b885a-9b85-4a9e-faf4-237ab1fc36d9"
      },
      "source": [
        "!pip install git+https://github.com/tagucci/pythonrouge.git"
      ],
      "execution_count": 11,
      "outputs": [
        {
          "output_type": "stream",
          "text": [
            "Collecting git+https://github.com/tagucci/pythonrouge.git\n",
            "  Cloning https://github.com/tagucci/pythonrouge.git to /tmp/pip-req-build-buxsvj4j\n",
            "  Running command git clone -q https://github.com/tagucci/pythonrouge.git /tmp/pip-req-build-buxsvj4j\n"
          ],
          "name": "stdout"
        }
      ]
    },
    {
      "cell_type": "code",
      "metadata": {
        "colab": {
          "base_uri": "https://localhost:8080/"
        },
        "id": "Sw1q4HGQEH_y",
        "outputId": "635dc969-c77a-4cda-c53c-2a3f8eae2cd9"
      },
      "source": [
        "!apt-get install -y cpanminus"
      ],
      "execution_count": 12,
      "outputs": [
        {
          "output_type": "stream",
          "text": [
            "Reading package lists... Done\n",
            "Building dependency tree       \n",
            "Reading state information... Done\n",
            "cpanminus is already the newest version (1.7043-1).\n",
            "0 upgraded, 0 newly installed, 0 to remove and 40 not upgraded.\n"
          ],
          "name": "stdout"
        }
      ]
    },
    {
      "cell_type": "markdown",
      "metadata": {
        "id": "DsUE36HX7Tiz"
      },
      "source": [
        "#Imports"
      ]
    },
    {
      "cell_type": "code",
      "metadata": {
        "id": "xn8eGVa17TMr"
      },
      "source": [
        "import os\n",
        "from os.path import exists, join, basename, splitext\n",
        "from pydub import AudioSegment\n",
        "from pydub.silence import split_on_silence"
      ],
      "execution_count": 13,
      "outputs": []
    },
    {
      "cell_type": "code",
      "metadata": {
        "id": "6voZZDxY7yua"
      },
      "source": [
        "import torch\n",
        "device = torch.device(\"cuda:0\" if torch.cuda.is_available() else \"cpu\")"
      ],
      "execution_count": 14,
      "outputs": []
    },
    {
      "cell_type": "code",
      "metadata": {
        "id": "lvuYIphQ8Csp"
      },
      "source": [
        "import librosa\n",
        "import torch\n",
        "from transformers import Wav2Vec2ForCTC, Wav2Vec2Tokenizer"
      ],
      "execution_count": 15,
      "outputs": []
    },
    {
      "cell_type": "code",
      "metadata": {
        "colab": {
          "base_uri": "https://localhost:8080/"
        },
        "id": "OA5gFVptoViN",
        "outputId": "cd3eb34a-218c-4a0a-eb91-744205e11565"
      },
      "source": [
        "tokenizer = Wav2Vec2Tokenizer.from_pretrained(\"facebook/wav2vec2-base-960h\")\n",
        "model = Wav2Vec2ForCTC.from_pretrained(\"facebook/wav2vec2-base-960h\").to(\"cuda\")"
      ],
      "execution_count": 16,
      "outputs": [
        {
          "output_type": "stream",
          "text": [
            "The tokenizer class you load from this checkpoint is not the same type as the class this function is called from. It may result in unexpected tokenization. \n",
            "The tokenizer class you load from this checkpoint is 'Wav2Vec2CTCTokenizer'. \n",
            "The class this function is called from is 'Wav2Vec2Tokenizer'.\n",
            "/usr/local/lib/python3.7/dist-packages/transformers/models/wav2vec2/tokenization_wav2vec2.py:419: FutureWarning: The class `Wav2Vec2Tokenizer` is deprecated and will be removed in version 5 of Transformers. Please use `Wav2Vec2Processor` or `Wav2Vec2CTCTokenizer` instead.\n",
            "  FutureWarning,\n",
            "Some weights of Wav2Vec2ForCTC were not initialized from the model checkpoint at facebook/wav2vec2-base-960h and are newly initialized: ['wav2vec2.masked_spec_embed']\n",
            "You should probably TRAIN this model on a down-stream task to be able to use it for predictions and inference.\n"
          ],
          "name": "stderr"
        }
      ]
    },
    {
      "cell_type": "code",
      "metadata": {
        "id": "H2XWQtSN8PbY"
      },
      "source": [
        "import gdown"
      ],
      "execution_count": 17,
      "outputs": []
    },
    {
      "cell_type": "code",
      "metadata": {
        "colab": {
          "base_uri": "https://localhost:8080/",
          "height": 103
        },
        "id": "_nVGFm_a_3Ls",
        "outputId": "3f2bb9aa-64d4-4a5a-cc87-03b895be1152"
      },
      "source": [
        "''' -*- importing gdown to download the Demo Europarl model -*- '''\n",
        "\n",
        "url = 'https://drive.google.com/uc?id=0B7BsN5f2F1fZd1Q0aXlrUDhDbnM'\n",
        "output = 'Demo-Europarl-EN.pcl'\n",
        "gdown.download(url, output, quiet=False)"
      ],
      "execution_count": 18,
      "outputs": [
        {
          "output_type": "stream",
          "text": [
            "Downloading...\n",
            "From: https://drive.google.com/uc?id=0B7BsN5f2F1fZd1Q0aXlrUDhDbnM\n",
            "To: /content/Demo-Europarl-EN.pcl\n",
            "144MB [00:00, 295MB/s]\n"
          ],
          "name": "stderr"
        },
        {
          "output_type": "execute_result",
          "data": {
            "application/vnd.google.colaboratory.intrinsic+json": {
              "type": "string"
            },
            "text/plain": [
              "'Demo-Europarl-EN.pcl'"
            ]
          },
          "metadata": {
            "tags": []
          },
          "execution_count": 18
        }
      ]
    },
    {
      "cell_type": "code",
      "metadata": {
        "id": "jHXG6eZ08at9"
      },
      "source": [
        "from punctuator import Punctuator"
      ],
      "execution_count": 19,
      "outputs": []
    },
    {
      "cell_type": "code",
      "metadata": {
        "colab": {
          "base_uri": "https://localhost:8080/"
        },
        "id": "yqF9pdib8f9s",
        "outputId": "60e14723-1e71-4b13-fad0-b69e8b2652d4"
      },
      "source": [
        "import nltk\n",
        "nltk.download('stopwords')\n",
        "nltk.download('wordnet')\n",
        "nltk.download('punkt')\n",
        "nltk.download('averaged_perceptron_tagger') "
      ],
      "execution_count": 20,
      "outputs": [
        {
          "output_type": "stream",
          "text": [
            "[nltk_data] Downloading package stopwords to /root/nltk_data...\n",
            "[nltk_data]   Package stopwords is already up-to-date!\n",
            "[nltk_data] Downloading package wordnet to /root/nltk_data...\n",
            "[nltk_data]   Package wordnet is already up-to-date!\n",
            "[nltk_data] Downloading package punkt to /root/nltk_data...\n",
            "[nltk_data]   Package punkt is already up-to-date!\n",
            "[nltk_data] Downloading package averaged_perceptron_tagger to\n",
            "[nltk_data]     /root/nltk_data...\n",
            "[nltk_data]   Package averaged_perceptron_tagger is already up-to-\n",
            "[nltk_data]       date!\n"
          ],
          "name": "stderr"
        },
        {
          "output_type": "execute_result",
          "data": {
            "text/plain": [
              "True"
            ]
          },
          "metadata": {
            "tags": []
          },
          "execution_count": 20
        }
      ]
    },
    {
      "cell_type": "code",
      "metadata": {
        "id": "bWN2j7Y08nWS"
      },
      "source": [
        "from nltk.tokenize import sent_tokenize, word_tokenize\n",
        "from nltk.stem import WordNetLemmatizer\n",
        "wordnet_lemmatizer = WordNetLemmatizer()"
      ],
      "execution_count": 21,
      "outputs": []
    },
    {
      "cell_type": "code",
      "metadata": {
        "id": "7EUS4VRF8y1V"
      },
      "source": [
        "from autocorrect import Speller"
      ],
      "execution_count": 22,
      "outputs": []
    },
    {
      "cell_type": "code",
      "metadata": {
        "id": "w8DOst2m85He"
      },
      "source": [
        "from sklearn.feature_extraction.text import CountVectorizer \n",
        "import numpy as np"
      ],
      "execution_count": 23,
      "outputs": []
    },
    {
      "cell_type": "code",
      "metadata": {
        "colab": {
          "base_uri": "https://localhost:8080/"
        },
        "id": "o7gFQphz8_T_",
        "outputId": "34df0ff5-b637-47c8-f0a5-a4ca9b9b849f"
      },
      "source": [
        "from nltk.corpus import stopwords\n",
        "nltk.download('stopwords')\n",
        "from nltk.tokenize import word_tokenize"
      ],
      "execution_count": 24,
      "outputs": [
        {
          "output_type": "stream",
          "text": [
            "[nltk_data] Downloading package stopwords to /root/nltk_data...\n",
            "[nltk_data]   Package stopwords is already up-to-date!\n"
          ],
          "name": "stderr"
        }
      ]
    },
    {
      "cell_type": "code",
      "metadata": {
        "id": "pEkYTNRS9H2U"
      },
      "source": [
        "import matplotlib.pyplot as plt"
      ],
      "execution_count": 25,
      "outputs": []
    },
    {
      "cell_type": "code",
      "metadata": {
        "id": "7DiyYXrf9UMw"
      },
      "source": [
        "from gensim.summarization import keywords"
      ],
      "execution_count": 26,
      "outputs": []
    },
    {
      "cell_type": "code",
      "metadata": {
        "id": "NasVxZfl9aKC"
      },
      "source": [
        "from gensim.summarization import summarize"
      ],
      "execution_count": 27,
      "outputs": []
    },
    {
      "cell_type": "code",
      "metadata": {
        "id": "x6Oy7HIS9hg-"
      },
      "source": [
        "from pydub.utils import make_chunks"
      ],
      "execution_count": 28,
      "outputs": []
    },
    {
      "cell_type": "code",
      "metadata": {
        "id": "1Qdn2zEwFH_D"
      },
      "source": [
        "from pythonrouge.pythonrouge import Pythonrouge"
      ],
      "execution_count": 29,
      "outputs": []
    },
    {
      "cell_type": "code",
      "metadata": {
        "id": "XiFkn4eX_Uup"
      },
      "source": [
        "import crepe\n",
        "import pandas as pd\n",
        "import math"
      ],
      "execution_count": 30,
      "outputs": []
    },
    {
      "cell_type": "code",
      "metadata": {
        "id": "ZqKGHXGoWNzj"
      },
      "source": [
        "from fuzzywuzzy import fuzz\n",
        "from fuzzywuzzy import process"
      ],
      "execution_count": 31,
      "outputs": []
    },
    {
      "cell_type": "markdown",
      "metadata": {
        "id": "vI2rFRDe8RXk"
      },
      "source": [
        "#Creating Files"
      ]
    },
    {
      "cell_type": "code",
      "metadata": {
        "id": "wm7kfsvL-Uek"
      },
      "source": [
        "def creating_files():\n",
        "  inference_file = open(\"inference.txt\",\"w+\")\n",
        "  inference_file.truncate(0)\n",
        "  inference_file.close()\n",
        "  punctuated_file = open(\"PunctuatedText.txt\",\"w+\")\n",
        "  punctuated_file.truncate(0)\n",
        "  punctuated_file.close()\n",
        "  summarized_file = open(\"SummarizedText.txt\",\"w+\")\n",
        "  summarized_file.truncate(0)\n",
        "  summarized_file.close()\n",
        "  lemmatized_file = open(\"LemmatizedText.txt\",\"w+\")\n",
        "  lemmatized_file.truncate(0)\n",
        "  lemmatized_file.close()\n",
        "  final_infer_file = open(\"finalInference.txt\",\"w+\")\n",
        "  final_infer_file.truncate(0)\n",
        "  final_infer_file.close()"
      ],
      "execution_count": 32,
      "outputs": []
    },
    {
      "cell_type": "code",
      "metadata": {
        "id": "cHQyg-_2CZ5h"
      },
      "source": [
        "creating_files()"
      ],
      "execution_count": 33,
      "outputs": []
    },
    {
      "cell_type": "code",
      "metadata": {
        "colab": {
          "base_uri": "https://localhost:8080/",
          "height": 35
        },
        "id": "j9LjACB42bAo",
        "outputId": "a735e14b-84cf-482d-97b3-3f44af848be9"
      },
      "source": [
        "''' -*- testing YouTube Display  -*- '''\n",
        "# from IPython.display import YouTubeVideo\n",
        "#networking lecture id='2xbAiKyTveU'\n",
        "\n",
        "#machine lecture id='HcqpanDadyQ'\n",
        "# YouTubeVideo(YOUTUBE_ID)\n",
        "\n",
        "# YOUTUBE_ID=\"\"\n",
        "# def setYoutubeID(ID):\n",
        "#   YOUTUBE_ID = ID"
      ],
      "execution_count": 34,
      "outputs": [
        {
          "output_type": "execute_result",
          "data": {
            "application/vnd.google.colaboratory.intrinsic+json": {
              "type": "string"
            },
            "text/plain": [
              "' -*- testing YouTube Display  -*- '"
            ]
          },
          "metadata": {
            "tags": []
          },
          "execution_count": 34
        }
      ]
    },
    {
      "cell_type": "markdown",
      "metadata": {
        "id": "x6N0gUez9fBv"
      },
      "source": [
        "#Downloading the Audio from Youtube Video"
      ]
    },
    {
      "cell_type": "code",
      "metadata": {
        "id": "WO8vmrUP2xN9"
      },
      "source": [
        "''' -*- executing Deep Speech Model -*- '''\n",
        "def dowloadAudio(YOUTUBE_ID):\n",
        "  !youtube-dl --extract-audio --audio-format wav --output \"YoutubeVid.%(ext)s\" https://www.youtube.com/watch\\?v\\={YOUTUBE_ID}\n"
      ],
      "execution_count": 35,
      "outputs": []
    },
    {
      "cell_type": "markdown",
      "metadata": {
        "id": "_VvcVBMKl2n0"
      },
      "source": [
        "#Chunking the Youtube Audio on the basis of silence"
      ]
    },
    {
      "cell_type": "code",
      "metadata": {
        "id": "W64hy0oOHjp_"
      },
      "source": [
        "def chunk_on_silence():\n",
        "  if not exists(\"YoutubeVidChunks\"):\n",
        "    os.mkdir(\"YoutubeVidChunks\")\n",
        "  sound_file = AudioSegment.from_wav(\"YoutubeVid.wav\")\n",
        "  audio_chunks = split_on_silence(sound_file, min_silence_len=2000, silence_thresh=-40, keep_silence=1000 )\n",
        "  for i, chunk in enumerate(audio_chunks):\n",
        "    out_file = \"YoutubeVidChunks/chunk{0}.wav\".format(i)\n",
        "    chunk.export(out_file, format=\"wav\")\n",
        "  return audio_chunks"
      ],
      "execution_count": 36,
      "outputs": []
    },
    {
      "cell_type": "markdown",
      "metadata": {
        "id": "8VpHkB2Ifnxz"
      },
      "source": [
        "#Huggingface wav2vec2:\n",
        "https://www.analyticsvidhya.com/blog/2021/02/hugging-face-introduces-the-first-automatic-speech-recognition-model-wav2vec2/\n",
        "https://huggingface.co/facebook/wav2vec2-base-960h?\n"
      ]
    },
    {
      "cell_type": "code",
      "metadata": {
        "id": "vREa4KaV-_LV"
      },
      "source": [
        "#load model and tokenizer\n",
        "def wav2vec2(audio_chunks):\n",
        "  print(\"\\n\")\n",
        "  for i, chunk in enumerate(audio_chunks):\n",
        "    out_file = \"YoutubeVidChunks/chunk{0}.wav\".format(i)\n",
        "    speech, rate = librosa.load(out_file,sr=16000)\n",
        "    input_values = tokenizer(speech, return_tensors = 'pt').input_values\n",
        "    with torch.no_grad():\n",
        "            logits = model(input_values.to(\"cuda\")).logits\n",
        "    #Store predicted id's\n",
        "    predicted_ids = torch.argmax(logits, dim =-1)\n",
        "\n",
        "    #decode the audio to generate text\n",
        "    transcriptions = tokenizer.decode(predicted_ids[0]).lower()\n",
        "    with open('inference.txt', 'a+') as writefile:\n",
        "      writefile.write(transcriptions+\". \")\n",
        "  print(transcriptions)"
      ],
      "execution_count": 37,
      "outputs": []
    },
    {
      "cell_type": "code",
      "metadata": {
        "id": "63o27291h2t1"
      },
      "source": [
        ""
      ],
      "execution_count": 37,
      "outputs": []
    },
    {
      "cell_type": "markdown",
      "metadata": {
        "id": "hcXibLAqJdL6"
      },
      "source": [
        "#Pip Punctuator"
      ]
    },
    {
      "cell_type": "markdown",
      "metadata": {
        "id": "p8VSMxsaJiR9"
      },
      "source": [
        "Reference: https://pypi.org/project/punctuator/"
      ]
    },
    {
      "cell_type": "code",
      "metadata": {
        "id": "g8o7sUaPt0Yd"
      },
      "source": [
        "''' -*- punctuating the raw text output from Deep Speech using Pip Punctuator -*- '''\n",
        "import spacy\n",
        "\n",
        "def Punctuate():\n",
        "  f = open('inference.txt', \"r\")\n",
        "  lines = f.readline()\n",
        "  f.close()\n",
        "  # p = Punctuator('Demo-Europarl-EN.pcl')\n",
        "  \n",
        "  # punctLines=p.punctuate(lines)\n",
        "  nlp = spacy.load('en_core_web_sm')\n",
        "  # text = \"I was expecting a surplus of cute close-ups but Burton does surprisingly little to win us over He's never been big on treacle but a bit more warmth in this chilly movie which barely follows the outline of the 1941 original would have gone a long way\"\n",
        "  text_sentences = nlp(lines)\n",
        "  for sentence in text_sentences.sents:\n",
        "        print(sentence.text)\n",
        "        with open('PunctuatedText.txt', 'a+') as writefile:\n",
        "              writefile.write(sentence.text+\". \")\n",
        "  #print(punctLines)\n",
        "  \n"
      ],
      "execution_count": 38,
      "outputs": []
    },
    {
      "cell_type": "markdown",
      "metadata": {
        "id": "il_IhagEmIyV"
      },
      "source": [
        "Auto-correcting the Text"
      ]
    },
    {
      "cell_type": "code",
      "metadata": {
        "id": "rKWvaiA80IVM"
      },
      "source": [
        "def AutoCorrection():\n",
        "  f = open('PunctuatedText.txt', \"r\")\n",
        "  lines = f.readline()\n",
        "  f.close()\n",
        "  spell = Speller()\n",
        "  correct_spell=spell(lines)\n",
        "  print(correct_spell)\n",
        "  lines_list = nltk.tokenize.sent_tokenize(correct_spell)\n",
        "  with open('finalInference.txt', 'w+') as writefile:\n",
        "    writefile.write(correct_spell)\n"
      ],
      "execution_count": 39,
      "outputs": []
    },
    {
      "cell_type": "markdown",
      "metadata": {
        "id": "lP9oH399LxhE"
      },
      "source": [
        "#NLTK Preprocessing"
      ]
    },
    {
      "cell_type": "markdown",
      "metadata": {
        "id": "5AayV4HiMEvU"
      },
      "source": [
        "Reference: https://www.datacamp.com/community/tutorials/stemming-lemmatization-python"
      ]
    },
    {
      "cell_type": "code",
      "metadata": {
        "id": "8jt8nmx4qTO_"
      },
      "source": [
        "''' -*- Function for word tokenization and lemmatization -*- '''\n",
        "\n",
        "def lemmSentence(sentence):\n",
        "    token_words=word_tokenize(sentence)\n",
        "    token_words\n",
        "    lemm_sentence=[]\n",
        "    for word in token_words:\n",
        "        lemm_sentence.append(wordnet_lemmatizer.lemmatize(word))\n",
        "        lemm_sentence.append(\" \")\n",
        "    return \"\".join(lemm_sentence)\n"
      ],
      "execution_count": 40,
      "outputs": []
    },
    {
      "cell_type": "code",
      "metadata": {
        "id": "_TttxnPa_Wly"
      },
      "source": [
        "def lemmatizedText():\n",
        "  lemm_file= open(\"LemmatizedText.txt\",\"w+\")\n",
        "  sentences=\"\"\n",
        "  f = open('finalInference.txt', \"r\")\n",
        "  lines = f.readline()\n",
        "  f.close()\n",
        "  lines_list = nltk.tokenize.sent_tokenize(lines)\n",
        "  for line in lines_list:\n",
        "      lemm_sentence=lemmSentence(line)\n",
        "      lemm_file.write(lemm_sentence)\n",
        "      sentences+=lemm_sentence\n",
        "  lemm_file.close()\n",
        "  return sentences"
      ],
      "execution_count": 41,
      "outputs": []
    },
    {
      "cell_type": "markdown",
      "metadata": {
        "id": "0LvU35FYMS6K"
      },
      "source": [
        "#Count Vectorizer"
      ]
    },
    {
      "cell_type": "markdown",
      "metadata": {
        "id": "iFiAw4UfMV19"
      },
      "source": [
        "Reference: https://scikit-learn.org/stable/modules/generated/sklearn.feature_extraction.text.CountVectorizer.html"
      ]
    },
    {
      "cell_type": "markdown",
      "metadata": {
        "id": "qCC75JRvmWd6"
      },
      "source": [
        "#Extracting keywords and key sentences using Gensim"
      ]
    },
    {
      "cell_type": "code",
      "metadata": {
        "id": "edwbqajy2MPj"
      },
      "source": [
        "def extract_keywords():\n",
        "  f = open('LemmatizedText.txt', \"r\")\n",
        "  sentences = f.readline()\n",
        "  f.close()\n",
        "  key_terms=keywords(sentences,words=23)\n",
        "  print(key_terms)\n",
        "  keywords_list=key_terms.split()\n",
        "  topic_word=keywords_list[0]\n",
        "  print(\"Topic Word\",topic_word)\n",
        "  return key_terms, keywords_list, topic_word"
      ],
      "execution_count": 42,
      "outputs": []
    },
    {
      "cell_type": "code",
      "metadata": {
        "id": "KyiQTtL2A7mp"
      },
      "source": [
        "def extract_nouns(key_terms):\n",
        "  is_noun = lambda pos: pos[:2] == 'NN'\n",
        "  # do the nlp stuff\n",
        "  tokenized = nltk.word_tokenize(key_terms)\n",
        "  keyword_nouns = [word for (word, pos) in nltk.pos_tag(tokenized) if is_noun(pos)] \n",
        "  print(keyword_nouns)\n",
        "  return keyword_nouns"
      ],
      "execution_count": 43,
      "outputs": []
    },
    {
      "cell_type": "code",
      "metadata": {
        "id": "X0ofL6scmlhw"
      },
      "source": [
        "def summarize_text():\n",
        "  f = open('finalInference.txt', \"r\")\n",
        "  sentences = f.readline()\n",
        "  f.close()\n",
        "  summarized_text=summarize(sentences,ratio=0.3)\n",
        "  print(summarized_text)\n",
        "  with open('SummarizedText.txt', 'w+') as writefile:\n",
        "    writefile.write(summarized_text)"
      ],
      "execution_count": 44,
      "outputs": []
    },
    {
      "cell_type": "code",
      "metadata": {
        "id": "adm7YUlmSFKB"
      },
      "source": [
        "with open('SummarizedText.txt') as f:\n",
        "    Summarized_lines = f.readlines()\n",
        "with open('finalInference.txt') as f:\n",
        "    Inferenced_lines = f.readlines()"
      ],
      "execution_count": 45,
      "outputs": []
    },
    {
      "cell_type": "markdown",
      "metadata": {
        "id": "OEQ3R2aU1pmS"
      },
      "source": [
        "#ROUGE EVALUATION"
      ]
    },
    {
      "cell_type": "code",
      "metadata": {
        "id": "_iKLq5Pqhli1"
      },
      "source": [
        "# !pip install git+https://github.com/tagucci/pythonrouge.git"
      ],
      "execution_count": 46,
      "outputs": []
    },
    {
      "cell_type": "code",
      "metadata": {
        "id": "5x0YpD9ls1Ad"
      },
      "source": [
        "# !apt-get install -y cpanminus\n",
        "\n",
        "# !cpanm --force XML::Parser"
      ],
      "execution_count": 47,
      "outputs": []
    },
    {
      "cell_type": "code",
      "metadata": {
        "id": "K5X_s8Wxhnm_"
      },
      "source": [
        "# from pythonrouge.pythonrouge import Pythonrouge\n",
        "\n",
        " \n",
        "\n",
        "# # system summary(prediction) & reference summary\n",
        "# summary = [[Summarized_lines]]\n",
        "\n",
        "# reference = [[[Inferenced_lines]]]\n",
        "\n",
        "# # initialize setting of ROUGE to evaluate ROUGE-1, 2, W and SU4\n",
        "\n",
        "# rouge = Pythonrouge(summary_file_exist=False,\n",
        "\n",
        "#                     summary=summary, reference=reference,\n",
        "\n",
        "#                     n_gram=2, ROUGE_SU4=True, ROUGE_L=True,ROUGE_W=True,ROUGE_W_Weight=1.2,\n",
        "\n",
        "#                     recall_only=False, stemming=True, stopwords=True,\n",
        "\n",
        "#                     word_level=True, length_limit=True, length=50,\n",
        "\n",
        "#                     use_cf=False, cf=95, scoring_formula='average',\n",
        "\n",
        "#                     resampling=True, samples=1000, favor=True, p=0.5)\n",
        "\n",
        "# score = rouge.calc_score()\n",
        "\n",
        "# print(score)"
      ],
      "execution_count": 48,
      "outputs": []
    },
    {
      "cell_type": "code",
      "metadata": {
        "id": "44LcE5xsFNGn"
      },
      "source": [
        "\n",
        "# def Evaluate_Rouge:\n",
        "#   summary = [[Summarized_lines]]\n",
        "\n",
        "#   reference = [[[Inferenced_lines]]]\n",
        "\n",
        "\n",
        "#   rouge = Pythonrouge(summary_file_exist=False,\n",
        "\n",
        "#                       summary=summary, reference=reference,\n",
        "\n",
        "#                       n_gram=2, ROUGE_SU4=True, ROUGE_L=True,ROUGE_W=True,ROUGE_W_Weight=1.2,\n",
        "\n",
        "#                       recall_only=False, stemming=True, stopwords=True,\n",
        "\n",
        "#                       word_level=True, length_limit=True, length=50,\n",
        "\n",
        "#                       use_cf=False, cf=95, scoring_formula='average',\n",
        "\n",
        "#                       resampling=True, samples=1000, favor=True, p=0.5)\n",
        "\n",
        "#   score = rouge.calc_score()\n",
        "\n",
        "#   print(score)"
      ],
      "execution_count": 49,
      "outputs": []
    },
    {
      "cell_type": "code",
      "metadata": {
        "id": "J0RakBVYj-Hw"
      },
      "source": [
        "# rouge=list(score.keys())\n",
        "# r_score=list(score.values())"
      ],
      "execution_count": 50,
      "outputs": []
    },
    {
      "cell_type": "code",
      "metadata": {
        "id": "UTWQltraka54"
      },
      "source": [
        "# print(rouge)\n",
        "# print(r_score)"
      ],
      "execution_count": 51,
      "outputs": []
    },
    {
      "cell_type": "code",
      "metadata": {
        "id": "i-XMTNyF_Nnq"
      },
      "source": [
        "\n",
        "# rouge_12=rouge[0:6]\n",
        "# rscore_12=r_score[0:6]"
      ],
      "execution_count": 52,
      "outputs": []
    },
    {
      "cell_type": "code",
      "metadata": {
        "id": "Y5EoFRJl5p5l"
      },
      "source": [
        "# import numpy as np\n",
        "# import matplotlib.pyplot as plt\n",
        "# fig = plt.figure(figsize = (10, 5))\n",
        " \n",
        "# # ROUGE-1\n",
        "# plt.bar(rouge_12, rscore_12, color ='maroon')\n",
        "\n",
        "# plt.xlabel(\"ROUGE-1,2 Precision, Recall and F-Score\")\n",
        "# plt.ylabel(\"ROUGE-1,2 Scores\")\n",
        "# plt.title(\"ROUGE-1,2\")\n",
        "# plt.show()"
      ],
      "execution_count": 53,
      "outputs": []
    },
    {
      "cell_type": "code",
      "metadata": {
        "id": "Kl1O-Uh4_T3O"
      },
      "source": [
        "# rouge_LWS=rouge[6:15]\n",
        "# rscore_LWS=r_score[6:15]"
      ],
      "execution_count": 54,
      "outputs": []
    },
    {
      "cell_type": "code",
      "metadata": {
        "id": "_mHRHVch8cxb"
      },
      "source": [
        "\n",
        "# fig = plt.figure(figsize = (15, 5))\n",
        "# # ROUGE-2\n",
        "# plt.bar(rouge_LWS, rscore_LWS, color ='blue')\n",
        "\n",
        "# plt.xlabel(\"ROUGE-LSW Precision, Recall and F-Score\")\n",
        "# plt.ylabel(\"ROUGE-LSW Scores\")\n",
        "# plt.title(\"ROUGE-LSW\")\n",
        "# plt.show()"
      ],
      "execution_count": 55,
      "outputs": []
    },
    {
      "cell_type": "code",
      "metadata": {
        "id": "-t5K8i0gkawI"
      },
      "source": [
        "# rouge_1=rouge[0:3]\n",
        "# rouge_2=rouge[3:6]\n",
        "# rouge_L=rouge[6:9]\n",
        "# rouge_W=rouge[9:12]\n",
        "# rouge_SU=rouge[12:15]\n",
        "# rscore_1=r_score[0:3]\n",
        "# rscore_2=r_score[3:6]\n",
        "# rscore_L=r_score[6:9]\n",
        "# rscore_W=r_score[9:12]\n",
        "# rscore_SU=r_score[12:15]"
      ],
      "execution_count": 56,
      "outputs": []
    },
    {
      "cell_type": "code",
      "metadata": {
        "id": "8bSf5RvwBAYu"
      },
      "source": [
        ""
      ],
      "execution_count": 56,
      "outputs": []
    },
    {
      "cell_type": "code",
      "metadata": {
        "id": "2Z8ygvGyApJm"
      },
      "source": [
        "# import numpy as np\n",
        "# import matplotlib.pyplot as plt\n",
        "# fig = plt.subplots(figsize =(10, 5))\n",
        "# # ROUGE-1\n",
        "# barWidth=0.5\n",
        "# plt.bar(rouge_1, rscore_1, color ='maroon', width = barWidth,\n",
        "#         edgecolor ='grey', label ='ROUGE-1')\n",
        "# plt.bar(rouge_2, rscore_2, color ='blue', width = barWidth,\n",
        "#         edgecolor ='grey', label ='ROUGE-2')\n",
        "\n",
        "# plt.xlabel(\"ROUGE-1,2 Precision, Recall and F-Score\")\n",
        "# plt.ylabel(\"ROUGE-1,2 Scores\")\n",
        "# plt.title(\"ROUGE-1,2\")\n",
        "# plt.show()"
      ],
      "execution_count": 57,
      "outputs": []
    },
    {
      "cell_type": "code",
      "metadata": {
        "id": "7F3gCWoZt84q"
      },
      "source": [
        "# print(rouge_1,rouge_2,rouge_L,rouge_W,rouge_SU)\n",
        "# print(rscore_1,rscore_2,rscore_L,rscore_W,rscore_SU)\n",
        "# print(rouge_LWS,rouge_12)\n",
        "# print(rscore_12)"
      ],
      "execution_count": 58,
      "outputs": []
    },
    {
      "cell_type": "code",
      "metadata": {
        "id": "SEMLdXlL8eTP"
      },
      "source": [
        "\n",
        "# fig = plt.figure(figsize = (5, 3))\n",
        "# # ROUGE-2\n",
        "# plt.bar(rouge_2, rscore_2, color ='blue',\n",
        "#         width = 0.4)\n",
        "\n",
        "# plt.xlabel(\"ROUGE-2 Precision, Recall and F-Score\")\n",
        "# plt.ylabel(\"ROUGE-2 Scores\")\n",
        "# plt.title(\"ROUGE-2\")\n",
        "# plt.show()"
      ],
      "execution_count": 59,
      "outputs": []
    },
    {
      "cell_type": "markdown",
      "metadata": {
        "id": "uZBHW7t7SOL9"
      },
      "source": [
        "#Split audio into 5 secs chunks"
      ]
    },
    {
      "cell_type": "code",
      "metadata": {
        "id": "AHQuh3DLR-on"
      },
      "source": [
        "def Chunks_five_sec():\n",
        "  if not exists(\"AudioChunks\"):\n",
        "    os.mkdir(\"AudioChunks\")\n",
        "  chunk_length_ms = 5000 # pydub calculates in millisec\n",
        "  sound_file = AudioSegment.from_wav(\"YoutubeVid.wav\")\n",
        "  chunks = make_chunks(sound_file, chunk_length_ms)\n",
        "  for i, chunk in enumerate(chunks):\n",
        "      chunk_name = \"AudioChunks/chunk{0}.wav\".format(i)\n",
        "      print (\"exporting\", chunk_name)\n",
        "      chunk.export(chunk_name, format=\"wav\")\n",
        "  return chunks"
      ],
      "execution_count": 60,
      "outputs": []
    },
    {
      "cell_type": "markdown",
      "metadata": {
        "id": "8M7UNf2yCUVh"
      },
      "source": [
        "#Search Key words in Audio "
      ]
    },
    {
      "cell_type": "code",
      "metadata": {
        "id": "JoBniov6aiqm"
      },
      "source": [
        "def search_keywords(transcription, word_array):\n",
        "    i=0\n",
        "    flag=False\n",
        "    while(i<len(word_array)):\n",
        "      # print(\"index\",i)\n",
        "      if(word_array[i] in transcription):\n",
        "        print(transcription)\n",
        "        print(word_array[i])\n",
        "        word_array.remove(word_array[i])\n",
        "        flag=True\n",
        "      i+=1\n",
        "    if flag:\n",
        "      return True\n",
        "    return False"
      ],
      "execution_count": 61,
      "outputs": []
    },
    {
      "cell_type": "code",
      "metadata": {
        "id": "Aqe82qSiYbfZ"
      },
      "source": [
        "def find_keywords_in_Audio(keyword_nouns,chunks):\n",
        "  words=keyword_nouns.copy()\n",
        "  print(words)\n",
        "  index_ids=[]\n",
        "  main_transcription=[]\n",
        "  for i, chunk in enumerate(chunks):\n",
        "    out_file = \"AudioChunks/chunk{0}.wav\".format(i)\n",
        "    speech, rate = librosa.load(out_file,sr=16000)\n",
        "    input_values = tokenizer(speech, return_tensors = 'pt').input_values\n",
        "    with torch.no_grad():\n",
        "            logits = model(input_values.to(\"cuda\")).logits\n",
        "    #Store predicted id's\n",
        "    predicted_ids = torch.argmax(logits, dim =-1)\n",
        "    #decode the audio to generate text\n",
        "    transcriptions = tokenizer.decode(predicted_ids[0]).lower()\n",
        "    spell = Speller()\n",
        "    transcriptions=spell(transcriptions)\n",
        "    main_transcription.append(transcriptions)\n",
        "    \n",
        "    if search_keywords(transcriptions, words):\n",
        "      index_ids.append(i)\n",
        "      #print(index_ids)\n",
        "  print(main_transcription)\n",
        "  print(index_ids)\n",
        "  return index_ids, main_transcription"
      ],
      "execution_count": 62,
      "outputs": []
    },
    {
      "cell_type": "markdown",
      "metadata": {
        "id": "ftThSHf2-7MC"
      },
      "source": [
        "#Crepe"
      ]
    },
    {
      "cell_type": "markdown",
      "metadata": {
        "id": "wuKxiYSmkn7o"
      },
      "source": [
        "Reference : https://github.com/marl/crepe"
      ]
    },
    {
      "cell_type": "code",
      "metadata": {
        "id": "dXDl452A7YRX"
      },
      "source": [
        "\n",
        "def load_audio():\n",
        "  speech, rate = librosa.load(\"YoutubeVid.wav\",sr=16000)\n",
        "  return speech,rate"
      ],
      "execution_count": 63,
      "outputs": []
    },
    {
      "cell_type": "code",
      "metadata": {
        "id": "oQQmpY6F7m77"
      },
      "source": [
        "#seperate dataframes to hold frequencies\n",
        "def make_df_freq(speech,rate):\n",
        "  time, frequency, confidence, activation = crepe.predict(speech, rate, viterbi=True,step_size= 5000,center=False)\n",
        "  df = pd.DataFrame()\n",
        "  df = pd.DataFrame(columns=['time', 'frequency','confidence','activation'])\n",
        "  df['time']=time\n",
        "  df['frequency']=frequency\n",
        "  df['confidence']=confidence\n",
        "  df['activation']=activation\n",
        "  df\n",
        "  return df"
      ],
      "execution_count": 64,
      "outputs": []
    },
    {
      "cell_type": "code",
      "metadata": {
        "id": "Sz-03nl1J_WJ"
      },
      "source": [
        "#Frequencies corresponding to keywords\n",
        "def extract_keywords_freq(df,index_ids):\n",
        "  time_Array=index_ids\n",
        "  freq_Array=[]\n",
        "  stepSize=5.0\n",
        "  for i in range(0,len(time_Array)):\n",
        "    row_index=time_Array[i]\n",
        "    row=df.iloc[row_index]\n",
        "    row_freq=row['frequency']\n",
        "    freq_Array.append(row_freq)\n",
        "  for i in range (0,len(freq_Array)):\n",
        "    print(freq_Array[i])\n",
        "  return freq_Array\n",
        "  "
      ],
      "execution_count": 65,
      "outputs": []
    },
    {
      "cell_type": "code",
      "metadata": {
        "id": "adf6OqIGDKNH"
      },
      "source": [
        "#Extracting top 3 frequencies\n",
        "def extract_top_freq(freq_Array):\n",
        "  top_3_f=[]\n",
        "  top_3_f=freq_Array\n",
        "  top_3_f.sort(reverse=True)\n",
        "  freq3=[]\n",
        "  freq3=top_3_f[:3]\n",
        "  freq3\n",
        "  return freq3"
      ],
      "execution_count": 66,
      "outputs": []
    },
    {
      "cell_type": "code",
      "metadata": {
        "id": "7ezf0R5puqK5"
      },
      "source": [
        "#frequency indexes\n",
        "def freq_index(df,freq3):\n",
        "  tempFreq=[]\n",
        "  index_f=[]\n",
        "  tempFreq=df['frequency'].values\n",
        "  for i in range (0,len(freq3)):\n",
        "    for j in range (0,len(tempFreq)):\n",
        "      if ((int((freq3[i])))==(int((tempFreq[j])))):\n",
        "        index_f.append(j)\n",
        "  final_freq=np.unique(index_f)\n",
        "  final_freq\n",
        "  return final_freq"
      ],
      "execution_count": 67,
      "outputs": []
    },
    {
      "cell_type": "markdown",
      "metadata": {
        "id": "W5DGokx1LWvl"
      },
      "source": [
        "Amplitude"
      ]
    },
    {
      "cell_type": "markdown",
      "metadata": {
        "id": "yI_xKO4_lVsk"
      },
      "source": [
        "Reference: https://librosa.org/doc/main/generated/librosa.load.html"
      ]
    },
    {
      "cell_type": "code",
      "metadata": {
        "id": "rCOYmBFPKeoS"
      },
      "source": [
        "\n",
        "\n",
        "#Extracting Amplitude of audio\n",
        "def make_df_amp(speech, rate):\n",
        "  length = speech.shape[0] / rate\n",
        "  time = np.linspace(0., length, speech.shape[0])\n",
        "  fifteen_sec_time = np.arange(start=0., stop=length, step=5.0)\n",
        "  print(fifteen_sec_time)\n",
        "  print(len(time), len(fifteen_sec_time))\n",
        "  print(int(len(time)/len(fifteen_sec_time)))\n",
        "  div_val = int(len(time)/len(fifteen_sec_time))\n",
        "\n",
        "  speech = [x*pow(10, 5) for x in speech]\n",
        "  j = 0\n",
        "  amp_array = []\n",
        "  for i in range(0, len(fifteen_sec_time)):\n",
        "    amp_array.append((np.mean(speech[i*div_val:(i+1)*div_val])))\n",
        "\n",
        "  df_amp = pd.DataFrame(columns=['time', 'amplitude'])\n",
        "  df_amp['time'] = fifteen_sec_time\n",
        "  df_amp['amplitude'] = amp_array\n",
        "  print(df_amp)\n",
        "  return df_amp"
      ],
      "execution_count": 68,
      "outputs": []
    },
    {
      "cell_type": "code",
      "metadata": {
        "id": "LhvHIOicMoBQ"
      },
      "source": [
        "#Amplitude values corresponding to key words\n",
        "def extract_keywords_amp(df_amp,index_ids):\n",
        "  time_Array=index_ids\n",
        "  amp_Array=[]\n",
        "  for i in range(0,len(time_Array)):\n",
        "    row_index_amp=time_Array[i]\n",
        "    row2=df_amp.iloc[row_index_amp]\n",
        "    row_amp=row2['amplitude']\n",
        "    amp_Array.append(row_amp)\n",
        "  for i in range (0,len(amp_Array)):\n",
        "    print(amp_Array[i])\n",
        "  return amp_Array"
      ],
      "execution_count": 69,
      "outputs": []
    },
    {
      "cell_type": "code",
      "metadata": {
        "id": "CRU9OseCI2Ss"
      },
      "source": [
        "#Extracting top 5 amplitude\n",
        "def extract_top_amp(amp_Array):\n",
        "  top_7_amp=[]\n",
        "  top_7_amp=amp_Array\n",
        "  top_7_amp.sort(reverse=True)\n",
        "  amp7=[]\n",
        "  amp7=top_7_amp[:7]\n",
        "  amp7\n",
        "  return amp7"
      ],
      "execution_count": 70,
      "outputs": []
    },
    {
      "cell_type": "code",
      "metadata": {
        "id": "NMo8Bd1Gu49E"
      },
      "source": [
        "#Amplitude indexes\n",
        "def amp_index(df_amp,amp7):\n",
        "  tempAmp=[]\n",
        "  index_a=[]\n",
        "  tempAmp=df_amp['amplitude'].values\n",
        "  for i in range (0,len(amp7)):\n",
        "    for j in range (0,len(tempAmp)):\n",
        "      if ((round((amp7[i]),1))==(round((tempAmp[j]),1))):\n",
        "        index_a.append(j)\n",
        "  index_a\n",
        "  final_amp=np.unique(index_a)\n",
        "  final_amp\n",
        "  return final_amp"
      ],
      "execution_count": 71,
      "outputs": []
    },
    {
      "cell_type": "code",
      "metadata": {
        "id": "EEJBJX-V1cz4"
      },
      "source": [
        "#Transcribing the high amp & high frequency regions\n",
        "def transcribe_amp_freq_regions(final_freq,final_amp,main_transcription):\n",
        "  freq_transcription=[]\n",
        "  for i in range(0,len(final_freq)):\n",
        "    freq_transcription.append(main_transcription[final_freq[i]])\n",
        "  amp_transcription=[]\n",
        "  for i in range(0,len(final_amp)):\n",
        "    amp_transcription.append(main_transcription[final_amp[i]])\n",
        "  print(freq_transcription)\n",
        "  print(amp_transcription)\n",
        "  return freq_transcription, amp_transcription"
      ],
      "execution_count": 72,
      "outputs": []
    },
    {
      "cell_type": "code",
      "metadata": {
        "id": "dJSypCemXwpU"
      },
      "source": [
        "#Highlighting the emphasised text \n",
        "def highlighted_text(freq_transcription,amp_transcription):\n",
        "  with open('finalInference.txt','r') as file:\n",
        "      text = file.read()\n",
        "      text_list = nltk.tokenize.sent_tokenize(text)\n",
        "  highlight_index=[]\n",
        "  for i in range(0,len(freq_transcription)):\n",
        "    scores=[]\n",
        "    for j in range (0,len(text_list)):\n",
        "      scores.append(fuzz.partial_ratio(freq_transcription[i],text_list[j]))\n",
        "    highlight_index.append(scores.index(max(scores)))\n",
        "  for i in range(0,len(amp_transcription)):\n",
        "    scores=[]\n",
        "    for j in range (0,len(text_list)):\n",
        "      scores.append(fuzz.partial_ratio(amp_transcription[i],text_list[j]))\n",
        "    highlight_index.append(scores.index(max(scores)))\n",
        "\n",
        "  highlighted_text=[]\n",
        "\n",
        "  unique_highlight_index=set(highlight_index)\n",
        "  unique_highlight_index=list(unique_highlight_index)\n",
        "  for i in range (0,len(unique_highlight_index)):\n",
        "    highlighted_text.append(text_list[unique_highlight_index[i]])\n",
        "  print(highlighted_text)\n",
        "  return highlighted_text"
      ],
      "execution_count": 73,
      "outputs": []
    },
    {
      "cell_type": "code",
      "metadata": {
        "id": "-SxhdascqpZ1"
      },
      "source": [
        "def Transcription(ID):\n",
        "  creating_files()\n",
        "  dowloadAudio(ID)\n",
        "  aud_chunks=chunk_on_silence()\n",
        "  wav2vec2(aud_chunks)\n",
        "  Punctuate()\n",
        "  AutoCorrection()\n",
        "  "
      ],
      "execution_count": 74,
      "outputs": []
    },
    {
      "cell_type": "code",
      "metadata": {
        "id": "3eq0Ad_KKca0"
      },
      "source": [
        "#Generating keywords\n",
        "def Generate_Keywords():\n",
        "  lemmatizedText()\n",
        "  key_terms, keywords_list, topic_word= extract_keywords()\n",
        "  keyword_nouns=extract_nouns(key_terms)\n",
        "  return keyword_nouns, keywords_list, topic_word"
      ],
      "execution_count": 75,
      "outputs": []
    },
    {
      "cell_type": "code",
      "metadata": {
        "id": "R1SVFDy_g5Sf"
      },
      "source": [
        "#Generating summary\n",
        "def Generate_Summary():\n",
        "  summarize_text()"
      ],
      "execution_count": 76,
      "outputs": []
    },
    {
      "cell_type": "code",
      "metadata": {
        "id": "GJSg0Xjyg6h4"
      },
      "source": [
        "#Calling pre defined functions\n",
        "def Emphasis_Detection(keyword_nouns):\n",
        "  chunks=Chunks_five_sec()\n",
        "  index_ids, main_transcription=find_keywords_in_Audio(keyword_nouns,chunks)\n",
        "  speech,rate=load_audio()\n",
        "  df=make_df_freq(speech,rate)\n",
        "  freq_Array=extract_keywords_freq(df,index_ids)\n",
        "  freq3=extract_top_freq(freq_Array)\n",
        "  final_freq=freq_index(df,freq3)\n",
        "\n",
        "  df_amp=make_df_amp(speech, rate)\n",
        "  amp_Array=extract_keywords_amp(df_amp,index_ids)\n",
        "  amp7=extract_top_amp(amp_Array)\n",
        "  final_amp=amp_index(df_amp,amp7)\n",
        "\n",
        "  freq_transcription,amp_transcription=transcribe_amp_freq_regions(final_freq,final_amp,main_transcription)\n",
        "  \n",
        "  return freq_transcription,amp_transcription"
      ],
      "execution_count": 77,
      "outputs": []
    },
    {
      "cell_type": "code",
      "metadata": {
        "id": "KhIrHiMbig5H"
      },
      "source": [
        "def Highlighted_Transcription(freq_transcription,amp_transcription):\n",
        "  highlighted_trans=highlighted_text(freq_transcription,amp_transcription)\n",
        "  return highlighted_trans"
      ],
      "execution_count": 78,
      "outputs": []
    },
    {
      "cell_type": "markdown",
      "metadata": {
        "id": "eXhOqxyMKZIF"
      },
      "source": [
        "#Calling Functions"
      ]
    },
    {
      "cell_type": "code",
      "metadata": {
        "colab": {
          "base_uri": "https://localhost:8080/"
        },
        "id": "Fipykl_WuYkH",
        "outputId": "f351f2ba-4cc7-431c-8b64-7978bf30e520"
      },
      "source": [
        "ID='2xbAiKyTveU'\n",
        "# # ID='rDIlR71omg4'\n",
        "Transcription(ID)"
      ],
      "execution_count": 79,
      "outputs": [
        {
          "output_type": "stream",
          "text": [
            "[youtube] 2xbAiKyTveU: Downloading webpage\n",
            "[youtube] 2xbAiKyTveU: Downloading MPD manifest\n",
            "[download] Destination: YoutubeVid.webm\n",
            "\u001b[K[download] 100% of 6.05MiB in 00:00\n",
            "[ffmpeg] Destination: YoutubeVid.wav\n",
            "Deleting original file YoutubeVid.webm (pass -k to keep)\n",
            "\n",
            "\n",
            "we'll spend a lot of time dismess or discussing the interaction of these seven layers of the oside model if you have a good understanding of the oside model you'll do very very well of the rest of your networking courses we'll go through the interaction of the layers and each device has a particular job to do each devices functioning at a particular layer of the oside mob so at the end of this chapter you'l understand each layer has a job each layer has something that's doing that job and then each layer has either may be a piece of hard ware or sawh wor sometimes both that'sgetting at accomplished so that raps up chapter one we will discuss this and have a briefquisit our next class\n",
            "good morning welcome to you today's networking discussion on professor cenard\n",
            "we are here to go through chapter one of the text which is introducted to networking we\n",
            "you be talking about what the purpose of network is for mainly the different types of devices as well as addressing the types of networks that you have and their applications.\n",
            "we use different terms in networking that you'll see throughout the course o you hear network services\n",
            "you might also hear the term application the purposes a network is there to share different types of what we call resources or resource could be a something as simple as a file or printer it could be a webside\n",
            "could be an entire er pea system so that we'll use the term resource as well as application under the hood\n",
            "you might hearas use the term service or eaden farther under the surface\n",
            "we might say protocal there are different types of applications that you'll see discussed in the text client server and peared a pear being the two main types bhut you'll see others mentioned as well.\n",
            "so if client server as you'll seen the listing that's the dominant type of networks that we see to day terms of application sif\n",
            "you see the list web e mal others it will get through throughout the course\n",
            "but you can see those are really the man types of applications of ifined to day there again\n",
            "referr to as client servers\n",
            "o be slide here\n",
            "you can see the intrinete which some people confuse from being the webthat\n",
            "it's not the same thing\n",
            "so the internete being the inferstructure\n",
            "the series of connections of networks the users requesting a web page a vile wet browser that's the sompward running up their machine known is the client and h\n",
            "you have web serversov were running on the web servant will get more into that f future chapters other examples\n",
            "e mal soy\n",
            "we can say emals the application under the hood\n",
            "there are a set of of one or more protocolst that provide that service to the application so here you can see example such as sem t p pop three lots of alphabet suit the symmester and will get into all of them\n",
            "fa print a little that more basic but\n",
            "that two represents in tapwlik application if i want to make files available defices such as printers available than you need to make those resources of elble somehow on the netl that could be done in a fairly simple environment known is peered appeer which is to say each system has a something that it's sharing a particular resource and then the other machines are functioning as clients that ae requesting the services on that particular machine\n",
            "wet\n",
            "you don't see in that slide\n",
            "is any mention uppla pliticular server\n",
            "so it's a little bit simpler of a set up\n",
            "oh the long hall can get a la bit more complicated so you can seen the slide there\n",
            "it's simple for small networks\n",
            "it's an expensive because you don't need complicated servoroperating systems\n",
            "but you can see the problems are doesn't scale well\n",
            "it doesn't grow as your needs change\n",
            "and it's also not a secure\n",
            "so client servigeyou cancee here being more dominant type of what you might call an administrative mob so all of the security los of the services might be a isolated on one or maybe several machines and then the clients are simply requesting those services from those one or more service that you have so nosa network operatingsystem that would be something like serve orgyou cancy on the slide or linixes of popular servoroperating system as well.\n",
            "now we will be getting into ah the different components hat you need for the network\n",
            "so the application technically as one component\n",
            "but as we get into more hardware types of things you'll see some devices mentioned in this live there or least in the diagram oe can see a switch mentioned as a particular device will see others such as hubs rouders wireless accsess points and more that diagram also also referring to a particular typology or the design of the network that physical topologies you can see as what's known as a star topology sometimes called hub and spoke this lide shows a combination of topology\n",
            "so you have three separate devices that are connecting may be three separate class rooms three separate buildings three separate offices\n",
            "and then they are all ar connected together on what's known as a bus topology a single line connecting them altogether.\n",
            "larger types of networks you might need other types of devices so you can see an addition to switches which are representing individual networks all of those networkser than connected by one or more rouders stepping back even farther nows if we need to conct unmultiple networks together vi a ias peas or providers you can see now there is what's known as a wan link so that also mentionng you get up whits nar's a metropolitan area net work which is typically within one particular city municpilarea or wide area a net works which can really spand the entire globe\n",
            "but you need a provioter to give you those kinds of connections we spend a latitime this messer discussing the os i model\n",
            "so it's broken up into seven layers as you can see here with the color coting\n",
            "the top three layers are really all about the application itself so you'll see presentation in session are mention there\n",
            "but really most of the time we us bend talking about the application itself and give the examples are a the application being web or e mail or f tp under the hood each application is made up of one or more protocols more services that are allowing that application to function transport layer different protocalls different job\n",
            "it's not the application\n",
            "its\n",
            "how are we delivering the application the net work lair\n",
            "how are we getting that data from the application from one place to another using proto calls\n",
            "an addressing datalincon physical layer are more about connectivity using the net work card in getting that nick connected to paicular device on your land.\n",
            "we'll spend a lot of time dismess or discussing the interaction of these seven layers of the oside model if you have a good understanding of the oside model\n",
            "you'll do very very well of the rest of your networking courses\n",
            "we'll go through the interaction of the layers and each device has a particular job to do each devices functioning at a particular layer of the oside mob\n",
            "so at the end of this chapter you'l understand each layer has a job each layer has something that's doing that job\n",
            "and then each layer has either may be a piece of hard ware or sawh wor sometimes both that'sgetting at accomplished\n",
            "so that raps up chapter one we will discuss this and have a briefquisit our next class.\n",
            "good morning welcome to you today's networking discussion on professor canard. we are here to go through chapter one of the text which is introduced to networking we. you be talking about what the purpose of network is for mainly the different types of devices as well as addressing the types of networks that you have and their applications.. we use different terms in networking that you'll see throughout the course o you hear network services. you might also hear the term application the purposes a network is there to share different types of what we call resources or resource could be a something as simple as a file or printer it could be a website. could be an entire er pea system so that we'll use the term resource as well as application under the hood. you might hearts use the term service or eaten farther under the surface. we might say protocol there are different types of applications that you'll see discussed in the text client server and peaked a pear being the two main types but you'll see others mentioned as well.. so if client server as you'll seen the listing that's the dominant type of networks that we see to day terms of application if. you see the list web e mal others it will get through throughout the course. but you can see those are really the man types of applications of fined to day there again. refer to as client servers. o be slide here. you can see the intricate which some people confuse from being the webthat. it's not the same thing. so the internet being the infrastructure. the series of connections of networks the users requesting a web page a vile wet browser that's the sompward running up their machine known is the client and h. you have web servers were running on the web servant will get more into that f future chapters other examples. e mal soy. we can say emails the application under the hood. there are a set of of one or more protocols that provide that service to the application so here you can see example such as sem t p pop three lots of alphabet suit the semester and will get into all of them. fa print a little that more basic but. that two represents in tapwlik application if i want to make files available devices such as printers available than you need to make those resources of elle somehow on the net that could be done in a fairly simple environment known is needed appear which is to say each system has a something that it's sharing a particular resource and then the other machines are functioning as clients that ae requesting the services on that particular machine. wet. you don't see in that slide. is any mention upper particular server. so it's a little bit simpler of a set up. oh the long hall can get a la bit more complicated so you can seen the slide there. it's simple for small networks. it's an expensive because you don't need complicated servoroperating systems. but you can see the problems are doesn't scale well. it doesn't grow as your needs change. and it's also not a secure. so client servigeyou cancer here being more dominant type of what you might call an administrative mob so all of the security los of the services might be a isolated on one or maybe several machines and then the clients are simply requesting those services from those one or more service that you have so nos network operatingsystem that would be something like serve orgyou candy on the slide or lines of popular servoroperating system as well.. now we will be getting into ah the different components hat you need for the network. so the application technically as one component. but as we get into more hardware types of things you'll see some devices mentioned in this live there or least in the diagram oe can see a switch mentioned as a particular device will see others such as hubs routers wireless access points and more that diagram also also referring to a particular typology or the design of the network that physical apologies you can see as what's known as a star topology sometimes called hub and spoke this like shows a combination of topology. so you have three separate devices that are connecting may be three separate class rooms three separate buildings three separate offices. and then they are all ar connected together on what's known as a bus topology a single line connecting them altogether.. larger types of networks you might need other types of devices so you can see an addition to switches which are representing individual networks all of those networks than connected by one or more routers stepping back even farther news if we need to cont multiple networks together vi a ias peas or providers you can see now there is what's known as a wan link so that also mentioning you get up white nar's a metropolitan area net work which is typically within one particular city municpilarea or wide area a net works which can really span the entire globe. but you need a provider to give you those kinds of connections we spend a maritime this lesser discussing the os i model. so it's broken up into seven layers as you can see here with the color coming. the top three layers are really all about the application itself so you'll see presentation in session are mention there. but really most of the time we us bend talking about the application itself and give the examples are a the application being web or e mail or f tp under the hood each application is made up of one or more protocols more services that are allowing that application to function transport layer different protocols different job. it's not the application. its. how are we delivering the application the net work lair. how are we getting that data from the application from one place to another using proto calls. an addressing datalincon physical layer are more about connectivity using the net work card in getting that nick connected to particular device on your land.. we'll spend a lot of time dismiss or discussing the interaction of these seven layers of the side model if you have a good understanding of the side model. you'll do very very well of the rest of your networking courses. we'll go through the interaction of the layers and each device has a particular job to do each devices functioning at a particular layer of the side mob. so at the end of this chapter you'l understand each layer has a job each layer has something that's doing that job. and then each layer has either may be a piece of hard ware or saw wor sometimes both that'getting at accomplished. so that raps up chapter one we will discuss this and have a briefquisit our next class.. \n"
          ],
          "name": "stdout"
        }
      ]
    },
    {
      "cell_type": "code",
      "metadata": {
        "id": "pBBfz4U0rBGn",
        "colab": {
          "base_uri": "https://localhost:8080/"
        },
        "outputId": "649caf14-c2b2-4dcd-c028-34265d263af0"
      },
      "source": [
        "Punctuate()"
      ],
      "execution_count": 80,
      "outputs": [
        {
          "output_type": "stream",
          "text": [
            "good morning welcome to you today's networking discussion on professor cenard\n",
            "we are here to go through chapter one of the text which is introducted to networking we\n",
            "you be talking about what the purpose of network is for mainly the different types of devices as well as addressing the types of networks that you have and their applications.\n",
            "we use different terms in networking that you'll see throughout the course o you hear network services\n",
            "you might also hear the term application the purposes a network is there to share different types of what we call resources or resource could be a something as simple as a file or printer it could be a webside\n",
            "could be an entire er pea system so that we'll use the term resource as well as application under the hood\n",
            "you might hearas use the term service or eaden farther under the surface\n",
            "we might say protocal there are different types of applications that you'll see discussed in the text client server and peared a pear being the two main types bhut you'll see others mentioned as well.\n",
            "so if client server as you'll seen the listing that's the dominant type of networks that we see to day terms of application sif\n",
            "you see the list web e mal others it will get through throughout the course\n",
            "but you can see those are really the man types of applications of ifined to day there again\n",
            "referr to as client servers\n",
            "o be slide here\n",
            "you can see the intrinete which some people confuse from being the webthat\n",
            "it's not the same thing\n",
            "so the internete being the inferstructure\n",
            "the series of connections of networks the users requesting a web page a vile wet browser that's the sompward running up their machine known is the client and h\n",
            "you have web serversov were running on the web servant will get more into that f future chapters other examples\n",
            "e mal soy\n",
            "we can say emals the application under the hood\n",
            "there are a set of of one or more protocolst that provide that service to the application so here you can see example such as sem t p pop three lots of alphabet suit the symmester and will get into all of them\n",
            "fa print a little that more basic but\n",
            "that two represents in tapwlik application if i want to make files available defices such as printers available than you need to make those resources of elble somehow on the netl that could be done in a fairly simple environment known is peered appeer which is to say each system has a something that it's sharing a particular resource and then the other machines are functioning as clients that ae requesting the services on that particular machine\n",
            "wet\n",
            "you don't see in that slide\n",
            "is any mention uppla pliticular server\n",
            "so it's a little bit simpler of a set up\n",
            "oh the long hall can get a la bit more complicated so you can seen the slide there\n",
            "it's simple for small networks\n",
            "it's an expensive because you don't need complicated servoroperating systems\n",
            "but you can see the problems are doesn't scale well\n",
            "it doesn't grow as your needs change\n",
            "and it's also not a secure\n",
            "so client servigeyou cancee here being more dominant type of what you might call an administrative mob so all of the security los of the services might be a isolated on one or maybe several machines and then the clients are simply requesting those services from those one or more service that you have so nosa network operatingsystem that would be something like serve orgyou cancy on the slide or linixes of popular servoroperating system as well.\n",
            "now we will be getting into ah the different components hat you need for the network\n",
            "so the application technically as one component\n",
            "but as we get into more hardware types of things you'll see some devices mentioned in this live there or least in the diagram oe can see a switch mentioned as a particular device will see others such as hubs rouders wireless accsess points and more that diagram also also referring to a particular typology or the design of the network that physical topologies you can see as what's known as a star topology sometimes called hub and spoke this lide shows a combination of topology\n",
            "so you have three separate devices that are connecting may be three separate class rooms three separate buildings three separate offices\n",
            "and then they are all ar connected together on what's known as a bus topology a single line connecting them altogether.\n",
            "larger types of networks you might need other types of devices so you can see an addition to switches which are representing individual networks all of those networkser than connected by one or more rouders stepping back even farther nows if we need to conct unmultiple networks together vi a ias peas or providers you can see now there is what's known as a wan link so that also mentionng you get up whits nar's a metropolitan area net work which is typically within one particular city municpilarea or wide area a net works which can really spand the entire globe\n",
            "but you need a provioter to give you those kinds of connections we spend a latitime this messer discussing the os i model\n",
            "so it's broken up into seven layers as you can see here with the color coting\n",
            "the top three layers are really all about the application itself so you'll see presentation in session are mention there\n",
            "but really most of the time we us bend talking about the application itself and give the examples are a the application being web or e mail or f tp under the hood each application is made up of one or more protocols more services that are allowing that application to function transport layer different protocalls different job\n",
            "it's not the application\n",
            "its\n",
            "how are we delivering the application the net work lair\n",
            "how are we getting that data from the application from one place to another using proto calls\n",
            "an addressing datalincon physical layer are more about connectivity using the net work card in getting that nick connected to paicular device on your land.\n",
            "we'll spend a lot of time dismess or discussing the interaction of these seven layers of the oside model if you have a good understanding of the oside model\n",
            "you'll do very very well of the rest of your networking courses\n",
            "we'll go through the interaction of the layers and each device has a particular job to do each devices functioning at a particular layer of the oside mob\n",
            "so at the end of this chapter you'l understand each layer has a job each layer has something that's doing that job\n",
            "and then each layer has either may be a piece of hard ware or sawh wor sometimes both that'sgetting at accomplished\n",
            "so that raps up chapter one we will discuss this and have a briefquisit our next class.\n"
          ],
          "name": "stdout"
        }
      ]
    },
    {
      "cell_type": "code",
      "metadata": {
        "id": "DETdVmzqutPX"
      },
      "source": [
        "# keyword_nouns, keywords_list, topic_word=Generate_Keywords()"
      ],
      "execution_count": 81,
      "outputs": []
    },
    {
      "cell_type": "code",
      "metadata": {
        "id": "fLQUouU6uydb"
      },
      "source": [
        "# Generate_Summary()"
      ],
      "execution_count": 82,
      "outputs": []
    },
    {
      "cell_type": "code",
      "metadata": {
        "id": "wYcziJ58u1uK"
      },
      "source": [
        "# freq_trans,amp_trans=Emphasis_Detection(keyword_nouns)"
      ],
      "execution_count": 83,
      "outputs": []
    },
    {
      "cell_type": "code",
      "metadata": {
        "id": "MV3TRCBnu7pt"
      },
      "source": [
        "# highlighted_trans= Highlighted_Transcription(freq_trans,amp_trans)"
      ],
      "execution_count": 84,
      "outputs": []
    },
    {
      "cell_type": "markdown",
      "metadata": {
        "id": "v-REJjirNK35"
      },
      "source": [
        "#Flask Front End"
      ]
    },
    {
      "cell_type": "code",
      "metadata": {
        "id": "cA7nNskF5Yri",
        "colab": {
          "base_uri": "https://localhost:8080/"
        },
        "outputId": "2395d78e-b8d6-4879-bf7e-2d99a781994d"
      },
      "source": [
        "!pip install flask-ngrok"
      ],
      "execution_count": 85,
      "outputs": [
        {
          "output_type": "stream",
          "text": [
            "Requirement already satisfied: flask-ngrok in /usr/local/lib/python3.7/dist-packages (0.0.25)\n",
            "Requirement already satisfied: requests in /usr/local/lib/python3.7/dist-packages (from flask-ngrok) (2.23.0)\n",
            "Requirement already satisfied: Flask>=0.8 in /usr/local/lib/python3.7/dist-packages (from flask-ngrok) (1.1.4)\n",
            "Requirement already satisfied: itsdangerous<2.0,>=0.24 in /usr/local/lib/python3.7/dist-packages (from Flask>=0.8->flask-ngrok) (1.1.0)\n",
            "Requirement already satisfied: Jinja2<3.0,>=2.10.1 in /usr/local/lib/python3.7/dist-packages (from Flask>=0.8->flask-ngrok) (2.11.3)\n",
            "Requirement already satisfied: click<8.0,>=5.1 in /usr/local/lib/python3.7/dist-packages (from Flask>=0.8->flask-ngrok) (7.1.2)\n",
            "Requirement already satisfied: Werkzeug<2.0,>=0.15 in /usr/local/lib/python3.7/dist-packages (from Flask>=0.8->flask-ngrok) (1.0.1)\n",
            "Requirement already satisfied: MarkupSafe>=0.23 in /usr/local/lib/python3.7/dist-packages (from Jinja2<3.0,>=2.10.1->Flask>=0.8->flask-ngrok) (2.0.1)\n",
            "Requirement already satisfied: idna<3,>=2.5 in /usr/local/lib/python3.7/dist-packages (from requests->flask-ngrok) (2.10)\n",
            "Requirement already satisfied: chardet<4,>=3.0.2 in /usr/local/lib/python3.7/dist-packages (from requests->flask-ngrok) (3.0.4)\n",
            "Requirement already satisfied: urllib3!=1.25.0,!=1.25.1,<1.26,>=1.21.1 in /usr/local/lib/python3.7/dist-packages (from requests->flask-ngrok) (1.24.3)\n",
            "Requirement already satisfied: certifi>=2017.4.17 in /usr/local/lib/python3.7/dist-packages (from requests->flask-ngrok) (2021.5.30)\n"
          ],
          "name": "stdout"
        }
      ]
    },
    {
      "cell_type": "code",
      "metadata": {
        "id": "GbnYVSwd9GUh",
        "colab": {
          "base_uri": "https://localhost:8080/"
        },
        "outputId": "dda00f80-a3cd-4872-e398-3e1965730088"
      },
      "source": [
        "from flask_ngrok import run_with_ngrok\n",
        "from flask import Flask, render_template, request, redirect, url_for, make_response\n",
        "\n",
        "app = Flask(__name__, template_folder='drive/MyDrive/FYP/templates', static_folder='drive/MyDrive/FYP/templates/static')\n",
        "run_with_ngrok(app)   #starts ngrok when the app is run \n",
        "\n",
        "##app = Flask(__name__)\n",
        "\n",
        "ytlink = \"\"\n",
        "yt_id = \"\"\n",
        "\n",
        "@app.route(\"/\")\n",
        "def home():\n",
        "  return render_template(\"homepage.html\")\n",
        "\n",
        "@app.route(\"/get-youtube-link\", methods =[\"GET\", \"POST\"])\n",
        "def getlink():\n",
        "  if request.method == \"POST\":\n",
        "    ytlink = request.form.get(\"link\")\n",
        "    list1 = ytlink.split('=')\n",
        "    if (len(list1)==3):\n",
        "      list2 = list1[1].split('&')\n",
        "      yt_id = list2[0]\n",
        "    else:\n",
        "      yt_id = list1[1]\n",
        "\n",
        "    #yt(yt_id)\n",
        "    res = make_response(redirect(url_for('full_transcription')))  \n",
        "    #res = make_response()\n",
        "    res.set_cookie(\"yt_id\", value = yt_id)\n",
        "    creating_files()\n",
        "    return res\n",
        "  return render_template(\"get-youtube-link.html\")\n",
        "\n",
        "@app.route(\"/lecture-notes\", methods = [\"GET\", \"POST\"])\n",
        "def notes():\n",
        "  listofkeywords = []\n",
        "  yt_id = request.cookies.get('yt_id')\n",
        "  ytlink_embed = \"https://www.youtube.com/embed/\"+yt_id\n",
        "  Generate_Summary()\n",
        "  f = open('SummarizedText.txt', 'r')\n",
        "  text = f.read()\n",
        "  t1 = text.split('\\n')\n",
        "  if request.method == \"POST\":\n",
        "    return redirect(url_for('notes_with_keywords'))\n",
        "  return render_template(\"notes-page.html\", listofkeywords = listofkeywords, ytlink_embed = ytlink_embed, display_notes = t1)\n",
        "\n",
        "@app.route(\"/lecture-notes-with-keywords\", methods = [\"GET\", \"POST\"])\n",
        "def notes_with_keywords():\n",
        "  listofkeywords = []\n",
        "  yt_id = request.cookies.get('yt_id')\n",
        "  ytlink_embed = \"https://www.youtube.com/embed/\"+yt_id\n",
        "  f = open('SummarizedText.txt', 'r')\n",
        "  text = f.read()\n",
        "  t1 = text.split('\\n')\n",
        "  listofkeywords, keywords_list, topic_word = Generate_Keywords()\n",
        "  return render_template(\"notes-page-with-keywords.html\", listofkeywords = listofkeywords, ytlink_embed = ytlink_embed, display_notes = t1)\n",
        "\n",
        "@app.route(\"/help\")\n",
        "def help():\n",
        "  return render_template(\"help-page.html\")\n",
        "\n",
        "@app.route(\"/full-transcription\", methods = [\"GET\", \"POST\"])\n",
        "def full_transcription():\n",
        "  listofkeywords = []\n",
        "  lines = []\n",
        "  yt_id = request.cookies.get('yt_id')\n",
        "  try:\n",
        "    f = open('finalInference.txt', \"r\")\n",
        "    lines = f.readline()\n",
        "    f.close()\n",
        "  except IOError:\n",
        "    print(\"No file found\")\n",
        "\n",
        "  if (len(lines) == 0):\n",
        "    Transcription(yt_id)\n",
        "    f = open('finalInference.txt', \"r\")\n",
        "    lines = f.readline()\n",
        "    f.close()\n",
        "\n",
        "  t1 = lines.split(\". \")\n",
        "  t1 = [x+'.' for x in t1]\n",
        "\n",
        "  keyword_nouns, keywords_list, topic_word = Generate_Keywords()\n",
        "  freq_transcription, amp_transcription = Emphasis_Detection(keyword_nouns)\n",
        "\n",
        "  highlights = Highlighted_Transcription(freq_transcription,amp_transcription)\n",
        "\n",
        "  f = open('KeySentences.txt', 'w')\n",
        "  for i in range(0, len(highlights)-1):\n",
        "    f.write(highlights[i]+'\\n')\n",
        "  f.write(highlights[-1])\n",
        "  f.close()\n",
        "\n",
        "  #print(yt_id)\n",
        "  ytlink_embed = \"https://www.youtube.com/embed/\"+yt_id\n",
        "  if request.method == \"POST\":\n",
        "    return redirect(url_for('full_transcription_with_keywords'))\n",
        "  return render_template(\"full-text-transcription.html\", listofkeywords = listofkeywords, ytlink_embed = ytlink_embed, transcription = t1, highlights = highlights)\n",
        "\n",
        "@app.route(\"/full-transcription-with-keywords\", methods = [\"GET\", \"POST\"])\n",
        "def full_transcription_with_keywords():\n",
        "  f = open('finalInference.txt', \"r\")\n",
        "  lines = f.readline()\n",
        "  f.close()\n",
        "  #print(yt_id)\n",
        "  yt_id = request.cookies.get('yt_id')\n",
        "  ytlink_embed = \"https://www.youtube.com/embed/\"+yt_id\n",
        "\n",
        "  f = open('KeySentences.txt', 'r')\n",
        "  highlights = f.read()\n",
        "\n",
        "  highlights = highlights.split('\\n')\n",
        "\n",
        "  t1 = lines.split(\". \")\n",
        "  t1 = [x+'.' for x in t1]\n",
        "\n",
        "  listofkeywords, keywords_list, topic_word = Generate_Keywords()\n",
        "  return render_template(\"full-text-transcription-with-keywords.html\", listofkeywords = listofkeywords, ytlink_embed = ytlink_embed, transcription = t1, highlights = highlights)\n",
        "\n",
        "@app.route(\"/audio-notes\", methods = [\"GET\", \"POST\"])\n",
        "def audio_notes():\n",
        "  listofkeywords = []\n",
        "  yt_id = request.cookies.get('yt_id')\n",
        "  ytlink_embed = \"https://www.youtube.com/embed/\"+yt_id\n",
        "  Generate_Summary()\n",
        "  f = open('SummarizedText.txt', 'r')\n",
        "  text = f.read()\n",
        "  t1 = text.split('\\n')\n",
        "  if request.method == \"POST\":\n",
        "    return redirect(url_for('audio_notes_with_keywords'))\n",
        "  return render_template(\"audio-notes-page.html\", listofkeywords = listofkeywords, ytlink_embed = ytlink_embed, display_notes = t1)\n",
        "\n",
        "@app.route(\"/audio-notes-with-keywords\", methods = [\"GET\", \"POST\"])\n",
        "def audio_notes_with_keywords():\n",
        "  listofkeywords = []\n",
        "  yt_id = request.cookies.get('yt_id')\n",
        "  ytlink_embed = \"https://www.youtube.com/embed/\"+yt_id\n",
        "  f = open('SummarizedText.txt', 'r')\n",
        "  text = f.read()\n",
        "  t1 = text.split('\\n')\n",
        "  listofkeywords, keywords_list, topic_word = Generate_Keywords()\n",
        "  return render_template(\"audio-notes-page-with-keywords.html\", listofkeywords = listofkeywords, ytlink_embed = ytlink_embed, display_notes = t1)\n",
        "\n",
        "@app.route(\"/loading\")\n",
        "def loading():\n",
        "  return render_template(\"loading-page.html\")\n",
        "\n",
        "if __name__ == \"__main__\":\n",
        "  app.run()"
      ],
      "execution_count": 86,
      "outputs": [
        {
          "output_type": "stream",
          "text": [
            " * Serving Flask app \"__main__\" (lazy loading)\n",
            " * Environment: production\n",
            "\u001b[31m   WARNING: This is a development server. Do not use it in a production deployment.\u001b[0m\n",
            "\u001b[2m   Use a production WSGI server instead.\u001b[0m\n",
            " * Debug mode: off\n"
          ],
          "name": "stdout"
        },
        {
          "output_type": "stream",
          "text": [
            " * Running on http://127.0.0.1:5000/ (Press CTRL+C to quit)\n"
          ],
          "name": "stderr"
        },
        {
          "output_type": "stream",
          "text": [
            " * Running on http://13453a0d82cc.ngrok.io\n",
            " * Traffic stats available on http://127.0.0.1:4040\n"
          ],
          "name": "stdout"
        },
        {
          "output_type": "stream",
          "text": [
            "127.0.0.1 - - [26/Jul/2021 10:35:50] \"\u001b[37mGET / HTTP/1.1\u001b[0m\" 200 -\n",
            "127.0.0.1 - - [26/Jul/2021 10:35:51] \"\u001b[37mGET /static/styles/style.css HTTP/1.1\u001b[0m\" 200 -\n",
            "127.0.0.1 - - [26/Jul/2021 10:35:51] \"\u001b[37mGET /static/images/gonotes-logo.png HTTP/1.1\u001b[0m\" 200 -\n",
            "127.0.0.1 - - [26/Jul/2021 10:35:51] \"\u001b[37mGET /static/images/note-taking-with-overlay.jpg HTTP/1.1\u001b[0m\" 200 -\n",
            "127.0.0.1 - - [26/Jul/2021 10:35:52] \"\u001b[33mGET /favicon.ico HTTP/1.1\u001b[0m\" 404 -\n",
            "127.0.0.1 - - [26/Jul/2021 10:35:54] \"\u001b[37mGET /get-youtube-link HTTP/1.1\u001b[0m\" 200 -\n",
            "127.0.0.1 - - [26/Jul/2021 10:35:58] \"\u001b[32mPOST /get-youtube-link HTTP/1.1\u001b[0m\" 302 -\n"
          ],
          "name": "stderr"
        },
        {
          "output_type": "stream",
          "text": [
            "[youtube] 2xbAiKyTveU: Downloading webpage\n",
            "[youtube] 2xbAiKyTveU: Downloading MPD manifest\n",
            "[download] Destination: YoutubeVid.webm\n",
            "\u001b[K[download] 100% of 6.05MiB in 00:00\n",
            "[ffmpeg] Destination: YoutubeVid.wav\n",
            "Deleting original file YoutubeVid.webm (pass -k to keep)\n",
            "\n",
            "\n",
            "we'll spend a lot of time dismess or discussing the interaction of these seven layers of the oside model if you have a good understanding of the oside model you'll do very very well of the rest of your networking courses we'll go through the interaction of the layers and each device has a particular job to do each devices functioning at a particular layer of the oside mob so at the end of this chapter you'l understand each layer has a job each layer has something that's doing that job and then each layer has either may be a piece of hard ware or sawh wor sometimes both that'sgetting at accomplished so that raps up chapter one we will discuss this and have a briefquisit our next class\n",
            "good morning welcome to you today's networking discussion on professor cenard\n",
            "we are here to go through chapter one of the text which is introducted to networking we\n",
            "you be talking about what the purpose of network is for mainly the different types of devices as well as addressing the types of networks that you have and their applications.\n",
            "we use different terms in networking that you'll see throughout the course o you hear network services\n",
            "you might also hear the term application the purposes a network is there to share different types of what we call resources or resource could be a something as simple as a file or printer it could be a webside\n",
            "could be an entire er pea system so that we'll use the term resource as well as application under the hood\n",
            "you might hearas use the term service or eaden farther under the surface\n",
            "we might say protocal there are different types of applications that you'll see discussed in the text client server and peared a pear being the two main types bhut you'll see others mentioned as well.\n",
            "so if client server as you'll seen the listing that's the dominant type of networks that we see to day terms of application sif\n",
            "you see the list web e mal others it will get through throughout the course\n",
            "but you can see those are really the man types of applications of ifined to day there again\n",
            "referr to as client servers\n",
            "o be slide here\n",
            "you can see the intrinete which some people confuse from being the webthat\n",
            "it's not the same thing\n",
            "so the internete being the inferstructure\n",
            "the series of connections of networks the users requesting a web page a vile wet browser that's the sompward running up their machine known is the client and h\n",
            "you have web serversov were running on the web servant will get more into that f future chapters other examples\n",
            "e mal soy\n",
            "we can say emals the application under the hood\n",
            "there are a set of of one or more protocolst that provide that service to the application so here you can see example such as sem t p pop three lots of alphabet suit the symmester and will get into all of them\n",
            "fa print a little that more basic but\n",
            "that two represents in tapwlik application if i want to make files available defices such as printers available than you need to make those resources of elble somehow on the netl that could be done in a fairly simple environment known is peered appeer which is to say each system has a something that it's sharing a particular resource and then the other machines are functioning as clients that ae requesting the services on that particular machine\n",
            "wet\n",
            "you don't see in that slide\n",
            "is any mention uppla pliticular server\n",
            "so it's a little bit simpler of a set up\n",
            "oh the long hall can get a la bit more complicated so you can seen the slide there\n",
            "it's simple for small networks\n",
            "it's an expensive because you don't need complicated servoroperating systems\n",
            "but you can see the problems are doesn't scale well\n",
            "it doesn't grow as your needs change\n",
            "and it's also not a secure\n",
            "so client servigeyou cancee here being more dominant type of what you might call an administrative mob so all of the security los of the services might be a isolated on one or maybe several machines and then the clients are simply requesting those services from those one or more service that you have so nosa network operatingsystem that would be something like serve orgyou cancy on the slide or linixes of popular servoroperating system as well.\n",
            "now we will be getting into ah the different components hat you need for the network\n",
            "so the application technically as one component\n",
            "but as we get into more hardware types of things you'll see some devices mentioned in this live there or least in the diagram oe can see a switch mentioned as a particular device will see others such as hubs rouders wireless accsess points and more that diagram also also referring to a particular typology or the design of the network that physical topologies you can see as what's known as a star topology sometimes called hub and spoke this lide shows a combination of topology\n",
            "so you have three separate devices that are connecting may be three separate class rooms three separate buildings three separate offices\n",
            "and then they are all ar connected together on what's known as a bus topology a single line connecting them altogether.\n",
            "larger types of networks you might need other types of devices so you can see an addition to switches which are representing individual networks all of those networkser than connected by one or more rouders stepping back even farther nows if we need to conct unmultiple networks together vi a ias peas or providers you can see now there is what's known as a wan link so that also mentionng you get up whits nar's a metropolitan area net work which is typically within one particular city municpilarea or wide area a net works which can really spand the entire globe\n",
            "but you need a provioter to give you those kinds of connections we spend a latitime this messer discussing the os i model\n",
            "so it's broken up into seven layers as you can see here with the color coting\n",
            "the top three layers are really all about the application itself so you'll see presentation in session are mention there\n",
            "but really most of the time we us bend talking about the application itself and give the examples are a the application being web or e mail or f tp under the hood each application is made up of one or more protocols more services that are allowing that application to function transport layer different protocalls different job\n",
            "it's not the application\n",
            "its\n",
            "how are we delivering the application the net work lair\n",
            "how are we getting that data from the application from one place to another using proto calls\n",
            "an addressing datalincon physical layer are more about connectivity using the net work card in getting that nick connected to paicular device on your land.\n",
            "we'll spend a lot of time dismess or discussing the interaction of these seven layers of the oside model if you have a good understanding of the oside model\n",
            "you'll do very very well of the rest of your networking courses\n",
            "we'll go through the interaction of the layers and each device has a particular job to do each devices functioning at a particular layer of the oside mob\n",
            "so at the end of this chapter you'l understand each layer has a job each layer has something that's doing that job\n",
            "and then each layer has either may be a piece of hard ware or sawh wor sometimes both that'sgetting at accomplished\n",
            "so that raps up chapter one we will discuss this and have a briefquisit our next class.\n",
            "good morning welcome to you today's networking discussion on professor canard. we are here to go through chapter one of the text which is introduced to networking we. you be talking about what the purpose of network is for mainly the different types of devices as well as addressing the types of networks that you have and their applications.. we use different terms in networking that you'll see throughout the course o you hear network services. you might also hear the term application the purposes a network is there to share different types of what we call resources or resource could be a something as simple as a file or printer it could be a website. could be an entire er pea system so that we'll use the term resource as well as application under the hood. you might hearts use the term service or eaten farther under the surface. we might say protocol there are different types of applications that you'll see discussed in the text client server and peaked a pear being the two main types but you'll see others mentioned as well.. so if client server as you'll seen the listing that's the dominant type of networks that we see to day terms of application if. you see the list web e mal others it will get through throughout the course. but you can see those are really the man types of applications of fined to day there again. refer to as client servers. o be slide here. you can see the intricate which some people confuse from being the webthat. it's not the same thing. so the internet being the infrastructure. the series of connections of networks the users requesting a web page a vile wet browser that's the sompward running up their machine known is the client and h. you have web servers were running on the web servant will get more into that f future chapters other examples. e mal soy. we can say emails the application under the hood. there are a set of of one or more protocols that provide that service to the application so here you can see example such as sem t p pop three lots of alphabet suit the semester and will get into all of them. fa print a little that more basic but. that two represents in tapwlik application if i want to make files available devices such as printers available than you need to make those resources of elle somehow on the net that could be done in a fairly simple environment known is needed appear which is to say each system has a something that it's sharing a particular resource and then the other machines are functioning as clients that ae requesting the services on that particular machine. wet. you don't see in that slide. is any mention upper particular server. so it's a little bit simpler of a set up. oh the long hall can get a la bit more complicated so you can seen the slide there. it's simple for small networks. it's an expensive because you don't need complicated servoroperating systems. but you can see the problems are doesn't scale well. it doesn't grow as your needs change. and it's also not a secure. so client servigeyou cancer here being more dominant type of what you might call an administrative mob so all of the security los of the services might be a isolated on one or maybe several machines and then the clients are simply requesting those services from those one or more service that you have so nos network operatingsystem that would be something like serve orgyou candy on the slide or lines of popular servoroperating system as well.. now we will be getting into ah the different components hat you need for the network. so the application technically as one component. but as we get into more hardware types of things you'll see some devices mentioned in this live there or least in the diagram oe can see a switch mentioned as a particular device will see others such as hubs routers wireless access points and more that diagram also also referring to a particular typology or the design of the network that physical apologies you can see as what's known as a star topology sometimes called hub and spoke this like shows a combination of topology. so you have three separate devices that are connecting may be three separate class rooms three separate buildings three separate offices. and then they are all ar connected together on what's known as a bus topology a single line connecting them altogether.. larger types of networks you might need other types of devices so you can see an addition to switches which are representing individual networks all of those networks than connected by one or more routers stepping back even farther news if we need to cont multiple networks together vi a ias peas or providers you can see now there is what's known as a wan link so that also mentioning you get up white nar's a metropolitan area net work which is typically within one particular city municpilarea or wide area a net works which can really span the entire globe. but you need a provider to give you those kinds of connections we spend a maritime this lesser discussing the os i model. so it's broken up into seven layers as you can see here with the color coming. the top three layers are really all about the application itself so you'll see presentation in session are mention there. but really most of the time we us bend talking about the application itself and give the examples are a the application being web or e mail or f tp under the hood each application is made up of one or more protocols more services that are allowing that application to function transport layer different protocols different job. it's not the application. its. how are we delivering the application the net work lair. how are we getting that data from the application from one place to another using proto calls. an addressing datalincon physical layer are more about connectivity using the net work card in getting that nick connected to particular device on your land.. we'll spend a lot of time dismiss or discussing the interaction of these seven layers of the side model if you have a good understanding of the side model. you'll do very very well of the rest of your networking courses. we'll go through the interaction of the layers and each device has a particular job to do each devices functioning at a particular layer of the side mob. so at the end of this chapter you'l understand each layer has a job each layer has something that's doing that job. and then each layer has either may be a piece of hard ware or saw wor sometimes both that'getting at accomplished. so that raps up chapter one we will discuss this and have a briefquisit our next class.. \n",
            "networking\n",
            "network\n",
            "particular\n",
            "different type\n",
            "term\n",
            "device\n",
            "layer\n",
            "web\n",
            "separate\n",
            "need\n",
            "needed\n",
            "work\n",
            "area\n",
            "router\n",
            "wet\n",
            "application\n",
            "farther\n",
            "bit\n",
            "topology\n",
            "requesting\n",
            "available\n",
            "physical\n",
            "client server\n",
            "Topic Word networking\n",
            "['network', 'term', 'device', 'layer', 'web', 'need', 'work', 'area', 'router', 'application', 'client', 'server']\n",
            "exporting AudioChunks/chunk0.wav\n",
            "exporting AudioChunks/chunk1.wav\n",
            "exporting AudioChunks/chunk2.wav\n",
            "exporting AudioChunks/chunk3.wav\n",
            "exporting AudioChunks/chunk4.wav\n",
            "exporting AudioChunks/chunk5.wav\n",
            "exporting AudioChunks/chunk6.wav\n",
            "exporting AudioChunks/chunk7.wav\n",
            "exporting AudioChunks/chunk8.wav\n",
            "exporting AudioChunks/chunk9.wav\n",
            "exporting AudioChunks/chunk10.wav\n",
            "exporting AudioChunks/chunk11.wav\n",
            "exporting AudioChunks/chunk12.wav\n",
            "exporting AudioChunks/chunk13.wav\n",
            "exporting AudioChunks/chunk14.wav\n",
            "exporting AudioChunks/chunk15.wav\n",
            "exporting AudioChunks/chunk16.wav\n",
            "exporting AudioChunks/chunk17.wav\n",
            "exporting AudioChunks/chunk18.wav\n",
            "exporting AudioChunks/chunk19.wav\n",
            "exporting AudioChunks/chunk20.wav\n",
            "exporting AudioChunks/chunk21.wav\n",
            "exporting AudioChunks/chunk22.wav\n",
            "exporting AudioChunks/chunk23.wav\n",
            "exporting AudioChunks/chunk24.wav\n",
            "exporting AudioChunks/chunk25.wav\n",
            "exporting AudioChunks/chunk26.wav\n",
            "exporting AudioChunks/chunk27.wav\n",
            "exporting AudioChunks/chunk28.wav\n",
            "exporting AudioChunks/chunk29.wav\n",
            "exporting AudioChunks/chunk30.wav\n",
            "exporting AudioChunks/chunk31.wav\n",
            "exporting AudioChunks/chunk32.wav\n",
            "exporting AudioChunks/chunk33.wav\n",
            "exporting AudioChunks/chunk34.wav\n",
            "exporting AudioChunks/chunk35.wav\n",
            "exporting AudioChunks/chunk36.wav\n",
            "exporting AudioChunks/chunk37.wav\n",
            "exporting AudioChunks/chunk38.wav\n",
            "exporting AudioChunks/chunk39.wav\n",
            "exporting AudioChunks/chunk40.wav\n",
            "exporting AudioChunks/chunk41.wav\n",
            "exporting AudioChunks/chunk42.wav\n",
            "exporting AudioChunks/chunk43.wav\n",
            "exporting AudioChunks/chunk44.wav\n",
            "exporting AudioChunks/chunk45.wav\n",
            "exporting AudioChunks/chunk46.wav\n",
            "exporting AudioChunks/chunk47.wav\n",
            "exporting AudioChunks/chunk48.wav\n",
            "exporting AudioChunks/chunk49.wav\n",
            "exporting AudioChunks/chunk50.wav\n",
            "exporting AudioChunks/chunk51.wav\n",
            "exporting AudioChunks/chunk52.wav\n",
            "exporting AudioChunks/chunk53.wav\n",
            "exporting AudioChunks/chunk54.wav\n",
            "exporting AudioChunks/chunk55.wav\n",
            "exporting AudioChunks/chunk56.wav\n",
            "exporting AudioChunks/chunk57.wav\n",
            "exporting AudioChunks/chunk58.wav\n",
            "exporting AudioChunks/chunk59.wav\n",
            "exporting AudioChunks/chunk60.wav\n",
            "exporting AudioChunks/chunk61.wav\n",
            "exporting AudioChunks/chunk62.wav\n",
            "exporting AudioChunks/chunk63.wav\n",
            "exporting AudioChunks/chunk64.wav\n",
            "exporting AudioChunks/chunk65.wav\n",
            "exporting AudioChunks/chunk66.wav\n",
            "exporting AudioChunks/chunk67.wav\n",
            "exporting AudioChunks/chunk68.wav\n",
            "exporting AudioChunks/chunk69.wav\n",
            "exporting AudioChunks/chunk70.wav\n",
            "exporting AudioChunks/chunk71.wav\n",
            "exporting AudioChunks/chunk72.wav\n",
            "exporting AudioChunks/chunk73.wav\n",
            "exporting AudioChunks/chunk74.wav\n",
            "exporting AudioChunks/chunk75.wav\n",
            "exporting AudioChunks/chunk76.wav\n",
            "exporting AudioChunks/chunk77.wav\n",
            "exporting AudioChunks/chunk78.wav\n",
            "['network', 'term', 'device', 'layer', 'web', 'need', 'work', 'area', 'router', 'application', 'client', 'server']\n",
            "good morning welcome to you to day's networking discussion on professor cannot\n",
            "network\n",
            "good morning welcome to you to day's networking discussion on professor cannot\n",
            "work\n",
            "ing about what the purpose of network is for mainly the different types of devices\n",
            "device\n",
            "well as addressing the types of networks that you have and their applications\n",
            "application\n",
            "we use different terms in networking that you'll see throughout the chorus f you hear ne\n",
            "term\n",
            "cations that you'll see disgust in the text client server and peaked a pear be\n",
            "client\n",
            "so if clip server as you'll see the listing that's the dominant\n",
            "server\n",
            "type of network that we see to day in terms of applications if you seen the list web e\n",
            "web\n",
            "offices such as printers available then you need to make those resources available somehow on\n",
            "need\n",
            "will see others such as hubs routers wireless acs as points and more\n",
            "router\n",
            "so that also mention you get atwasnar'sa metropolitan area that work which is typically within one\n",
            "area\n",
            "into seven layers as you can see here with the roller coming the top three lay\n",
            "layer\n",
            "[\"good morning welcome to you to day's networking discussion on professor cannot\", 'ar we are you to go through chapter one of the text which is introduction to networking wer to be taught', 'ing about what the purpose of network is for mainly the different types of devices', 'well as addressing the types of networks that you have and their applications', \"we use different terms in networking that you'll see throughout the chorus f you hear ne\", 'services you might also hear the term application to purposes a network is ther', 'two share different types of what we call resources or resource could be a something as simple as a', 'ile or printer it could be a wed side could be an entire ear pea system so that will', 'the term resource as well as application under the hood he might hears use the term serve', 'reading farther under the surface we might say protocol there are different types of', \"cations that you'll see disgust in the text client server and peaked a pear be\", \"man types but you'll see others mattiond as well\", \"so if clip server as you'll see the listing that's the dominant\", 'type of network that we see to day in terms of applications if you seen the list web e', 'male others it will get through throughout the course but you can see those are really the maintype', 'of applications ot confined to day there again referred to as client server some beside here you can see', \"the intricate which some people confuse fom being the web it's not the same thing so\", 'h the interstate being the emp structure of te series of connections of networks the', \"users requesting a wet page a vile wet browser that's the sop\", 'running up their machine own is the client and you ave w observers were running on the web servant will get', 'to that future chapters other examples e row so we cul say e males the a', 'location under the hood there are a set of one or more protocols that prov', 'i that service to the application so here you can see example such as sm t p pop three', \"lots of alphabet suit the master and we'll get into all of them fa print\", 'lum but more basic but that too represents a network application if i want to make files available', 'offices such as printers available then you need to make those resources available somehow on', 'talk that could be done in a fairly simply invioment known his puerto peer with', 'to say each system has a something that is share in a particular resource', 'and that the other machines are functioning as clients at a requesting the services on tha', \"titular machine what you don't see in that live is any mention of a particular server so\", 'its a little bit simpler of the set up over the long hall i can get a a bit more complicated', \"so he can see the slide there it's simple for small networks it's an expr\", \"nen because you don't need complicated sirroporating systems but you can see the problems are de\", \"sn't scale well it doesn't grow as your needs change and it's all\", 'o not a secure so client serve as you can see here being a more dominant type of what you might', 'administrative model so all of the security lost of the services might be', 'isolated on one or maybe several machines and then the clients are simply requesting those', 'services from those one or more servers that you have so n', 'asa network operating system that would be something like servergen any on the slide or', 'linux is a popular servooperating system as well now we will', 'e getting into ah the different components unite for the network so the application', \"technically as one compose but as we get into more hard ware types of things you'll see some devices mentioned\", 'the like there or least in the diagram ye can see a switch mentioned as a particular device', 'will see others such as hubs routers wireless acs as points and more', 'that diagram als also referring to a particular apologies or of the design of the', \"t work that physical apologies you can see as what's mot as a star or apology sometimes call\", 'd hub and spoke this like shows', 'a combination of apology so you have three separate devices that are connected maybe', 'three separate class rooms three separate buildings three separate offices and then they are all', 'are connected together on whats known as a bus apology a single line connected', 'altogether larger types of networks you might need other types', 'and devices so vacancy in addition to switches which are representing individual networks all', 'hose networks are then connected by one or more rowers', 'stepping back even farther now so if we need to connect multiple networks together', \"via ias peas or providers he could see now therein what's note as a wam link\", \"so that also mention you get atwasnar'sa metropolitan area that work which is typically within one\", 'particular city munispilarea or wide area thatworks which can real', 'a span the entire globe but you need a proprietor to give you those kinds of connections', \"wa spent a maritime dismesseor discussing the aussie mail so it's broke n\", 'into seven layers as you can see here with the roller coming the top three lay', \"rs are really all about the application itself so you'll see presentation and session\", 'mention there but really most ofetamis us been talking about the application itself and being the ex', 'samples ar a the application being web or e male or f t p', 'under the hood each application is made up of one or more protocol more services', 'at are allowing that application to function transport layer different proto', \"all different job it's not the applications how are we delivering the applicationthe net work\", 'glare how are we getting that data from the application from one place to another using pro to call', 'and addressing datalincon physical lair are more about connectivity', 'e using the network card in getting that nick connected to particular device on your land', 'we spent a lot of time dismessor discussing the interact', 'ion of these seven latter of the side model if you have a good understanding of the side model you', 'very very well in the rest of your net work in courses wil go', 'rough the interaction of the layers and each divide', 'ss has a particular job to do each devices functioning at a particular layer of the', \"simon so at the end of this chapter you'l understand each layer has a job each layer has something\", 't doing that job and then each latter has either maybe a piece of hardware or soft wore', \"times both that's getting that accomplished so that raps up chapter one we\", 'discuss this and haven web quit our next class', '']\n",
            "[0, 2, 3, 4, 10, 12, 13, 25, 43, 55, 59]\n",
            "3/3 [==============================] - 3s 217ms/step\n",
            "129.15594876699248\n",
            "126.86159701840778\n",
            "120.11969032083513\n",
            "120.35250629344061\n",
            "128.14370814376394\n",
            "119.21712723397204\n",
            "128.10935700011754\n",
            "112.17671950115619\n",
            "125.36856219287573\n",
            "118.23243871911674\n",
            "110.09943723142851\n",
            "[  0.   5.  10.  15.  20.  25.  30.  35.  40.  45.  50.  55.  60.  65.\n",
            "  70.  75.  80.  85.  90.  95. 100. 105. 110. 115. 120. 125. 130. 135.\n",
            " 140. 145. 150. 155. 160. 165. 170. 175. 180. 185. 190. 195. 200. 205.\n",
            " 210. 215. 220. 225. 230. 235. 240. 245. 250. 255. 260. 265. 270. 275.\n",
            " 280. 285. 290. 295. 300. 305. 310. 315. 320. 325. 330. 335. 340. 345.\n",
            " 350. 355. 360. 365. 370. 375. 380. 385. 390.]\n",
            "6287325 79\n",
            "79586\n",
            "     time  amplitude\n",
            "0     0.0   1.406207\n",
            "1     5.0  -0.689754\n",
            "2    10.0  -0.160222\n",
            "3    15.0   0.031851\n",
            "4    20.0  -0.150954\n",
            "..    ...        ...\n",
            "74  370.0  -0.915037\n",
            "75  375.0  -0.684438\n",
            "76  380.0  -1.260032\n",
            "77  385.0   2.679243\n",
            "78  390.0   0.159375\n",
            "\n",
            "[79 rows x 2 columns]\n",
            "1.406206812630087\n",
            "-0.1602224276244465\n",
            "0.031851231383541886\n",
            "-0.1509538660449281\n",
            "0.8381998347644821\n",
            "-4.031202783546661\n",
            "-4.383688888398442\n",
            "0.27617470810791234\n",
            "-0.4002647178241262\n",
            "-1.4549719067911389\n",
            "1.982492135982372\n",
            "[\"good morning welcome to you to day's networking discussion on professor cannot\", 'reading farther under the surface we might say protocol there are different types of', \"cations that you'll see disgust in the text client server and peaked a pear be\", 'type of network that we see to day in terms of applications if you seen the list web e', 'of applications ot confined to day there again referred to as client server some beside here you can see', \"technically as one compose but as we get into more hard ware types of things you'll see some devices mentioned\", 'at are allowing that application to function transport layer different proto']\n",
            "[\"good morning welcome to you to day's networking discussion on professor cannot\", 'ing about what the purpose of network is for mainly the different types of devices', 'well as addressing the types of networks that you have and their applications', \"we use different terms in networking that you'll see throughout the chorus f you hear ne\", \"cations that you'll see disgust in the text client server and peaked a pear be\", 'i that service to the application so here you can see example such as sm t p pop three', \"lots of alphabet suit the master and we'll get into all of them fa print\", 'offices such as printers available then you need to make those resources available somehow on', 'to say each system has a something that is share in a particular resource', 'isolated on one or maybe several machines and then the clients are simply requesting those', 'services from those one or more servers that you have so n', \"via ias peas or providers he could see now therein what's note as a wam link\", 'into seven layers as you can see here with the roller coming the top three lay']\n"
          ],
          "name": "stdout"
        },
        {
          "output_type": "stream",
          "text": [
            "127.0.0.1 - - [26/Jul/2021 10:40:00] \"\u001b[37mGET /full-transcription HTTP/1.1\u001b[0m\" 200 -\n"
          ],
          "name": "stderr"
        },
        {
          "output_type": "stream",
          "text": [
            "[\"good morning welcome to you today's networking discussion on professor canard.\", \"but as we get into more hardware types of things you'll see some devices mentioned in this live there or least in the diagram oe can see a switch mentioned as a particular device will see others such as hubs routers wireless access points and more that diagram also also referring to a particular typology or the design of the network that physical apologies you can see as what's known as a star topology sometimes called hub and spoke this like shows a combination of topology.\", \"you be talking about what the purpose of network is for mainly the different types of devices as well as addressing the types of networks that you have and their applications.. we use different terms in networking that you'll see throughout the course o you hear network services.\", 'you might also hear the term application the purposes a network is there to share different types of what we call resources or resource could be a something as simple as a file or printer it could be a website.', \"and then they are all ar connected together on what's known as a bus topology a single line connecting them altogether.. larger types of networks you might need other types of devices so you can see an addition to switches which are representing individual networks all of those networks than connected by one or more routers stepping back even farther news if we need to cont multiple networks together vi a ias peas or providers you can see now there is what's known as a wan link so that also mentioning you get up white nar's a metropolitan area net work which is typically within one particular city municpilarea or wide area a net works which can really span the entire globe.\", \"so it's broken up into seven layers as you can see here with the color coming.\", \"we might say protocol there are different types of applications that you'll see discussed in the text client server and peaked a pear being the two main types but you'll see others mentioned as well.. so if client server as you'll seen the listing that's the dominant type of networks that we see to day terms of application if.\", \"it's not the application.\", 'but really most of the time we us bend talking about the application itself and give the examples are a the application being web or e mail or f tp under the hood each application is made up of one or more protocols more services that are allowing that application to function transport layer different protocols different job.', 'refer to as client servers.', 'there are a set of of one or more protocols that provide that service to the application so here you can see example such as sem t p pop three lots of alphabet suit the semester and will get into all of them.', \"that two represents in tapwlik application if i want to make files available devices such as printers available than you need to make those resources of elle somehow on the net that could be done in a fairly simple environment known is needed appear which is to say each system has a something that it's sharing a particular resource and then the other machines are functioning as clients that ae requesting the services on that particular machine.\", 'so client servigeyou cancer here being more dominant type of what you might call an administrative mob so all of the security los of the services might be a isolated on one or maybe several machines and then the clients are simply requesting those services from those one or more service that you have so nos network operatingsystem that would be something like serve orgyou candy on the slide or lines of popular servoroperating system as well.. now we will be getting into ah the different components hat you need for the network.']\n"
          ],
          "name": "stdout"
        },
        {
          "output_type": "stream",
          "text": [
            "127.0.0.1 - - [26/Jul/2021 10:40:55] \"\u001b[37mPOST /full-transcription-with-keywords HTTP/1.1\u001b[0m\" 200 -\n"
          ],
          "name": "stderr"
        },
        {
          "output_type": "stream",
          "text": [
            "networking\n",
            "network\n",
            "particular\n",
            "different type\n",
            "term\n",
            "device\n",
            "layer\n",
            "web\n",
            "separate\n",
            "need\n",
            "needed\n",
            "work\n",
            "area\n",
            "router\n",
            "wet\n",
            "application\n",
            "bit\n",
            "farther\n",
            "requesting\n",
            "topology\n",
            "available\n",
            "physical\n",
            "client server\n",
            "Topic Word networking\n",
            "['network', 'term', 'device', 'layer', 'web', 'need', 'work', 'area', 'router', 'application', 'bit', 'topology', 'client', 'server']\n",
            "you be talking about what the purpose of network is for mainly the different types of devices as well as addressing the types of networks that you have and their applications..\n",
            "we use different terms in networking that you'll see throughout the course o you hear network services.\n",
            "you might also hear the term application the purposes a network is there to share different types of what we call resources or resource could be a something as simple as a file or printer it could be a website.\n",
            "could be an entire er pea system so that we'll use the term resource as well as application under the hood.\n",
            "we might say protocol there are different types of applications that you'll see discussed in the text client server and peaked a pear being the two main types but you'll see others mentioned as well..\n",
            "so if client server as you'll seen the listing that's the dominant type of networks that we see to day terms of application if.\n",
            "the series of connections of networks the users requesting a web page a vile wet browser that's the sompward running up their machine known is the client and h.\n",
            "there are a set of of one or more protocols that provide that service to the application so here you can see example such as sem t p pop three lots of alphabet suit the semester and will get into all of them.\n",
            "that two represents in tapwlik application if i want to make files available devices such as printers available than you need to make those resources of elle somehow on the net that could be done in a fairly simple environment known is needed appear which is to say each system has a something that it's sharing a particular resource and then the other machines are functioning as clients that ae requesting the services on that particular machine.\n",
            "so client servigeyou cancer here being more dominant type of what you might call an administrative mob so all of the security los of the services might be a isolated on one or maybe several machines and then the clients are simply requesting those services from those one or more service that you have so nos network operatingsystem that would be something like serve orgyou candy on the slide or lines of popular servoroperating system as well..\n",
            "now we will be getting into ah the different components hat you need for the network.\n",
            "but as we get into more hardware types of things you'll see some devices mentioned in this live there or least in the diagram oe can see a switch mentioned as a particular device will see others such as hubs routers wireless access points and more that diagram also also referring to a particular typology or the design of the network that physical apologies you can see as what's known as a star topology sometimes called hub and spoke this like shows a combination of topology.\n",
            "the top three layers are really all about the application itself so you'll see presentation in session are mention there.\n",
            "but really most of the time we us bend talking about the application itself and give the examples are a the application being web or e mail or f tp under the hood each application is made up of one or more protocols more services that are allowing that application to function transport layer different protocols different job.\n",
            "an addressing datalincon physical layer are more about connectivity using the net work card in getting that nick connected to particular device on your land..\n",
            "we'll spend a lot of time dismiss or discussing the interaction of these seven layers of the side model if you have a good understanding of the side model.\n"
          ],
          "name": "stdout"
        },
        {
          "output_type": "stream",
          "text": [
            "127.0.0.1 - - [26/Jul/2021 10:41:31] \"\u001b[37mGET /lecture-notes HTTP/1.1\u001b[0m\" 200 -\n"
          ],
          "name": "stderr"
        },
        {
          "output_type": "stream",
          "text": [
            "networking\n",
            "network\n",
            "particular\n",
            "different type\n",
            "term\n",
            "device\n",
            "layer\n",
            "web\n",
            "separate\n",
            "need\n",
            "needed\n",
            "work\n",
            "area\n",
            "router\n",
            "wet\n",
            "application\n",
            "topology\n",
            "farther\n",
            "requesting\n",
            "bit\n",
            "available\n",
            "physical\n",
            "client server\n",
            "Topic Word networking\n",
            "['network', 'term', 'device', 'layer', 'web', 'need', 'work', 'area', 'router', 'application', 'topology', 'bit', 'client', 'server']\n"
          ],
          "name": "stdout"
        },
        {
          "output_type": "stream",
          "text": [
            "127.0.0.1 - - [26/Jul/2021 10:41:42] \"\u001b[37mPOST /lecture-notes-with-keywords HTTP/1.1\u001b[0m\" 200 -\n"
          ],
          "name": "stderr"
        },
        {
          "output_type": "stream",
          "text": [
            "networking\n",
            "network\n",
            "particular\n",
            "different type\n",
            "term\n",
            "device\n",
            "layer\n",
            "web\n",
            "separate\n",
            "need\n",
            "needed\n",
            "work\n",
            "area\n",
            "router\n",
            "wet\n",
            "application\n",
            "requesting\n",
            "topology\n",
            "farther\n",
            "bit\n",
            "available\n",
            "physical\n",
            "client server\n",
            "Topic Word networking\n",
            "['network', 'term', 'device', 'layer', 'web', 'need', 'work', 'area', 'router', 'application', 'topology', 'client', 'server']\n",
            "exporting AudioChunks/chunk0.wav\n",
            "exporting AudioChunks/chunk1.wav\n",
            "exporting AudioChunks/chunk2.wav\n",
            "exporting AudioChunks/chunk3.wav\n",
            "exporting AudioChunks/chunk4.wav\n",
            "exporting AudioChunks/chunk5.wav\n",
            "exporting AudioChunks/chunk6.wav\n",
            "exporting AudioChunks/chunk7.wav\n",
            "exporting AudioChunks/chunk8.wav\n",
            "exporting AudioChunks/chunk9.wav\n",
            "exporting AudioChunks/chunk10.wav\n",
            "exporting AudioChunks/chunk11.wav\n",
            "exporting AudioChunks/chunk12.wav\n",
            "exporting AudioChunks/chunk13.wav\n",
            "exporting AudioChunks/chunk14.wav\n",
            "exporting AudioChunks/chunk15.wav\n",
            "exporting AudioChunks/chunk16.wav\n",
            "exporting AudioChunks/chunk17.wav\n",
            "exporting AudioChunks/chunk18.wav\n",
            "exporting AudioChunks/chunk19.wav\n",
            "exporting AudioChunks/chunk20.wav\n",
            "exporting AudioChunks/chunk21.wav\n",
            "exporting AudioChunks/chunk22.wav\n",
            "exporting AudioChunks/chunk23.wav\n",
            "exporting AudioChunks/chunk24.wav\n",
            "exporting AudioChunks/chunk25.wav\n",
            "exporting AudioChunks/chunk26.wav\n",
            "exporting AudioChunks/chunk27.wav\n",
            "exporting AudioChunks/chunk28.wav\n",
            "exporting AudioChunks/chunk29.wav\n",
            "exporting AudioChunks/chunk30.wav\n",
            "exporting AudioChunks/chunk31.wav\n",
            "exporting AudioChunks/chunk32.wav\n",
            "exporting AudioChunks/chunk33.wav\n",
            "exporting AudioChunks/chunk34.wav\n",
            "exporting AudioChunks/chunk35.wav\n",
            "exporting AudioChunks/chunk36.wav\n",
            "exporting AudioChunks/chunk37.wav\n",
            "exporting AudioChunks/chunk38.wav\n",
            "exporting AudioChunks/chunk39.wav\n",
            "exporting AudioChunks/chunk40.wav\n",
            "exporting AudioChunks/chunk41.wav\n",
            "exporting AudioChunks/chunk42.wav\n",
            "exporting AudioChunks/chunk43.wav\n",
            "exporting AudioChunks/chunk44.wav\n",
            "exporting AudioChunks/chunk45.wav\n",
            "exporting AudioChunks/chunk46.wav\n",
            "exporting AudioChunks/chunk47.wav\n",
            "exporting AudioChunks/chunk48.wav\n",
            "exporting AudioChunks/chunk49.wav\n",
            "exporting AudioChunks/chunk50.wav\n",
            "exporting AudioChunks/chunk51.wav\n",
            "exporting AudioChunks/chunk52.wav\n",
            "exporting AudioChunks/chunk53.wav\n",
            "exporting AudioChunks/chunk54.wav\n",
            "exporting AudioChunks/chunk55.wav\n",
            "exporting AudioChunks/chunk56.wav\n",
            "exporting AudioChunks/chunk57.wav\n",
            "exporting AudioChunks/chunk58.wav\n",
            "exporting AudioChunks/chunk59.wav\n",
            "exporting AudioChunks/chunk60.wav\n",
            "exporting AudioChunks/chunk61.wav\n",
            "exporting AudioChunks/chunk62.wav\n",
            "exporting AudioChunks/chunk63.wav\n",
            "exporting AudioChunks/chunk64.wav\n",
            "exporting AudioChunks/chunk65.wav\n",
            "exporting AudioChunks/chunk66.wav\n",
            "exporting AudioChunks/chunk67.wav\n",
            "exporting AudioChunks/chunk68.wav\n",
            "exporting AudioChunks/chunk69.wav\n",
            "exporting AudioChunks/chunk70.wav\n",
            "exporting AudioChunks/chunk71.wav\n",
            "exporting AudioChunks/chunk72.wav\n",
            "exporting AudioChunks/chunk73.wav\n",
            "exporting AudioChunks/chunk74.wav\n",
            "exporting AudioChunks/chunk75.wav\n",
            "exporting AudioChunks/chunk76.wav\n",
            "exporting AudioChunks/chunk77.wav\n",
            "exporting AudioChunks/chunk78.wav\n",
            "['network', 'term', 'device', 'layer', 'web', 'need', 'work', 'area', 'router', 'application', 'topology', 'client', 'server']\n",
            "good morning welcome to you to day's networking discussion on professor cannot\n",
            "network\n",
            "good morning welcome to you to day's networking discussion on professor cannot\n",
            "work\n",
            "ing about what the purpose of network is for mainly the different types of devices\n",
            "device\n",
            "well as addressing the types of networks that you have and their applications\n",
            "application\n",
            "we use different terms in networking that you'll see throughout the chorus f you hear ne\n",
            "term\n",
            "cations that you'll see disgust in the text client server and peaked a pear be\n",
            "client\n",
            "so if clip server as you'll see the listing that's the dominant\n",
            "server\n",
            "type of network that we see to day in terms of applications if you seen the list web e\n",
            "web\n",
            "offices such as printers available then you need to make those resources available somehow on\n",
            "need\n",
            "will see others such as hubs routers wireless acs as points and more\n",
            "router\n",
            "so that also mention you get atwasnar'sa metropolitan area that work which is typically within one\n",
            "area\n",
            "into seven layers as you can see here with the roller coming the top three lay\n",
            "layer\n",
            "[\"good morning welcome to you to day's networking discussion on professor cannot\", 'ar we are you to go through chapter one of the text which is introduction to networking wer to be taught', 'ing about what the purpose of network is for mainly the different types of devices', 'well as addressing the types of networks that you have and their applications', \"we use different terms in networking that you'll see throughout the chorus f you hear ne\", 'services you might also hear the term application to purposes a network is ther', 'two share different types of what we call resources or resource could be a something as simple as a', 'ile or printer it could be a wed side could be an entire ear pea system so that will', 'the term resource as well as application under the hood he might hears use the term serve', 'reading farther under the surface we might say protocol there are different types of', \"cations that you'll see disgust in the text client server and peaked a pear be\", \"man types but you'll see others mattiond as well\", \"so if clip server as you'll see the listing that's the dominant\", 'type of network that we see to day in terms of applications if you seen the list web e', 'male others it will get through throughout the course but you can see those are really the maintype', 'of applications ot confined to day there again referred to as client server some beside here you can see', \"the intricate which some people confuse fom being the web it's not the same thing so\", 'h the interstate being the emp structure of te series of connections of networks the', \"users requesting a wet page a vile wet browser that's the sop\", 'running up their machine own is the client and you ave w observers were running on the web servant will get', 'to that future chapters other examples e row so we cul say e males the a', 'location under the hood there are a set of one or more protocols that prov', 'i that service to the application so here you can see example such as sm t p pop three', \"lots of alphabet suit the master and we'll get into all of them fa print\", 'lum but more basic but that too represents a network application if i want to make files available', 'offices such as printers available then you need to make those resources available somehow on', 'talk that could be done in a fairly simply invioment known his puerto peer with', 'to say each system has a something that is share in a particular resource', 'and that the other machines are functioning as clients at a requesting the services on tha', \"titular machine what you don't see in that live is any mention of a particular server so\", 'its a little bit simpler of the set up over the long hall i can get a a bit more complicated', \"so he can see the slide there it's simple for small networks it's an expr\", \"nen because you don't need complicated sirroporating systems but you can see the problems are de\", \"sn't scale well it doesn't grow as your needs change and it's all\", 'o not a secure so client serve as you can see here being a more dominant type of what you might', 'administrative model so all of the security lost of the services might be', 'isolated on one or maybe several machines and then the clients are simply requesting those', 'services from those one or more servers that you have so n', 'asa network operating system that would be something like servergen any on the slide or', 'linux is a popular servooperating system as well now we will', 'e getting into ah the different components unite for the network so the application', \"technically as one compose but as we get into more hard ware types of things you'll see some devices mentioned\", 'the like there or least in the diagram ye can see a switch mentioned as a particular device', 'will see others such as hubs routers wireless acs as points and more', 'that diagram als also referring to a particular apologies or of the design of the', \"t work that physical apologies you can see as what's mot as a star or apology sometimes call\", 'd hub and spoke this like shows', 'a combination of apology so you have three separate devices that are connected maybe', 'three separate class rooms three separate buildings three separate offices and then they are all', 'are connected together on whats known as a bus apology a single line connected', 'altogether larger types of networks you might need other types', 'and devices so vacancy in addition to switches which are representing individual networks all', 'hose networks are then connected by one or more rowers', 'stepping back even farther now so if we need to connect multiple networks together', \"via ias peas or providers he could see now therein what's note as a wam link\", \"so that also mention you get atwasnar'sa metropolitan area that work which is typically within one\", 'particular city munispilarea or wide area thatworks which can real', 'a span the entire globe but you need a proprietor to give you those kinds of connections', \"wa spent a maritime dismesseor discussing the aussie mail so it's broke n\", 'into seven layers as you can see here with the roller coming the top three lay', \"rs are really all about the application itself so you'll see presentation and session\", 'mention there but really most ofetamis us been talking about the application itself and being the ex', 'samples ar a the application being web or e male or f t p', 'under the hood each application is made up of one or more protocol more services', 'at are allowing that application to function transport layer different proto', \"all different job it's not the applications how are we delivering the applicationthe net work\", 'glare how are we getting that data from the application from one place to another using pro to call', 'and addressing datalincon physical lair are more about connectivity', 'e using the network card in getting that nick connected to particular device on your land', 'we spent a lot of time dismessor discussing the interact', 'ion of these seven latter of the side model if you have a good understanding of the side model you', 'very very well in the rest of your net work in courses wil go', 'rough the interaction of the layers and each divide', 'ss has a particular job to do each devices functioning at a particular layer of the', \"simon so at the end of this chapter you'l understand each layer has a job each layer has something\", 't doing that job and then each latter has either maybe a piece of hardware or soft wore', \"times both that's getting that accomplished so that raps up chapter one we\", 'discuss this and haven web quit our next class', '']\n",
            "[0, 2, 3, 4, 10, 12, 13, 25, 43, 55, 59]\n",
            "3/3 [==============================] - 0s 23ms/step\n",
            "129.15594876699248\n",
            "126.86159701840778\n",
            "120.11969032083513\n",
            "120.35250629344061\n",
            "128.14370814376394\n",
            "119.21712723397204\n",
            "128.10935700011754\n",
            "112.17671950115619\n",
            "125.36856219287573\n",
            "118.23243871911674\n",
            "110.09943723142851\n",
            "[  0.   5.  10.  15.  20.  25.  30.  35.  40.  45.  50.  55.  60.  65.\n",
            "  70.  75.  80.  85.  90.  95. 100. 105. 110. 115. 120. 125. 130. 135.\n",
            " 140. 145. 150. 155. 160. 165. 170. 175. 180. 185. 190. 195. 200. 205.\n",
            " 210. 215. 220. 225. 230. 235. 240. 245. 250. 255. 260. 265. 270. 275.\n",
            " 280. 285. 290. 295. 300. 305. 310. 315. 320. 325. 330. 335. 340. 345.\n",
            " 350. 355. 360. 365. 370. 375. 380. 385. 390.]\n",
            "6287325 79\n",
            "79586\n",
            "     time  amplitude\n",
            "0     0.0   1.406207\n",
            "1     5.0  -0.689754\n",
            "2    10.0  -0.160222\n",
            "3    15.0   0.031851\n",
            "4    20.0  -0.150954\n",
            "..    ...        ...\n",
            "74  370.0  -0.915037\n",
            "75  375.0  -0.684438\n",
            "76  380.0  -1.260032\n",
            "77  385.0   2.679243\n",
            "78  390.0   0.159375\n",
            "\n",
            "[79 rows x 2 columns]\n",
            "1.406206812630087\n",
            "-0.1602224276244465\n",
            "0.031851231383541886\n",
            "-0.1509538660449281\n",
            "0.8381998347644821\n",
            "-4.031202783546661\n",
            "-4.383688888398442\n",
            "0.27617470810791234\n",
            "-0.4002647178241262\n",
            "-1.4549719067911389\n",
            "1.982492135982372\n",
            "[\"good morning welcome to you to day's networking discussion on professor cannot\", 'reading farther under the surface we might say protocol there are different types of', \"cations that you'll see disgust in the text client server and peaked a pear be\", 'type of network that we see to day in terms of applications if you seen the list web e', 'of applications ot confined to day there again referred to as client server some beside here you can see', \"technically as one compose but as we get into more hard ware types of things you'll see some devices mentioned\", 'at are allowing that application to function transport layer different proto']\n",
            "[\"good morning welcome to you to day's networking discussion on professor cannot\", 'ing about what the purpose of network is for mainly the different types of devices', 'well as addressing the types of networks that you have and their applications', \"we use different terms in networking that you'll see throughout the chorus f you hear ne\", \"cations that you'll see disgust in the text client server and peaked a pear be\", 'i that service to the application so here you can see example such as sm t p pop three', \"lots of alphabet suit the master and we'll get into all of them fa print\", 'offices such as printers available then you need to make those resources available somehow on', 'to say each system has a something that is share in a particular resource', 'isolated on one or maybe several machines and then the clients are simply requesting those', 'services from those one or more servers that you have so n', \"via ias peas or providers he could see now therein what's note as a wam link\", 'into seven layers as you can see here with the roller coming the top three lay']\n"
          ],
          "name": "stdout"
        },
        {
          "output_type": "stream",
          "text": [
            "127.0.0.1 - - [26/Jul/2021 10:43:01] \"\u001b[37mGET /full-transcription HTTP/1.1\u001b[0m\" 200 -\n"
          ],
          "name": "stderr"
        },
        {
          "output_type": "stream",
          "text": [
            "[\"good morning welcome to you today's networking discussion on professor canard.\", \"but as we get into more hardware types of things you'll see some devices mentioned in this live there or least in the diagram oe can see a switch mentioned as a particular device will see others such as hubs routers wireless access points and more that diagram also also referring to a particular typology or the design of the network that physical apologies you can see as what's known as a star topology sometimes called hub and spoke this like shows a combination of topology.\", \"you be talking about what the purpose of network is for mainly the different types of devices as well as addressing the types of networks that you have and their applications.. we use different terms in networking that you'll see throughout the course o you hear network services.\", 'you might also hear the term application the purposes a network is there to share different types of what we call resources or resource could be a something as simple as a file or printer it could be a website.', \"and then they are all ar connected together on what's known as a bus topology a single line connecting them altogether.. larger types of networks you might need other types of devices so you can see an addition to switches which are representing individual networks all of those networks than connected by one or more routers stepping back even farther news if we need to cont multiple networks together vi a ias peas or providers you can see now there is what's known as a wan link so that also mentioning you get up white nar's a metropolitan area net work which is typically within one particular city municpilarea or wide area a net works which can really span the entire globe.\", \"so it's broken up into seven layers as you can see here with the color coming.\", \"we might say protocol there are different types of applications that you'll see discussed in the text client server and peaked a pear being the two main types but you'll see others mentioned as well.. so if client server as you'll seen the listing that's the dominant type of networks that we see to day terms of application if.\", \"it's not the application.\", 'but really most of the time we us bend talking about the application itself and give the examples are a the application being web or e mail or f tp under the hood each application is made up of one or more protocols more services that are allowing that application to function transport layer different protocols different job.', 'refer to as client servers.', 'there are a set of of one or more protocols that provide that service to the application so here you can see example such as sem t p pop three lots of alphabet suit the semester and will get into all of them.', \"that two represents in tapwlik application if i want to make files available devices such as printers available than you need to make those resources of elle somehow on the net that could be done in a fairly simple environment known is needed appear which is to say each system has a something that it's sharing a particular resource and then the other machines are functioning as clients that ae requesting the services on that particular machine.\", 'so client servigeyou cancer here being more dominant type of what you might call an administrative mob so all of the security los of the services might be a isolated on one or maybe several machines and then the clients are simply requesting those services from those one or more service that you have so nos network operatingsystem that would be something like serve orgyou candy on the slide or lines of popular servoroperating system as well.. now we will be getting into ah the different components hat you need for the network.']\n"
          ],
          "name": "stdout"
        }
      ]
    }
  ]
}