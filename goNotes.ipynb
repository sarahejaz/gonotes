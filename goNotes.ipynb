{
  "nbformat": 4,
  "nbformat_minor": 0,
  "metadata": {
    "accelerator": "GPU",
    "colab": {
      "name": "goNotes.ipynb",
      "provenance": [],
      "collapsed_sections": [
        "OEQ3R2aU1pmS",
        "eXhOqxyMKZIF"
      ],
      "include_colab_link": true
    },
    "kernelspec": {
      "display_name": "Python 3",
      "name": "python3"
    },
    "widgets": {
      "application/vnd.jupyter.widget-state+json": {
        "f5e2d79b83394f3697c7e847a69f65fe": {
          "model_module": "@jupyter-widgets/controls",
          "model_name": "HBoxModel",
          "state": {
            "_view_name": "HBoxView",
            "_dom_classes": [],
            "_model_name": "HBoxModel",
            "_view_module": "@jupyter-widgets/controls",
            "_model_module_version": "1.5.0",
            "_view_count": null,
            "_view_module_version": "1.5.0",
            "box_style": "",
            "layout": "IPY_MODEL_092f99f48c5a49e18d4c01aa1984d6c2",
            "_model_module": "@jupyter-widgets/controls",
            "children": [
              "IPY_MODEL_61c0038e267d4b5cb8c693f7ea1f28aa",
              "IPY_MODEL_79e8b16ee43c4096a2a5a5cc2f339ab5"
            ]
          }
        },
        "092f99f48c5a49e18d4c01aa1984d6c2": {
          "model_module": "@jupyter-widgets/base",
          "model_name": "LayoutModel",
          "state": {
            "_view_name": "LayoutView",
            "grid_template_rows": null,
            "right": null,
            "justify_content": null,
            "_view_module": "@jupyter-widgets/base",
            "overflow": null,
            "_model_module_version": "1.2.0",
            "_view_count": null,
            "flex_flow": null,
            "width": null,
            "min_width": null,
            "border": null,
            "align_items": null,
            "bottom": null,
            "_model_module": "@jupyter-widgets/base",
            "top": null,
            "grid_column": null,
            "overflow_y": null,
            "overflow_x": null,
            "grid_auto_flow": null,
            "grid_area": null,
            "grid_template_columns": null,
            "flex": null,
            "_model_name": "LayoutModel",
            "justify_items": null,
            "grid_row": null,
            "max_height": null,
            "align_content": null,
            "visibility": null,
            "align_self": null,
            "height": null,
            "min_height": null,
            "padding": null,
            "grid_auto_rows": null,
            "grid_gap": null,
            "max_width": null,
            "order": null,
            "_view_module_version": "1.2.0",
            "grid_template_areas": null,
            "object_position": null,
            "object_fit": null,
            "grid_auto_columns": null,
            "margin": null,
            "display": null,
            "left": null
          }
        },
        "61c0038e267d4b5cb8c693f7ea1f28aa": {
          "model_module": "@jupyter-widgets/controls",
          "model_name": "FloatProgressModel",
          "state": {
            "_view_name": "ProgressView",
            "style": "IPY_MODEL_676ec75fc6034266afd9a0c4b958d7bf",
            "_dom_classes": [],
            "description": "Downloading: 100%",
            "_model_name": "FloatProgressModel",
            "bar_style": "success",
            "max": 291,
            "_view_module": "@jupyter-widgets/controls",
            "_model_module_version": "1.5.0",
            "value": 291,
            "_view_count": null,
            "_view_module_version": "1.5.0",
            "orientation": "horizontal",
            "min": 0,
            "description_tooltip": null,
            "_model_module": "@jupyter-widgets/controls",
            "layout": "IPY_MODEL_ac57ad27f5244408a430c967d84dc93d"
          }
        },
        "79e8b16ee43c4096a2a5a5cc2f339ab5": {
          "model_module": "@jupyter-widgets/controls",
          "model_name": "HTMLModel",
          "state": {
            "_view_name": "HTMLView",
            "style": "IPY_MODEL_e8f444027e9541cf9eaafdc90ca55a59",
            "_dom_classes": [],
            "description": "",
            "_model_name": "HTMLModel",
            "placeholder": "​",
            "_view_module": "@jupyter-widgets/controls",
            "_model_module_version": "1.5.0",
            "value": " 291/291 [00:03&lt;00:00, 87.3B/s]",
            "_view_count": null,
            "_view_module_version": "1.5.0",
            "description_tooltip": null,
            "_model_module": "@jupyter-widgets/controls",
            "layout": "IPY_MODEL_4a8bf50a575140cfabc1f46f57ebddc8"
          }
        },
        "676ec75fc6034266afd9a0c4b958d7bf": {
          "model_module": "@jupyter-widgets/controls",
          "model_name": "ProgressStyleModel",
          "state": {
            "_view_name": "StyleView",
            "_model_name": "ProgressStyleModel",
            "description_width": "initial",
            "_view_module": "@jupyter-widgets/base",
            "_model_module_version": "1.5.0",
            "_view_count": null,
            "_view_module_version": "1.2.0",
            "bar_color": null,
            "_model_module": "@jupyter-widgets/controls"
          }
        },
        "ac57ad27f5244408a430c967d84dc93d": {
          "model_module": "@jupyter-widgets/base",
          "model_name": "LayoutModel",
          "state": {
            "_view_name": "LayoutView",
            "grid_template_rows": null,
            "right": null,
            "justify_content": null,
            "_view_module": "@jupyter-widgets/base",
            "overflow": null,
            "_model_module_version": "1.2.0",
            "_view_count": null,
            "flex_flow": null,
            "width": null,
            "min_width": null,
            "border": null,
            "align_items": null,
            "bottom": null,
            "_model_module": "@jupyter-widgets/base",
            "top": null,
            "grid_column": null,
            "overflow_y": null,
            "overflow_x": null,
            "grid_auto_flow": null,
            "grid_area": null,
            "grid_template_columns": null,
            "flex": null,
            "_model_name": "LayoutModel",
            "justify_items": null,
            "grid_row": null,
            "max_height": null,
            "align_content": null,
            "visibility": null,
            "align_self": null,
            "height": null,
            "min_height": null,
            "padding": null,
            "grid_auto_rows": null,
            "grid_gap": null,
            "max_width": null,
            "order": null,
            "_view_module_version": "1.2.0",
            "grid_template_areas": null,
            "object_position": null,
            "object_fit": null,
            "grid_auto_columns": null,
            "margin": null,
            "display": null,
            "left": null
          }
        },
        "e8f444027e9541cf9eaafdc90ca55a59": {
          "model_module": "@jupyter-widgets/controls",
          "model_name": "DescriptionStyleModel",
          "state": {
            "_view_name": "StyleView",
            "_model_name": "DescriptionStyleModel",
            "description_width": "",
            "_view_module": "@jupyter-widgets/base",
            "_model_module_version": "1.5.0",
            "_view_count": null,
            "_view_module_version": "1.2.0",
            "_model_module": "@jupyter-widgets/controls"
          }
        },
        "4a8bf50a575140cfabc1f46f57ebddc8": {
          "model_module": "@jupyter-widgets/base",
          "model_name": "LayoutModel",
          "state": {
            "_view_name": "LayoutView",
            "grid_template_rows": null,
            "right": null,
            "justify_content": null,
            "_view_module": "@jupyter-widgets/base",
            "overflow": null,
            "_model_module_version": "1.2.0",
            "_view_count": null,
            "flex_flow": null,
            "width": null,
            "min_width": null,
            "border": null,
            "align_items": null,
            "bottom": null,
            "_model_module": "@jupyter-widgets/base",
            "top": null,
            "grid_column": null,
            "overflow_y": null,
            "overflow_x": null,
            "grid_auto_flow": null,
            "grid_area": null,
            "grid_template_columns": null,
            "flex": null,
            "_model_name": "LayoutModel",
            "justify_items": null,
            "grid_row": null,
            "max_height": null,
            "align_content": null,
            "visibility": null,
            "align_self": null,
            "height": null,
            "min_height": null,
            "padding": null,
            "grid_auto_rows": null,
            "grid_gap": null,
            "max_width": null,
            "order": null,
            "_view_module_version": "1.2.0",
            "grid_template_areas": null,
            "object_position": null,
            "object_fit": null,
            "grid_auto_columns": null,
            "margin": null,
            "display": null,
            "left": null
          }
        },
        "62a72439f31645fe9e9b07ce1bbf0ab5": {
          "model_module": "@jupyter-widgets/controls",
          "model_name": "HBoxModel",
          "state": {
            "_view_name": "HBoxView",
            "_dom_classes": [],
            "_model_name": "HBoxModel",
            "_view_module": "@jupyter-widgets/controls",
            "_model_module_version": "1.5.0",
            "_view_count": null,
            "_view_module_version": "1.5.0",
            "box_style": "",
            "layout": "IPY_MODEL_67bbdc5980674fbe9fa68fba52d30bad",
            "_model_module": "@jupyter-widgets/controls",
            "children": [
              "IPY_MODEL_dfec7422605645e5b96e63e9ef9aab26",
              "IPY_MODEL_eabbadfd40774af6b6ca8694a75d9a12"
            ]
          }
        },
        "67bbdc5980674fbe9fa68fba52d30bad": {
          "model_module": "@jupyter-widgets/base",
          "model_name": "LayoutModel",
          "state": {
            "_view_name": "LayoutView",
            "grid_template_rows": null,
            "right": null,
            "justify_content": null,
            "_view_module": "@jupyter-widgets/base",
            "overflow": null,
            "_model_module_version": "1.2.0",
            "_view_count": null,
            "flex_flow": null,
            "width": null,
            "min_width": null,
            "border": null,
            "align_items": null,
            "bottom": null,
            "_model_module": "@jupyter-widgets/base",
            "top": null,
            "grid_column": null,
            "overflow_y": null,
            "overflow_x": null,
            "grid_auto_flow": null,
            "grid_area": null,
            "grid_template_columns": null,
            "flex": null,
            "_model_name": "LayoutModel",
            "justify_items": null,
            "grid_row": null,
            "max_height": null,
            "align_content": null,
            "visibility": null,
            "align_self": null,
            "height": null,
            "min_height": null,
            "padding": null,
            "grid_auto_rows": null,
            "grid_gap": null,
            "max_width": null,
            "order": null,
            "_view_module_version": "1.2.0",
            "grid_template_areas": null,
            "object_position": null,
            "object_fit": null,
            "grid_auto_columns": null,
            "margin": null,
            "display": null,
            "left": null
          }
        },
        "dfec7422605645e5b96e63e9ef9aab26": {
          "model_module": "@jupyter-widgets/controls",
          "model_name": "FloatProgressModel",
          "state": {
            "_view_name": "ProgressView",
            "style": "IPY_MODEL_be48e65fb18d47c898a1b1f1a719fcf5",
            "_dom_classes": [],
            "description": "Downloading: 100%",
            "_model_name": "FloatProgressModel",
            "bar_style": "success",
            "max": 163,
            "_view_module": "@jupyter-widgets/controls",
            "_model_module_version": "1.5.0",
            "value": 163,
            "_view_count": null,
            "_view_module_version": "1.5.0",
            "orientation": "horizontal",
            "min": 0,
            "description_tooltip": null,
            "_model_module": "@jupyter-widgets/controls",
            "layout": "IPY_MODEL_a495acb53e954afc85928bc461b6048f"
          }
        },
        "eabbadfd40774af6b6ca8694a75d9a12": {
          "model_module": "@jupyter-widgets/controls",
          "model_name": "HTMLModel",
          "state": {
            "_view_name": "HTMLView",
            "style": "IPY_MODEL_f794930f44714dc9b31b7ee0b2ad6383",
            "_dom_classes": [],
            "description": "",
            "_model_name": "HTMLModel",
            "placeholder": "​",
            "_view_module": "@jupyter-widgets/controls",
            "_model_module_version": "1.5.0",
            "value": " 163/163 [00:01&lt;00:00, 141B/s]",
            "_view_count": null,
            "_view_module_version": "1.5.0",
            "description_tooltip": null,
            "_model_module": "@jupyter-widgets/controls",
            "layout": "IPY_MODEL_f35ebc0d928746fd926f9044fedddb2a"
          }
        },
        "be48e65fb18d47c898a1b1f1a719fcf5": {
          "model_module": "@jupyter-widgets/controls",
          "model_name": "ProgressStyleModel",
          "state": {
            "_view_name": "StyleView",
            "_model_name": "ProgressStyleModel",
            "description_width": "initial",
            "_view_module": "@jupyter-widgets/base",
            "_model_module_version": "1.5.0",
            "_view_count": null,
            "_view_module_version": "1.2.0",
            "bar_color": null,
            "_model_module": "@jupyter-widgets/controls"
          }
        },
        "a495acb53e954afc85928bc461b6048f": {
          "model_module": "@jupyter-widgets/base",
          "model_name": "LayoutModel",
          "state": {
            "_view_name": "LayoutView",
            "grid_template_rows": null,
            "right": null,
            "justify_content": null,
            "_view_module": "@jupyter-widgets/base",
            "overflow": null,
            "_model_module_version": "1.2.0",
            "_view_count": null,
            "flex_flow": null,
            "width": null,
            "min_width": null,
            "border": null,
            "align_items": null,
            "bottom": null,
            "_model_module": "@jupyter-widgets/base",
            "top": null,
            "grid_column": null,
            "overflow_y": null,
            "overflow_x": null,
            "grid_auto_flow": null,
            "grid_area": null,
            "grid_template_columns": null,
            "flex": null,
            "_model_name": "LayoutModel",
            "justify_items": null,
            "grid_row": null,
            "max_height": null,
            "align_content": null,
            "visibility": null,
            "align_self": null,
            "height": null,
            "min_height": null,
            "padding": null,
            "grid_auto_rows": null,
            "grid_gap": null,
            "max_width": null,
            "order": null,
            "_view_module_version": "1.2.0",
            "grid_template_areas": null,
            "object_position": null,
            "object_fit": null,
            "grid_auto_columns": null,
            "margin": null,
            "display": null,
            "left": null
          }
        },
        "f794930f44714dc9b31b7ee0b2ad6383": {
          "model_module": "@jupyter-widgets/controls",
          "model_name": "DescriptionStyleModel",
          "state": {
            "_view_name": "StyleView",
            "_model_name": "DescriptionStyleModel",
            "description_width": "",
            "_view_module": "@jupyter-widgets/base",
            "_model_module_version": "1.5.0",
            "_view_count": null,
            "_view_module_version": "1.2.0",
            "_model_module": "@jupyter-widgets/controls"
          }
        },
        "f35ebc0d928746fd926f9044fedddb2a": {
          "model_module": "@jupyter-widgets/base",
          "model_name": "LayoutModel",
          "state": {
            "_view_name": "LayoutView",
            "grid_template_rows": null,
            "right": null,
            "justify_content": null,
            "_view_module": "@jupyter-widgets/base",
            "overflow": null,
            "_model_module_version": "1.2.0",
            "_view_count": null,
            "flex_flow": null,
            "width": null,
            "min_width": null,
            "border": null,
            "align_items": null,
            "bottom": null,
            "_model_module": "@jupyter-widgets/base",
            "top": null,
            "grid_column": null,
            "overflow_y": null,
            "overflow_x": null,
            "grid_auto_flow": null,
            "grid_area": null,
            "grid_template_columns": null,
            "flex": null,
            "_model_name": "LayoutModel",
            "justify_items": null,
            "grid_row": null,
            "max_height": null,
            "align_content": null,
            "visibility": null,
            "align_self": null,
            "height": null,
            "min_height": null,
            "padding": null,
            "grid_auto_rows": null,
            "grid_gap": null,
            "max_width": null,
            "order": null,
            "_view_module_version": "1.2.0",
            "grid_template_areas": null,
            "object_position": null,
            "object_fit": null,
            "grid_auto_columns": null,
            "margin": null,
            "display": null,
            "left": null
          }
        },
        "8ef135d4da044fdcaf035c06173d1be1": {
          "model_module": "@jupyter-widgets/controls",
          "model_name": "HBoxModel",
          "state": {
            "_view_name": "HBoxView",
            "_dom_classes": [],
            "_model_name": "HBoxModel",
            "_view_module": "@jupyter-widgets/controls",
            "_model_module_version": "1.5.0",
            "_view_count": null,
            "_view_module_version": "1.5.0",
            "box_style": "",
            "layout": "IPY_MODEL_c6e2eb675152429f9053f05931fdfa09",
            "_model_module": "@jupyter-widgets/controls",
            "children": [
              "IPY_MODEL_f64d72e0c69d420ea40c06c4ccc1b0d6",
              "IPY_MODEL_351e68f85b144c929a62ac514c8ffccf"
            ]
          }
        },
        "c6e2eb675152429f9053f05931fdfa09": {
          "model_module": "@jupyter-widgets/base",
          "model_name": "LayoutModel",
          "state": {
            "_view_name": "LayoutView",
            "grid_template_rows": null,
            "right": null,
            "justify_content": null,
            "_view_module": "@jupyter-widgets/base",
            "overflow": null,
            "_model_module_version": "1.2.0",
            "_view_count": null,
            "flex_flow": null,
            "width": null,
            "min_width": null,
            "border": null,
            "align_items": null,
            "bottom": null,
            "_model_module": "@jupyter-widgets/base",
            "top": null,
            "grid_column": null,
            "overflow_y": null,
            "overflow_x": null,
            "grid_auto_flow": null,
            "grid_area": null,
            "grid_template_columns": null,
            "flex": null,
            "_model_name": "LayoutModel",
            "justify_items": null,
            "grid_row": null,
            "max_height": null,
            "align_content": null,
            "visibility": null,
            "align_self": null,
            "height": null,
            "min_height": null,
            "padding": null,
            "grid_auto_rows": null,
            "grid_gap": null,
            "max_width": null,
            "order": null,
            "_view_module_version": "1.2.0",
            "grid_template_areas": null,
            "object_position": null,
            "object_fit": null,
            "grid_auto_columns": null,
            "margin": null,
            "display": null,
            "left": null
          }
        },
        "f64d72e0c69d420ea40c06c4ccc1b0d6": {
          "model_module": "@jupyter-widgets/controls",
          "model_name": "FloatProgressModel",
          "state": {
            "_view_name": "ProgressView",
            "style": "IPY_MODEL_08d65d62f1cb4d4aa2cc53fc46935829",
            "_dom_classes": [],
            "description": "Downloading: 100%",
            "_model_name": "FloatProgressModel",
            "bar_style": "success",
            "max": 85,
            "_view_module": "@jupyter-widgets/controls",
            "_model_module_version": "1.5.0",
            "value": 85,
            "_view_count": null,
            "_view_module_version": "1.5.0",
            "orientation": "horizontal",
            "min": 0,
            "description_tooltip": null,
            "_model_module": "@jupyter-widgets/controls",
            "layout": "IPY_MODEL_8a34dea6cbc64581a776deaf964c927b"
          }
        },
        "351e68f85b144c929a62ac514c8ffccf": {
          "model_module": "@jupyter-widgets/controls",
          "model_name": "HTMLModel",
          "state": {
            "_view_name": "HTMLView",
            "style": "IPY_MODEL_cee853993f294ac4883e49ae1ffb0edc",
            "_dom_classes": [],
            "description": "",
            "_model_name": "HTMLModel",
            "placeholder": "​",
            "_view_module": "@jupyter-widgets/controls",
            "_model_module_version": "1.5.0",
            "value": " 85.0/85.0 [00:01&lt;00:00, 61.8B/s]",
            "_view_count": null,
            "_view_module_version": "1.5.0",
            "description_tooltip": null,
            "_model_module": "@jupyter-widgets/controls",
            "layout": "IPY_MODEL_f13d83e6615c443587b64be0e8a4aacc"
          }
        },
        "08d65d62f1cb4d4aa2cc53fc46935829": {
          "model_module": "@jupyter-widgets/controls",
          "model_name": "ProgressStyleModel",
          "state": {
            "_view_name": "StyleView",
            "_model_name": "ProgressStyleModel",
            "description_width": "initial",
            "_view_module": "@jupyter-widgets/base",
            "_model_module_version": "1.5.0",
            "_view_count": null,
            "_view_module_version": "1.2.0",
            "bar_color": null,
            "_model_module": "@jupyter-widgets/controls"
          }
        },
        "8a34dea6cbc64581a776deaf964c927b": {
          "model_module": "@jupyter-widgets/base",
          "model_name": "LayoutModel",
          "state": {
            "_view_name": "LayoutView",
            "grid_template_rows": null,
            "right": null,
            "justify_content": null,
            "_view_module": "@jupyter-widgets/base",
            "overflow": null,
            "_model_module_version": "1.2.0",
            "_view_count": null,
            "flex_flow": null,
            "width": null,
            "min_width": null,
            "border": null,
            "align_items": null,
            "bottom": null,
            "_model_module": "@jupyter-widgets/base",
            "top": null,
            "grid_column": null,
            "overflow_y": null,
            "overflow_x": null,
            "grid_auto_flow": null,
            "grid_area": null,
            "grid_template_columns": null,
            "flex": null,
            "_model_name": "LayoutModel",
            "justify_items": null,
            "grid_row": null,
            "max_height": null,
            "align_content": null,
            "visibility": null,
            "align_self": null,
            "height": null,
            "min_height": null,
            "padding": null,
            "grid_auto_rows": null,
            "grid_gap": null,
            "max_width": null,
            "order": null,
            "_view_module_version": "1.2.0",
            "grid_template_areas": null,
            "object_position": null,
            "object_fit": null,
            "grid_auto_columns": null,
            "margin": null,
            "display": null,
            "left": null
          }
        },
        "cee853993f294ac4883e49ae1ffb0edc": {
          "model_module": "@jupyter-widgets/controls",
          "model_name": "DescriptionStyleModel",
          "state": {
            "_view_name": "StyleView",
            "_model_name": "DescriptionStyleModel",
            "description_width": "",
            "_view_module": "@jupyter-widgets/base",
            "_model_module_version": "1.5.0",
            "_view_count": null,
            "_view_module_version": "1.2.0",
            "_model_module": "@jupyter-widgets/controls"
          }
        },
        "f13d83e6615c443587b64be0e8a4aacc": {
          "model_module": "@jupyter-widgets/base",
          "model_name": "LayoutModel",
          "state": {
            "_view_name": "LayoutView",
            "grid_template_rows": null,
            "right": null,
            "justify_content": null,
            "_view_module": "@jupyter-widgets/base",
            "overflow": null,
            "_model_module_version": "1.2.0",
            "_view_count": null,
            "flex_flow": null,
            "width": null,
            "min_width": null,
            "border": null,
            "align_items": null,
            "bottom": null,
            "_model_module": "@jupyter-widgets/base",
            "top": null,
            "grid_column": null,
            "overflow_y": null,
            "overflow_x": null,
            "grid_auto_flow": null,
            "grid_area": null,
            "grid_template_columns": null,
            "flex": null,
            "_model_name": "LayoutModel",
            "justify_items": null,
            "grid_row": null,
            "max_height": null,
            "align_content": null,
            "visibility": null,
            "align_self": null,
            "height": null,
            "min_height": null,
            "padding": null,
            "grid_auto_rows": null,
            "grid_gap": null,
            "max_width": null,
            "order": null,
            "_view_module_version": "1.2.0",
            "grid_template_areas": null,
            "object_position": null,
            "object_fit": null,
            "grid_auto_columns": null,
            "margin": null,
            "display": null,
            "left": null
          }
        },
        "4c17297489f5499481c731363b6a125b": {
          "model_module": "@jupyter-widgets/controls",
          "model_name": "HBoxModel",
          "state": {
            "_view_name": "HBoxView",
            "_dom_classes": [],
            "_model_name": "HBoxModel",
            "_view_module": "@jupyter-widgets/controls",
            "_model_module_version": "1.5.0",
            "_view_count": null,
            "_view_module_version": "1.5.0",
            "box_style": "",
            "layout": "IPY_MODEL_69f5eedf60e542bf97fb510e82c64151",
            "_model_module": "@jupyter-widgets/controls",
            "children": [
              "IPY_MODEL_dd80faf3ff244f589ffa1e32fcf29df0",
              "IPY_MODEL_2e1076fca5cb4bbfad6604a66eca96ac"
            ]
          }
        },
        "69f5eedf60e542bf97fb510e82c64151": {
          "model_module": "@jupyter-widgets/base",
          "model_name": "LayoutModel",
          "state": {
            "_view_name": "LayoutView",
            "grid_template_rows": null,
            "right": null,
            "justify_content": null,
            "_view_module": "@jupyter-widgets/base",
            "overflow": null,
            "_model_module_version": "1.2.0",
            "_view_count": null,
            "flex_flow": null,
            "width": null,
            "min_width": null,
            "border": null,
            "align_items": null,
            "bottom": null,
            "_model_module": "@jupyter-widgets/base",
            "top": null,
            "grid_column": null,
            "overflow_y": null,
            "overflow_x": null,
            "grid_auto_flow": null,
            "grid_area": null,
            "grid_template_columns": null,
            "flex": null,
            "_model_name": "LayoutModel",
            "justify_items": null,
            "grid_row": null,
            "max_height": null,
            "align_content": null,
            "visibility": null,
            "align_self": null,
            "height": null,
            "min_height": null,
            "padding": null,
            "grid_auto_rows": null,
            "grid_gap": null,
            "max_width": null,
            "order": null,
            "_view_module_version": "1.2.0",
            "grid_template_areas": null,
            "object_position": null,
            "object_fit": null,
            "grid_auto_columns": null,
            "margin": null,
            "display": null,
            "left": null
          }
        },
        "dd80faf3ff244f589ffa1e32fcf29df0": {
          "model_module": "@jupyter-widgets/controls",
          "model_name": "FloatProgressModel",
          "state": {
            "_view_name": "ProgressView",
            "style": "IPY_MODEL_3c0466bf11e2490aae80a115a5f5470f",
            "_dom_classes": [],
            "description": "Downloading: 100%",
            "_model_name": "FloatProgressModel",
            "bar_style": "success",
            "max": 1596,
            "_view_module": "@jupyter-widgets/controls",
            "_model_module_version": "1.5.0",
            "value": 1596,
            "_view_count": null,
            "_view_module_version": "1.5.0",
            "orientation": "horizontal",
            "min": 0,
            "description_tooltip": null,
            "_model_module": "@jupyter-widgets/controls",
            "layout": "IPY_MODEL_f491a72c5f7345249b81974611f03abf"
          }
        },
        "2e1076fca5cb4bbfad6604a66eca96ac": {
          "model_module": "@jupyter-widgets/controls",
          "model_name": "HTMLModel",
          "state": {
            "_view_name": "HTMLView",
            "style": "IPY_MODEL_1134428991a149cab2e334388c9166ac",
            "_dom_classes": [],
            "description": "",
            "_model_name": "HTMLModel",
            "placeholder": "​",
            "_view_module": "@jupyter-widgets/controls",
            "_model_module_version": "1.5.0",
            "value": " 1.60k/1.60k [00:00&lt;00:00, 8.48kB/s]",
            "_view_count": null,
            "_view_module_version": "1.5.0",
            "description_tooltip": null,
            "_model_module": "@jupyter-widgets/controls",
            "layout": "IPY_MODEL_623aa613a4a045218cf5c640ed962dbe"
          }
        },
        "3c0466bf11e2490aae80a115a5f5470f": {
          "model_module": "@jupyter-widgets/controls",
          "model_name": "ProgressStyleModel",
          "state": {
            "_view_name": "StyleView",
            "_model_name": "ProgressStyleModel",
            "description_width": "initial",
            "_view_module": "@jupyter-widgets/base",
            "_model_module_version": "1.5.0",
            "_view_count": null,
            "_view_module_version": "1.2.0",
            "bar_color": null,
            "_model_module": "@jupyter-widgets/controls"
          }
        },
        "f491a72c5f7345249b81974611f03abf": {
          "model_module": "@jupyter-widgets/base",
          "model_name": "LayoutModel",
          "state": {
            "_view_name": "LayoutView",
            "grid_template_rows": null,
            "right": null,
            "justify_content": null,
            "_view_module": "@jupyter-widgets/base",
            "overflow": null,
            "_model_module_version": "1.2.0",
            "_view_count": null,
            "flex_flow": null,
            "width": null,
            "min_width": null,
            "border": null,
            "align_items": null,
            "bottom": null,
            "_model_module": "@jupyter-widgets/base",
            "top": null,
            "grid_column": null,
            "overflow_y": null,
            "overflow_x": null,
            "grid_auto_flow": null,
            "grid_area": null,
            "grid_template_columns": null,
            "flex": null,
            "_model_name": "LayoutModel",
            "justify_items": null,
            "grid_row": null,
            "max_height": null,
            "align_content": null,
            "visibility": null,
            "align_self": null,
            "height": null,
            "min_height": null,
            "padding": null,
            "grid_auto_rows": null,
            "grid_gap": null,
            "max_width": null,
            "order": null,
            "_view_module_version": "1.2.0",
            "grid_template_areas": null,
            "object_position": null,
            "object_fit": null,
            "grid_auto_columns": null,
            "margin": null,
            "display": null,
            "left": null
          }
        },
        "1134428991a149cab2e334388c9166ac": {
          "model_module": "@jupyter-widgets/controls",
          "model_name": "DescriptionStyleModel",
          "state": {
            "_view_name": "StyleView",
            "_model_name": "DescriptionStyleModel",
            "description_width": "",
            "_view_module": "@jupyter-widgets/base",
            "_model_module_version": "1.5.0",
            "_view_count": null,
            "_view_module_version": "1.2.0",
            "_model_module": "@jupyter-widgets/controls"
          }
        },
        "623aa613a4a045218cf5c640ed962dbe": {
          "model_module": "@jupyter-widgets/base",
          "model_name": "LayoutModel",
          "state": {
            "_view_name": "LayoutView",
            "grid_template_rows": null,
            "right": null,
            "justify_content": null,
            "_view_module": "@jupyter-widgets/base",
            "overflow": null,
            "_model_module_version": "1.2.0",
            "_view_count": null,
            "flex_flow": null,
            "width": null,
            "min_width": null,
            "border": null,
            "align_items": null,
            "bottom": null,
            "_model_module": "@jupyter-widgets/base",
            "top": null,
            "grid_column": null,
            "overflow_y": null,
            "overflow_x": null,
            "grid_auto_flow": null,
            "grid_area": null,
            "grid_template_columns": null,
            "flex": null,
            "_model_name": "LayoutModel",
            "justify_items": null,
            "grid_row": null,
            "max_height": null,
            "align_content": null,
            "visibility": null,
            "align_self": null,
            "height": null,
            "min_height": null,
            "padding": null,
            "grid_auto_rows": null,
            "grid_gap": null,
            "max_width": null,
            "order": null,
            "_view_module_version": "1.2.0",
            "grid_template_areas": null,
            "object_position": null,
            "object_fit": null,
            "grid_auto_columns": null,
            "margin": null,
            "display": null,
            "left": null
          }
        },
        "7f9979a95c754fbb9c9389c551722991": {
          "model_module": "@jupyter-widgets/controls",
          "model_name": "HBoxModel",
          "state": {
            "_view_name": "HBoxView",
            "_dom_classes": [],
            "_model_name": "HBoxModel",
            "_view_module": "@jupyter-widgets/controls",
            "_model_module_version": "1.5.0",
            "_view_count": null,
            "_view_module_version": "1.5.0",
            "box_style": "",
            "layout": "IPY_MODEL_05468bb84fdd4afabcaffdcf2b38c6c2",
            "_model_module": "@jupyter-widgets/controls",
            "children": [
              "IPY_MODEL_06be9938814b445fbc7019e531db6fa4",
              "IPY_MODEL_d5f2aa212766487b9fe3ec214ad4b18d"
            ]
          }
        },
        "05468bb84fdd4afabcaffdcf2b38c6c2": {
          "model_module": "@jupyter-widgets/base",
          "model_name": "LayoutModel",
          "state": {
            "_view_name": "LayoutView",
            "grid_template_rows": null,
            "right": null,
            "justify_content": null,
            "_view_module": "@jupyter-widgets/base",
            "overflow": null,
            "_model_module_version": "1.2.0",
            "_view_count": null,
            "flex_flow": null,
            "width": null,
            "min_width": null,
            "border": null,
            "align_items": null,
            "bottom": null,
            "_model_module": "@jupyter-widgets/base",
            "top": null,
            "grid_column": null,
            "overflow_y": null,
            "overflow_x": null,
            "grid_auto_flow": null,
            "grid_area": null,
            "grid_template_columns": null,
            "flex": null,
            "_model_name": "LayoutModel",
            "justify_items": null,
            "grid_row": null,
            "max_height": null,
            "align_content": null,
            "visibility": null,
            "align_self": null,
            "height": null,
            "min_height": null,
            "padding": null,
            "grid_auto_rows": null,
            "grid_gap": null,
            "max_width": null,
            "order": null,
            "_view_module_version": "1.2.0",
            "grid_template_areas": null,
            "object_position": null,
            "object_fit": null,
            "grid_auto_columns": null,
            "margin": null,
            "display": null,
            "left": null
          }
        },
        "06be9938814b445fbc7019e531db6fa4": {
          "model_module": "@jupyter-widgets/controls",
          "model_name": "FloatProgressModel",
          "state": {
            "_view_name": "ProgressView",
            "style": "IPY_MODEL_39704aa23e9f4221bde757cef38aca9c",
            "_dom_classes": [],
            "description": "Downloading: 100%",
            "_model_name": "FloatProgressModel",
            "bar_style": "success",
            "max": 377667514,
            "_view_module": "@jupyter-widgets/controls",
            "_model_module_version": "1.5.0",
            "value": 377667514,
            "_view_count": null,
            "_view_module_version": "1.5.0",
            "orientation": "horizontal",
            "min": 0,
            "description_tooltip": null,
            "_model_module": "@jupyter-widgets/controls",
            "layout": "IPY_MODEL_5470045e519b4b25befbc188d39245bc"
          }
        },
        "d5f2aa212766487b9fe3ec214ad4b18d": {
          "model_module": "@jupyter-widgets/controls",
          "model_name": "HTMLModel",
          "state": {
            "_view_name": "HTMLView",
            "style": "IPY_MODEL_32deb79841844da79d8f4390fa21f54a",
            "_dom_classes": [],
            "description": "",
            "_model_name": "HTMLModel",
            "placeholder": "​",
            "_view_module": "@jupyter-widgets/controls",
            "_model_module_version": "1.5.0",
            "value": " 378M/378M [00:41&lt;00:00, 9.18MB/s]",
            "_view_count": null,
            "_view_module_version": "1.5.0",
            "description_tooltip": null,
            "_model_module": "@jupyter-widgets/controls",
            "layout": "IPY_MODEL_d6ab5cf88cea46aca89416673a3f770d"
          }
        },
        "39704aa23e9f4221bde757cef38aca9c": {
          "model_module": "@jupyter-widgets/controls",
          "model_name": "ProgressStyleModel",
          "state": {
            "_view_name": "StyleView",
            "_model_name": "ProgressStyleModel",
            "description_width": "initial",
            "_view_module": "@jupyter-widgets/base",
            "_model_module_version": "1.5.0",
            "_view_count": null,
            "_view_module_version": "1.2.0",
            "bar_color": null,
            "_model_module": "@jupyter-widgets/controls"
          }
        },
        "5470045e519b4b25befbc188d39245bc": {
          "model_module": "@jupyter-widgets/base",
          "model_name": "LayoutModel",
          "state": {
            "_view_name": "LayoutView",
            "grid_template_rows": null,
            "right": null,
            "justify_content": null,
            "_view_module": "@jupyter-widgets/base",
            "overflow": null,
            "_model_module_version": "1.2.0",
            "_view_count": null,
            "flex_flow": null,
            "width": null,
            "min_width": null,
            "border": null,
            "align_items": null,
            "bottom": null,
            "_model_module": "@jupyter-widgets/base",
            "top": null,
            "grid_column": null,
            "overflow_y": null,
            "overflow_x": null,
            "grid_auto_flow": null,
            "grid_area": null,
            "grid_template_columns": null,
            "flex": null,
            "_model_name": "LayoutModel",
            "justify_items": null,
            "grid_row": null,
            "max_height": null,
            "align_content": null,
            "visibility": null,
            "align_self": null,
            "height": null,
            "min_height": null,
            "padding": null,
            "grid_auto_rows": null,
            "grid_gap": null,
            "max_width": null,
            "order": null,
            "_view_module_version": "1.2.0",
            "grid_template_areas": null,
            "object_position": null,
            "object_fit": null,
            "grid_auto_columns": null,
            "margin": null,
            "display": null,
            "left": null
          }
        },
        "32deb79841844da79d8f4390fa21f54a": {
          "model_module": "@jupyter-widgets/controls",
          "model_name": "DescriptionStyleModel",
          "state": {
            "_view_name": "StyleView",
            "_model_name": "DescriptionStyleModel",
            "description_width": "",
            "_view_module": "@jupyter-widgets/base",
            "_model_module_version": "1.5.0",
            "_view_count": null,
            "_view_module_version": "1.2.0",
            "_model_module": "@jupyter-widgets/controls"
          }
        },
        "d6ab5cf88cea46aca89416673a3f770d": {
          "model_module": "@jupyter-widgets/base",
          "model_name": "LayoutModel",
          "state": {
            "_view_name": "LayoutView",
            "grid_template_rows": null,
            "right": null,
            "justify_content": null,
            "_view_module": "@jupyter-widgets/base",
            "overflow": null,
            "_model_module_version": "1.2.0",
            "_view_count": null,
            "flex_flow": null,
            "width": null,
            "min_width": null,
            "border": null,
            "align_items": null,
            "bottom": null,
            "_model_module": "@jupyter-widgets/base",
            "top": null,
            "grid_column": null,
            "overflow_y": null,
            "overflow_x": null,
            "grid_auto_flow": null,
            "grid_area": null,
            "grid_template_columns": null,
            "flex": null,
            "_model_name": "LayoutModel",
            "justify_items": null,
            "grid_row": null,
            "max_height": null,
            "align_content": null,
            "visibility": null,
            "align_self": null,
            "height": null,
            "min_height": null,
            "padding": null,
            "grid_auto_rows": null,
            "grid_gap": null,
            "max_width": null,
            "order": null,
            "_view_module_version": "1.2.0",
            "grid_template_areas": null,
            "object_position": null,
            "object_fit": null,
            "grid_auto_columns": null,
            "margin": null,
            "display": null,
            "left": null
          }
        }
      }
    }
  },
  "cells": [
    {
      "cell_type": "markdown",
      "metadata": {
        "id": "view-in-github",
        "colab_type": "text"
      },
      "source": [
        "<a href=\"https://colab.research.google.com/github/sarahejaz/gonotes/blob/main/goNotes.ipynb\" target=\"_parent\"><img src=\"https://colab.research.google.com/assets/colab-badge.svg\" alt=\"Open In Colab\"/></a>"
      ]
    },
    {
      "cell_type": "markdown",
      "metadata": {
        "id": "4zj613EFHxtB"
      },
      "source": [
        "#Mounting the Drive"
      ]
    },
    {
      "cell_type": "code",
      "metadata": {
        "colab": {
          "base_uri": "https://localhost:8080/"
        },
        "id": "L7y9-uXb3ZJD",
        "outputId": "40125fad-a352-490f-bfe7-07cd6f3620e0"
      },
      "source": [
        "from google.colab import drive\n",
        "drive.mount('/content/drive')"
      ],
      "execution_count": null,
      "outputs": [
        {
          "output_type": "stream",
          "text": [
            "Mounted at /content/drive\n"
          ],
          "name": "stdout"
        }
      ]
    },
    {
      "cell_type": "markdown",
      "metadata": {
        "id": "8vnRhRUP69c8"
      },
      "source": [
        "#Installations"
      ]
    },
    {
      "cell_type": "code",
      "metadata": {
        "id": "ylJDJCDO66AJ",
        "colab": {
          "base_uri": "https://localhost:8080/"
        },
        "outputId": "397e7742-effe-4653-c7e6-df05cf58b392"
      },
      "source": [
        "!pip install -q youtube-dl"
      ],
      "execution_count": null,
      "outputs": [
        {
          "output_type": "stream",
          "text": [
            "\u001b[?25l\r\u001b[K     |▏                               | 10 kB 18.0 MB/s eta 0:00:01\r\u001b[K     |▍                               | 20 kB 22.7 MB/s eta 0:00:01\r\u001b[K     |▌                               | 30 kB 26.5 MB/s eta 0:00:01\r\u001b[K     |▊                               | 40 kB 27.9 MB/s eta 0:00:01\r\u001b[K     |▉                               | 51 kB 17.5 MB/s eta 0:00:01\r\u001b[K     |█                               | 61 kB 12.6 MB/s eta 0:00:01\r\u001b[K     |█▏                              | 71 kB 12.4 MB/s eta 0:00:01\r\u001b[K     |█▍                              | 81 kB 13.4 MB/s eta 0:00:01\r\u001b[K     |█▌                              | 92 kB 12.6 MB/s eta 0:00:01\r\u001b[K     |█▊                              | 102 kB 13.4 MB/s eta 0:00:01\r\u001b[K     |██                              | 112 kB 13.4 MB/s eta 0:00:01\r\u001b[K     |██                              | 122 kB 13.4 MB/s eta 0:00:01\r\u001b[K     |██▎                             | 133 kB 13.4 MB/s eta 0:00:01\r\u001b[K     |██▍                             | 143 kB 13.4 MB/s eta 0:00:01\r\u001b[K     |██▋                             | 153 kB 13.4 MB/s eta 0:00:01\r\u001b[K     |██▊                             | 163 kB 13.4 MB/s eta 0:00:01\r\u001b[K     |███                             | 174 kB 13.4 MB/s eta 0:00:01\r\u001b[K     |███                             | 184 kB 13.4 MB/s eta 0:00:01\r\u001b[K     |███▎                            | 194 kB 13.4 MB/s eta 0:00:01\r\u001b[K     |███▍                            | 204 kB 13.4 MB/s eta 0:00:01\r\u001b[K     |███▋                            | 215 kB 13.4 MB/s eta 0:00:01\r\u001b[K     |███▉                            | 225 kB 13.4 MB/s eta 0:00:01\r\u001b[K     |████                            | 235 kB 13.4 MB/s eta 0:00:01\r\u001b[K     |████▏                           | 245 kB 13.4 MB/s eta 0:00:01\r\u001b[K     |████▎                           | 256 kB 13.4 MB/s eta 0:00:01\r\u001b[K     |████▌                           | 266 kB 13.4 MB/s eta 0:00:01\r\u001b[K     |████▋                           | 276 kB 13.4 MB/s eta 0:00:01\r\u001b[K     |████▉                           | 286 kB 13.4 MB/s eta 0:00:01\r\u001b[K     |█████                           | 296 kB 13.4 MB/s eta 0:00:01\r\u001b[K     |█████▏                          | 307 kB 13.4 MB/s eta 0:00:01\r\u001b[K     |█████▎                          | 317 kB 13.4 MB/s eta 0:00:01\r\u001b[K     |█████▌                          | 327 kB 13.4 MB/s eta 0:00:01\r\u001b[K     |█████▊                          | 337 kB 13.4 MB/s eta 0:00:01\r\u001b[K     |█████▉                          | 348 kB 13.4 MB/s eta 0:00:01\r\u001b[K     |██████                          | 358 kB 13.4 MB/s eta 0:00:01\r\u001b[K     |██████▏                         | 368 kB 13.4 MB/s eta 0:00:01\r\u001b[K     |██████▍                         | 378 kB 13.4 MB/s eta 0:00:01\r\u001b[K     |██████▌                         | 389 kB 13.4 MB/s eta 0:00:01\r\u001b[K     |██████▊                         | 399 kB 13.4 MB/s eta 0:00:01\r\u001b[K     |██████▉                         | 409 kB 13.4 MB/s eta 0:00:01\r\u001b[K     |███████                         | 419 kB 13.4 MB/s eta 0:00:01\r\u001b[K     |███████▎                        | 430 kB 13.4 MB/s eta 0:00:01\r\u001b[K     |███████▍                        | 440 kB 13.4 MB/s eta 0:00:01\r\u001b[K     |███████▋                        | 450 kB 13.4 MB/s eta 0:00:01\r\u001b[K     |███████▊                        | 460 kB 13.4 MB/s eta 0:00:01\r\u001b[K     |████████                        | 471 kB 13.4 MB/s eta 0:00:01\r\u001b[K     |████████                        | 481 kB 13.4 MB/s eta 0:00:01\r\u001b[K     |████████▎                       | 491 kB 13.4 MB/s eta 0:00:01\r\u001b[K     |████████▍                       | 501 kB 13.4 MB/s eta 0:00:01\r\u001b[K     |████████▋                       | 512 kB 13.4 MB/s eta 0:00:01\r\u001b[K     |████████▊                       | 522 kB 13.4 MB/s eta 0:00:01\r\u001b[K     |█████████                       | 532 kB 13.4 MB/s eta 0:00:01\r\u001b[K     |█████████▏                      | 542 kB 13.4 MB/s eta 0:00:01\r\u001b[K     |█████████▎                      | 552 kB 13.4 MB/s eta 0:00:01\r\u001b[K     |█████████▌                      | 563 kB 13.4 MB/s eta 0:00:01\r\u001b[K     |█████████▋                      | 573 kB 13.4 MB/s eta 0:00:01\r\u001b[K     |█████████▉                      | 583 kB 13.4 MB/s eta 0:00:01\r\u001b[K     |██████████                      | 593 kB 13.4 MB/s eta 0:00:01\r\u001b[K     |██████████▏                     | 604 kB 13.4 MB/s eta 0:00:01\r\u001b[K     |██████████▎                     | 614 kB 13.4 MB/s eta 0:00:01\r\u001b[K     |██████████▌                     | 624 kB 13.4 MB/s eta 0:00:01\r\u001b[K     |██████████▋                     | 634 kB 13.4 MB/s eta 0:00:01\r\u001b[K     |██████████▉                     | 645 kB 13.4 MB/s eta 0:00:01\r\u001b[K     |███████████                     | 655 kB 13.4 MB/s eta 0:00:01\r\u001b[K     |███████████▏                    | 665 kB 13.4 MB/s eta 0:00:01\r\u001b[K     |███████████▍                    | 675 kB 13.4 MB/s eta 0:00:01\r\u001b[K     |███████████▌                    | 686 kB 13.4 MB/s eta 0:00:01\r\u001b[K     |███████████▊                    | 696 kB 13.4 MB/s eta 0:00:01\r\u001b[K     |███████████▉                    | 706 kB 13.4 MB/s eta 0:00:01\r\u001b[K     |████████████                    | 716 kB 13.4 MB/s eta 0:00:01\r\u001b[K     |████████████▏                   | 727 kB 13.4 MB/s eta 0:00:01\r\u001b[K     |████████████▍                   | 737 kB 13.4 MB/s eta 0:00:01\r\u001b[K     |████████████▋                   | 747 kB 13.4 MB/s eta 0:00:01\r\u001b[K     |████████████▊                   | 757 kB 13.4 MB/s eta 0:00:01\r\u001b[K     |█████████████                   | 768 kB 13.4 MB/s eta 0:00:01\r\u001b[K     |█████████████                   | 778 kB 13.4 MB/s eta 0:00:01\r\u001b[K     |█████████████▎                  | 788 kB 13.4 MB/s eta 0:00:01\r\u001b[K     |█████████████▍                  | 798 kB 13.4 MB/s eta 0:00:01\r\u001b[K     |█████████████▋                  | 808 kB 13.4 MB/s eta 0:00:01\r\u001b[K     |█████████████▊                  | 819 kB 13.4 MB/s eta 0:00:01\r\u001b[K     |██████████████                  | 829 kB 13.4 MB/s eta 0:00:01\r\u001b[K     |██████████████                  | 839 kB 13.4 MB/s eta 0:00:01\r\u001b[K     |██████████████▎                 | 849 kB 13.4 MB/s eta 0:00:01\r\u001b[K     |██████████████▌                 | 860 kB 13.4 MB/s eta 0:00:01\r\u001b[K     |██████████████▋                 | 870 kB 13.4 MB/s eta 0:00:01\r\u001b[K     |██████████████▉                 | 880 kB 13.4 MB/s eta 0:00:01\r\u001b[K     |███████████████                 | 890 kB 13.4 MB/s eta 0:00:01\r\u001b[K     |███████████████▏                | 901 kB 13.4 MB/s eta 0:00:01\r\u001b[K     |███████████████▎                | 911 kB 13.4 MB/s eta 0:00:01\r\u001b[K     |███████████████▌                | 921 kB 13.4 MB/s eta 0:00:01\r\u001b[K     |███████████████▋                | 931 kB 13.4 MB/s eta 0:00:01\r\u001b[K     |███████████████▉                | 942 kB 13.4 MB/s eta 0:00:01\r\u001b[K     |████████████████                | 952 kB 13.4 MB/s eta 0:00:01\r\u001b[K     |████████████████▏               | 962 kB 13.4 MB/s eta 0:00:01\r\u001b[K     |████████████████▍               | 972 kB 13.4 MB/s eta 0:00:01\r\u001b[K     |████████████████▌               | 983 kB 13.4 MB/s eta 0:00:01\r\u001b[K     |████████████████▊               | 993 kB 13.4 MB/s eta 0:00:01\r\u001b[K     |████████████████▉               | 1.0 MB 13.4 MB/s eta 0:00:01\r\u001b[K     |█████████████████               | 1.0 MB 13.4 MB/s eta 0:00:01\r\u001b[K     |█████████████████▏              | 1.0 MB 13.4 MB/s eta 0:00:01\r\u001b[K     |█████████████████▍              | 1.0 MB 13.4 MB/s eta 0:00:01\r\u001b[K     |█████████████████▌              | 1.0 MB 13.4 MB/s eta 0:00:01\r\u001b[K     |█████████████████▊              | 1.1 MB 13.4 MB/s eta 0:00:01\r\u001b[K     |██████████████████              | 1.1 MB 13.4 MB/s eta 0:00:01\r\u001b[K     |██████████████████              | 1.1 MB 13.4 MB/s eta 0:00:01\r\u001b[K     |██████████████████▎             | 1.1 MB 13.4 MB/s eta 0:00:01\r\u001b[K     |██████████████████▍             | 1.1 MB 13.4 MB/s eta 0:00:01\r\u001b[K     |██████████████████▋             | 1.1 MB 13.4 MB/s eta 0:00:01\r\u001b[K     |██████████████████▊             | 1.1 MB 13.4 MB/s eta 0:00:01\r\u001b[K     |███████████████████             | 1.1 MB 13.4 MB/s eta 0:00:01\r\u001b[K     |███████████████████             | 1.1 MB 13.4 MB/s eta 0:00:01\r\u001b[K     |███████████████████▎            | 1.1 MB 13.4 MB/s eta 0:00:01\r\u001b[K     |███████████████████▍            | 1.2 MB 13.4 MB/s eta 0:00:01\r\u001b[K     |███████████████████▋            | 1.2 MB 13.4 MB/s eta 0:00:01\r\u001b[K     |███████████████████▉            | 1.2 MB 13.4 MB/s eta 0:00:01\r\u001b[K     |████████████████████            | 1.2 MB 13.4 MB/s eta 0:00:01\r\u001b[K     |████████████████████▏           | 1.2 MB 13.4 MB/s eta 0:00:01\r\u001b[K     |████████████████████▎           | 1.2 MB 13.4 MB/s eta 0:00:01\r\u001b[K     |████████████████████▌           | 1.2 MB 13.4 MB/s eta 0:00:01\r\u001b[K     |████████████████████▋           | 1.2 MB 13.4 MB/s eta 0:00:01\r\u001b[K     |████████████████████▉           | 1.2 MB 13.4 MB/s eta 0:00:01\r\u001b[K     |█████████████████████           | 1.2 MB 13.4 MB/s eta 0:00:01\r\u001b[K     |█████████████████████▏          | 1.3 MB 13.4 MB/s eta 0:00:01\r\u001b[K     |█████████████████████▎          | 1.3 MB 13.4 MB/s eta 0:00:01\r\u001b[K     |█████████████████████▌          | 1.3 MB 13.4 MB/s eta 0:00:01\r\u001b[K     |█████████████████████▊          | 1.3 MB 13.4 MB/s eta 0:00:01\r\u001b[K     |█████████████████████▉          | 1.3 MB 13.4 MB/s eta 0:00:01\r\u001b[K     |██████████████████████          | 1.3 MB 13.4 MB/s eta 0:00:01\r\u001b[K     |██████████████████████▏         | 1.3 MB 13.4 MB/s eta 0:00:01\r\u001b[K     |██████████████████████▍         | 1.3 MB 13.4 MB/s eta 0:00:01\r\u001b[K     |██████████████████████▌         | 1.3 MB 13.4 MB/s eta 0:00:01\r\u001b[K     |██████████████████████▊         | 1.4 MB 13.4 MB/s eta 0:00:01\r\u001b[K     |██████████████████████▉         | 1.4 MB 13.4 MB/s eta 0:00:01\r\u001b[K     |███████████████████████         | 1.4 MB 13.4 MB/s eta 0:00:01\r\u001b[K     |███████████████████████▎        | 1.4 MB 13.4 MB/s eta 0:00:01\r\u001b[K     |███████████████████████▍        | 1.4 MB 13.4 MB/s eta 0:00:01\r\u001b[K     |███████████████████████▋        | 1.4 MB 13.4 MB/s eta 0:00:01\r\u001b[K     |███████████████████████▊        | 1.4 MB 13.4 MB/s eta 0:00:01\r\u001b[K     |████████████████████████        | 1.4 MB 13.4 MB/s eta 0:00:01\r\u001b[K     |████████████████████████        | 1.4 MB 13.4 MB/s eta 0:00:01\r\u001b[K     |████████████████████████▎       | 1.4 MB 13.4 MB/s eta 0:00:01\r\u001b[K     |████████████████████████▍       | 1.5 MB 13.4 MB/s eta 0:00:01\r\u001b[K     |████████████████████████▋       | 1.5 MB 13.4 MB/s eta 0:00:01\r\u001b[K     |████████████████████████▊       | 1.5 MB 13.4 MB/s eta 0:00:01\r\u001b[K     |█████████████████████████       | 1.5 MB 13.4 MB/s eta 0:00:01\r\u001b[K     |█████████████████████████▏      | 1.5 MB 13.4 MB/s eta 0:00:01\r\u001b[K     |█████████████████████████▎      | 1.5 MB 13.4 MB/s eta 0:00:01\r\u001b[K     |█████████████████████████▌      | 1.5 MB 13.4 MB/s eta 0:00:01\r\u001b[K     |█████████████████████████▋      | 1.5 MB 13.4 MB/s eta 0:00:01\r\u001b[K     |█████████████████████████▉      | 1.5 MB 13.4 MB/s eta 0:00:01\r\u001b[K     |██████████████████████████      | 1.5 MB 13.4 MB/s eta 0:00:01\r\u001b[K     |██████████████████████████▏     | 1.6 MB 13.4 MB/s eta 0:00:01\r\u001b[K     |██████████████████████████▎     | 1.6 MB 13.4 MB/s eta 0:00:01\r\u001b[K     |██████████████████████████▌     | 1.6 MB 13.4 MB/s eta 0:00:01\r\u001b[K     |██████████████████████████▋     | 1.6 MB 13.4 MB/s eta 0:00:01\r\u001b[K     |██████████████████████████▉     | 1.6 MB 13.4 MB/s eta 0:00:01\r\u001b[K     |███████████████████████████     | 1.6 MB 13.4 MB/s eta 0:00:01\r\u001b[K     |███████████████████████████▏    | 1.6 MB 13.4 MB/s eta 0:00:01\r\u001b[K     |███████████████████████████▍    | 1.6 MB 13.4 MB/s eta 0:00:01\r\u001b[K     |███████████████████████████▌    | 1.6 MB 13.4 MB/s eta 0:00:01\r\u001b[K     |███████████████████████████▊    | 1.6 MB 13.4 MB/s eta 0:00:01\r\u001b[K     |███████████████████████████▉    | 1.7 MB 13.4 MB/s eta 0:00:01\r\u001b[K     |████████████████████████████    | 1.7 MB 13.4 MB/s eta 0:00:01\r\u001b[K     |████████████████████████████▏   | 1.7 MB 13.4 MB/s eta 0:00:01\r\u001b[K     |████████████████████████████▍   | 1.7 MB 13.4 MB/s eta 0:00:01\r\u001b[K     |████████████████████████████▋   | 1.7 MB 13.4 MB/s eta 0:00:01\r\u001b[K     |████████████████████████████▊   | 1.7 MB 13.4 MB/s eta 0:00:01\r\u001b[K     |█████████████████████████████   | 1.7 MB 13.4 MB/s eta 0:00:01\r\u001b[K     |█████████████████████████████   | 1.7 MB 13.4 MB/s eta 0:00:01\r\u001b[K     |█████████████████████████████▎  | 1.7 MB 13.4 MB/s eta 0:00:01\r\u001b[K     |█████████████████████████████▍  | 1.8 MB 13.4 MB/s eta 0:00:01\r\u001b[K     |█████████████████████████████▋  | 1.8 MB 13.4 MB/s eta 0:00:01\r\u001b[K     |█████████████████████████████▊  | 1.8 MB 13.4 MB/s eta 0:00:01\r\u001b[K     |██████████████████████████████  | 1.8 MB 13.4 MB/s eta 0:00:01\r\u001b[K     |██████████████████████████████  | 1.8 MB 13.4 MB/s eta 0:00:01\r\u001b[K     |██████████████████████████████▎ | 1.8 MB 13.4 MB/s eta 0:00:01\r\u001b[K     |██████████████████████████████▌ | 1.8 MB 13.4 MB/s eta 0:00:01\r\u001b[K     |██████████████████████████████▋ | 1.8 MB 13.4 MB/s eta 0:00:01\r\u001b[K     |██████████████████████████████▉ | 1.8 MB 13.4 MB/s eta 0:00:01\r\u001b[K     |███████████████████████████████ | 1.8 MB 13.4 MB/s eta 0:00:01\r\u001b[K     |███████████████████████████████▏| 1.9 MB 13.4 MB/s eta 0:00:01\r\u001b[K     |███████████████████████████████▎| 1.9 MB 13.4 MB/s eta 0:00:01\r\u001b[K     |███████████████████████████████▌| 1.9 MB 13.4 MB/s eta 0:00:01\r\u001b[K     |███████████████████████████████▋| 1.9 MB 13.4 MB/s eta 0:00:01\r\u001b[K     |███████████████████████████████▉| 1.9 MB 13.4 MB/s eta 0:00:01\r\u001b[K     |████████████████████████████████| 1.9 MB 13.4 MB/s eta 0:00:01\r\u001b[K     |████████████████████████████████| 1.9 MB 13.4 MB/s \n",
            "\u001b[?25h"
          ],
          "name": "stdout"
        }
      ]
    },
    {
      "cell_type": "code",
      "metadata": {
        "colab": {
          "base_uri": "https://localhost:8080/"
        },
        "id": "mQ5nRr8H7Hjj",
        "outputId": "84818061-a3b1-4c22-d0d5-faa5746b81f7"
      },
      "source": [
        "!pip install transformers"
      ],
      "execution_count": null,
      "outputs": [
        {
          "output_type": "stream",
          "text": [
            "Collecting transformers\n",
            "  Downloading transformers-4.9.1-py3-none-any.whl (2.6 MB)\n",
            "\u001b[K     |████████████████████████████████| 2.6 MB 13.1 MB/s \n",
            "\u001b[?25hRequirement already satisfied: requests in /usr/local/lib/python3.7/dist-packages (from transformers) (2.23.0)\n",
            "Collecting tokenizers<0.11,>=0.10.1\n",
            "  Downloading tokenizers-0.10.3-cp37-cp37m-manylinux_2_5_x86_64.manylinux1_x86_64.manylinux_2_12_x86_64.manylinux2010_x86_64.whl (3.3 MB)\n",
            "\u001b[K     |████████████████████████████████| 3.3 MB 38.3 MB/s \n",
            "\u001b[?25hCollecting huggingface-hub==0.0.12\n",
            "  Downloading huggingface_hub-0.0.12-py3-none-any.whl (37 kB)\n",
            "Requirement already satisfied: packaging in /usr/local/lib/python3.7/dist-packages (from transformers) (21.0)\n",
            "Collecting sacremoses\n",
            "  Downloading sacremoses-0.0.45-py3-none-any.whl (895 kB)\n",
            "\u001b[K     |████████████████████████████████| 895 kB 44.9 MB/s \n",
            "\u001b[?25hRequirement already satisfied: importlib-metadata in /usr/local/lib/python3.7/dist-packages (from transformers) (4.6.1)\n",
            "Collecting pyyaml>=5.1\n",
            "  Downloading PyYAML-5.4.1-cp37-cp37m-manylinux1_x86_64.whl (636 kB)\n",
            "\u001b[K     |████████████████████████████████| 636 kB 35.1 MB/s \n",
            "\u001b[?25hRequirement already satisfied: tqdm>=4.27 in /usr/local/lib/python3.7/dist-packages (from transformers) (4.41.1)\n",
            "Requirement already satisfied: regex!=2019.12.17 in /usr/local/lib/python3.7/dist-packages (from transformers) (2019.12.20)\n",
            "Requirement already satisfied: filelock in /usr/local/lib/python3.7/dist-packages (from transformers) (3.0.12)\n",
            "Requirement already satisfied: numpy>=1.17 in /usr/local/lib/python3.7/dist-packages (from transformers) (1.19.5)\n",
            "Requirement already satisfied: typing-extensions in /usr/local/lib/python3.7/dist-packages (from huggingface-hub==0.0.12->transformers) (3.7.4.3)\n",
            "Requirement already satisfied: pyparsing>=2.0.2 in /usr/local/lib/python3.7/dist-packages (from packaging->transformers) (2.4.7)\n",
            "Requirement already satisfied: zipp>=0.5 in /usr/local/lib/python3.7/dist-packages (from importlib-metadata->transformers) (3.5.0)\n",
            "Requirement already satisfied: chardet<4,>=3.0.2 in /usr/local/lib/python3.7/dist-packages (from requests->transformers) (3.0.4)\n",
            "Requirement already satisfied: idna<3,>=2.5 in /usr/local/lib/python3.7/dist-packages (from requests->transformers) (2.10)\n",
            "Requirement already satisfied: certifi>=2017.4.17 in /usr/local/lib/python3.7/dist-packages (from requests->transformers) (2021.5.30)\n",
            "Requirement already satisfied: urllib3!=1.25.0,!=1.25.1,<1.26,>=1.21.1 in /usr/local/lib/python3.7/dist-packages (from requests->transformers) (1.24.3)\n",
            "Requirement already satisfied: six in /usr/local/lib/python3.7/dist-packages (from sacremoses->transformers) (1.15.0)\n",
            "Requirement already satisfied: joblib in /usr/local/lib/python3.7/dist-packages (from sacremoses->transformers) (1.0.1)\n",
            "Requirement already satisfied: click in /usr/local/lib/python3.7/dist-packages (from sacremoses->transformers) (7.1.2)\n",
            "Installing collected packages: tokenizers, sacremoses, pyyaml, huggingface-hub, transformers\n",
            "  Attempting uninstall: pyyaml\n",
            "    Found existing installation: PyYAML 3.13\n",
            "    Uninstalling PyYAML-3.13:\n",
            "      Successfully uninstalled PyYAML-3.13\n",
            "Successfully installed huggingface-hub-0.0.12 pyyaml-5.4.1 sacremoses-0.0.45 tokenizers-0.10.3 transformers-4.9.1\n"
          ],
          "name": "stdout"
        }
      ]
    },
    {
      "cell_type": "code",
      "metadata": {
        "colab": {
          "base_uri": "https://localhost:8080/"
        },
        "id": "VkH6CMd07Ji5",
        "outputId": "9d6386a1-9f5c-4a58-fb36-a818876b50c3"
      },
      "source": [
        "!pip install pydub"
      ],
      "execution_count": null,
      "outputs": [
        {
          "output_type": "stream",
          "text": [
            "Collecting pydub\n",
            "  Downloading pydub-0.25.1-py2.py3-none-any.whl (32 kB)\n",
            "Installing collected packages: pydub\n",
            "Successfully installed pydub-0.25.1\n"
          ],
          "name": "stdout"
        }
      ]
    },
    {
      "cell_type": "code",
      "metadata": {
        "colab": {
          "base_uri": "https://localhost:8080/"
        },
        "id": "TO00bhQw7M_4",
        "outputId": "9d3e230d-41b0-49d2-b593-40d3e4adbf8f"
      },
      "source": [
        "!pip install punctuator==0.9.6"
      ],
      "execution_count": null,
      "outputs": [
        {
          "output_type": "stream",
          "text": [
            "Collecting punctuator==0.9.6\n",
            "  Downloading punctuator-0.9.6.tar.gz (22 kB)\n",
            "Collecting nltk>=3.4.5\n",
            "  Downloading nltk-3.6.2-py3-none-any.whl (1.5 MB)\n",
            "\u001b[K     |████████████████████████████████| 1.5 MB 17.4 MB/s \n",
            "\u001b[?25hRequirement already satisfied: numpy>=1.17.2 in /usr/local/lib/python3.7/dist-packages (from punctuator==0.9.6) (1.19.5)\n",
            "Collecting theano>=1.0.4\n",
            "  Downloading Theano-1.0.5.tar.gz (2.8 MB)\n",
            "\u001b[K     |████████████████████████████████| 2.8 MB 40.2 MB/s \n",
            "\u001b[?25hCollecting gdown>=3.8.3\n",
            "  Downloading gdown-3.13.0.tar.gz (9.3 kB)\n",
            "  Installing build dependencies ... \u001b[?25l\u001b[?25hdone\n",
            "  Getting requirements to build wheel ... \u001b[?25l\u001b[?25hdone\n",
            "    Preparing wheel metadata ... \u001b[?25l\u001b[?25hdone\n",
            "Requirement already satisfied: filelock in /usr/local/lib/python3.7/dist-packages (from gdown>=3.8.3->punctuator==0.9.6) (3.0.12)\n",
            "Requirement already satisfied: tqdm in /usr/local/lib/python3.7/dist-packages (from gdown>=3.8.3->punctuator==0.9.6) (4.41.1)\n",
            "Requirement already satisfied: requests[socks]>=2.12.0 in /usr/local/lib/python3.7/dist-packages (from gdown>=3.8.3->punctuator==0.9.6) (2.23.0)\n",
            "Requirement already satisfied: six in /usr/local/lib/python3.7/dist-packages (from gdown>=3.8.3->punctuator==0.9.6) (1.15.0)\n",
            "Requirement already satisfied: joblib in /usr/local/lib/python3.7/dist-packages (from nltk>=3.4.5->punctuator==0.9.6) (1.0.1)\n",
            "Requirement already satisfied: regex in /usr/local/lib/python3.7/dist-packages (from nltk>=3.4.5->punctuator==0.9.6) (2019.12.20)\n",
            "Requirement already satisfied: click in /usr/local/lib/python3.7/dist-packages (from nltk>=3.4.5->punctuator==0.9.6) (7.1.2)\n",
            "Requirement already satisfied: certifi>=2017.4.17 in /usr/local/lib/python3.7/dist-packages (from requests[socks]>=2.12.0->gdown>=3.8.3->punctuator==0.9.6) (2021.5.30)\n",
            "Requirement already satisfied: chardet<4,>=3.0.2 in /usr/local/lib/python3.7/dist-packages (from requests[socks]>=2.12.0->gdown>=3.8.3->punctuator==0.9.6) (3.0.4)\n",
            "Requirement already satisfied: idna<3,>=2.5 in /usr/local/lib/python3.7/dist-packages (from requests[socks]>=2.12.0->gdown>=3.8.3->punctuator==0.9.6) (2.10)\n",
            "Requirement already satisfied: urllib3!=1.25.0,!=1.25.1,<1.26,>=1.21.1 in /usr/local/lib/python3.7/dist-packages (from requests[socks]>=2.12.0->gdown>=3.8.3->punctuator==0.9.6) (1.24.3)\n",
            "Requirement already satisfied: PySocks!=1.5.7,>=1.5.6 in /usr/local/lib/python3.7/dist-packages (from requests[socks]>=2.12.0->gdown>=3.8.3->punctuator==0.9.6) (1.7.1)\n",
            "Requirement already satisfied: scipy>=0.14 in /usr/local/lib/python3.7/dist-packages (from theano>=1.0.4->punctuator==0.9.6) (1.4.1)\n",
            "Building wheels for collected packages: punctuator, gdown, theano\n",
            "  Building wheel for punctuator (setup.py) ... \u001b[?25l\u001b[?25hdone\n",
            "  Created wheel for punctuator: filename=punctuator-0.9.6-py3-none-any.whl size=25153 sha256=7a38253a6bf8e8456d5052b368c96217a4160be3dd38d7cdcd5b44ceceae5f16\n",
            "  Stored in directory: /root/.cache/pip/wheels/ee/b3/dc/deb09ef29cddae794f0b041aad634141e61f707975c22b4802\n",
            "  Building wheel for gdown (PEP 517) ... \u001b[?25l\u001b[?25hdone\n",
            "  Created wheel for gdown: filename=gdown-3.13.0-py3-none-any.whl size=9046 sha256=0399603e277c04961c36ba084b49cd7597cc58d56edfde0f72519f1dc0d0aa12\n",
            "  Stored in directory: /root/.cache/pip/wheels/2f/2a/2f/86449b6bdbaa9aef873f68332b68be6bfbc386b9219f47157d\n",
            "  Building wheel for theano (setup.py) ... \u001b[?25l\u001b[?25hdone\n",
            "  Created wheel for theano: filename=Theano-1.0.5-py3-none-any.whl size=2668111 sha256=63741c944d44a23be9c7ec6a983ff8ba107e58bcdec95ae585abc460a67beed2\n",
            "  Stored in directory: /root/.cache/pip/wheels/26/68/6f/745330367ce7822fe0cd863712858151f5723a0a5e322cc144\n",
            "Successfully built punctuator gdown theano\n",
            "Installing collected packages: theano, nltk, gdown, punctuator\n",
            "  Attempting uninstall: nltk\n",
            "    Found existing installation: nltk 3.2.5\n",
            "    Uninstalling nltk-3.2.5:\n",
            "      Successfully uninstalled nltk-3.2.5\n",
            "  Attempting uninstall: gdown\n",
            "    Found existing installation: gdown 3.6.4\n",
            "    Uninstalling gdown-3.6.4:\n",
            "      Successfully uninstalled gdown-3.6.4\n",
            "Successfully installed gdown-3.13.0 nltk-3.6.2 punctuator-0.9.6 theano-1.0.5\n"
          ],
          "name": "stdout"
        }
      ]
    },
    {
      "cell_type": "code",
      "metadata": {
        "colab": {
          "base_uri": "https://localhost:8080/"
        },
        "id": "F6yy3JZQ8KDT",
        "outputId": "3398cfbc-6a77-4d3b-a583-65265f32c504"
      },
      "source": [
        "!pip install gdown"
      ],
      "execution_count": null,
      "outputs": [
        {
          "output_type": "stream",
          "text": [
            "Requirement already satisfied: gdown in /usr/local/lib/python3.7/dist-packages (3.13.0)\n",
            "Requirement already satisfied: requests[socks]>=2.12.0 in /usr/local/lib/python3.7/dist-packages (from gdown) (2.23.0)\n",
            "Requirement already satisfied: filelock in /usr/local/lib/python3.7/dist-packages (from gdown) (3.0.12)\n",
            "Requirement already satisfied: six in /usr/local/lib/python3.7/dist-packages (from gdown) (1.15.0)\n",
            "Requirement already satisfied: tqdm in /usr/local/lib/python3.7/dist-packages (from gdown) (4.41.1)\n",
            "Requirement already satisfied: idna<3,>=2.5 in /usr/local/lib/python3.7/dist-packages (from requests[socks]>=2.12.0->gdown) (2.10)\n",
            "Requirement already satisfied: chardet<4,>=3.0.2 in /usr/local/lib/python3.7/dist-packages (from requests[socks]>=2.12.0->gdown) (3.0.4)\n",
            "Requirement already satisfied: certifi>=2017.4.17 in /usr/local/lib/python3.7/dist-packages (from requests[socks]>=2.12.0->gdown) (2021.5.30)\n",
            "Requirement already satisfied: urllib3!=1.25.0,!=1.25.1,<1.26,>=1.21.1 in /usr/local/lib/python3.7/dist-packages (from requests[socks]>=2.12.0->gdown) (1.24.3)\n",
            "Requirement already satisfied: PySocks!=1.5.7,>=1.5.6 in /usr/local/lib/python3.7/dist-packages (from requests[socks]>=2.12.0->gdown) (1.7.1)\n"
          ],
          "name": "stdout"
        }
      ]
    },
    {
      "cell_type": "code",
      "metadata": {
        "colab": {
          "base_uri": "https://localhost:8080/"
        },
        "id": "XIrP8w278ssb",
        "outputId": "578b58dc-1500-4a84-f30e-962797225681"
      },
      "source": [
        "!pip install autocorrect"
      ],
      "execution_count": null,
      "outputs": [
        {
          "output_type": "stream",
          "text": [
            "Collecting autocorrect\n",
            "  Downloading autocorrect-2.5.0.tar.gz (622 kB)\n",
            "\u001b[K     |████████████████████████████████| 622 kB 11.8 MB/s \n",
            "\u001b[?25hBuilding wheels for collected packages: autocorrect\n",
            "  Building wheel for autocorrect (setup.py) ... \u001b[?25l\u001b[?25hdone\n",
            "  Created wheel for autocorrect: filename=autocorrect-2.5.0-py3-none-any.whl size=621853 sha256=27a70526277a1af963b1592241f93bc03c4d9a151f4f0f0aa540b8ad5157ab81\n",
            "  Stored in directory: /root/.cache/pip/wheels/3d/8e/bd/f6fd900a056a031bf710a00bca338d86f43b83f0c25ab5242f\n",
            "Successfully built autocorrect\n",
            "Installing collected packages: autocorrect\n",
            "Successfully installed autocorrect-2.5.0\n"
          ],
          "name": "stdout"
        }
      ]
    },
    {
      "cell_type": "code",
      "metadata": {
        "colab": {
          "base_uri": "https://localhost:8080/"
        },
        "id": "X9YXihAR9NIJ",
        "outputId": "7fe99a1d-4361-45ae-8859-a47d17886660"
      },
      "source": [
        "!pip install gensim"
      ],
      "execution_count": null,
      "outputs": [
        {
          "output_type": "stream",
          "text": [
            "Requirement already satisfied: gensim in /usr/local/lib/python3.7/dist-packages (3.6.0)\n",
            "Requirement already satisfied: six>=1.5.0 in /usr/local/lib/python3.7/dist-packages (from gensim) (1.15.0)\n",
            "Requirement already satisfied: numpy>=1.11.3 in /usr/local/lib/python3.7/dist-packages (from gensim) (1.19.5)\n",
            "Requirement already satisfied: scipy>=0.18.1 in /usr/local/lib/python3.7/dist-packages (from gensim) (1.4.1)\n",
            "Requirement already satisfied: smart-open>=1.2.1 in /usr/local/lib/python3.7/dist-packages (from gensim) (5.1.0)\n"
          ],
          "name": "stdout"
        }
      ]
    },
    {
      "cell_type": "code",
      "metadata": {
        "colab": {
          "base_uri": "https://localhost:8080/"
        },
        "id": "v8b6cZ2-9qad",
        "outputId": "5de8260a-7839-4b4a-99d2-1c0ee4b7b3c5"
      },
      "source": [
        "!pip install crepe"
      ],
      "execution_count": null,
      "outputs": [
        {
          "output_type": "stream",
          "text": [
            "Collecting crepe\n",
            "  Downloading crepe-0.0.12.tar.gz (15 kB)\n",
            "Requirement already satisfied: numpy>=1.14.0 in /usr/local/lib/python3.7/dist-packages (from crepe) (1.19.5)\n",
            "Requirement already satisfied: scipy>=1.0.0 in /usr/local/lib/python3.7/dist-packages (from crepe) (1.4.1)\n",
            "Requirement already satisfied: matplotlib>=2.1.0 in /usr/local/lib/python3.7/dist-packages (from crepe) (3.2.2)\n",
            "Requirement already satisfied: resampy<0.3.0,>=0.2.0 in /usr/local/lib/python3.7/dist-packages (from crepe) (0.2.2)\n",
            "Requirement already satisfied: h5py in /usr/local/lib/python3.7/dist-packages (from crepe) (3.1.0)\n",
            "Collecting hmmlearn<0.3.0,>=0.2.0\n",
            "  Downloading hmmlearn-0.2.6-cp37-cp37m-manylinux_2_5_x86_64.manylinux1_x86_64.whl (374 kB)\n",
            "\u001b[K     |████████████████████████████████| 374 kB 13.4 MB/s \n",
            "\u001b[?25hRequirement already satisfied: imageio>=2.3.0 in /usr/local/lib/python3.7/dist-packages (from crepe) (2.4.1)\n",
            "Requirement already satisfied: scikit-learn>=0.16 in /usr/local/lib/python3.7/dist-packages (from crepe) (0.22.2.post1)\n",
            "Requirement already satisfied: pillow in /usr/local/lib/python3.7/dist-packages (from imageio>=2.3.0->crepe) (7.1.2)\n",
            "Requirement already satisfied: kiwisolver>=1.0.1 in /usr/local/lib/python3.7/dist-packages (from matplotlib>=2.1.0->crepe) (1.3.1)\n",
            "Requirement already satisfied: cycler>=0.10 in /usr/local/lib/python3.7/dist-packages (from matplotlib>=2.1.0->crepe) (0.10.0)\n",
            "Requirement already satisfied: python-dateutil>=2.1 in /usr/local/lib/python3.7/dist-packages (from matplotlib>=2.1.0->crepe) (2.8.1)\n",
            "Requirement already satisfied: pyparsing!=2.0.4,!=2.1.2,!=2.1.6,>=2.0.1 in /usr/local/lib/python3.7/dist-packages (from matplotlib>=2.1.0->crepe) (2.4.7)\n",
            "Requirement already satisfied: six in /usr/local/lib/python3.7/dist-packages (from cycler>=0.10->matplotlib>=2.1.0->crepe) (1.15.0)\n",
            "Requirement already satisfied: numba>=0.32 in /usr/local/lib/python3.7/dist-packages (from resampy<0.3.0,>=0.2.0->crepe) (0.51.2)\n",
            "Requirement already satisfied: setuptools in /usr/local/lib/python3.7/dist-packages (from numba>=0.32->resampy<0.3.0,>=0.2.0->crepe) (57.2.0)\n",
            "Requirement already satisfied: llvmlite<0.35,>=0.34.0.dev0 in /usr/local/lib/python3.7/dist-packages (from numba>=0.32->resampy<0.3.0,>=0.2.0->crepe) (0.34.0)\n",
            "Requirement already satisfied: joblib>=0.11 in /usr/local/lib/python3.7/dist-packages (from scikit-learn>=0.16->crepe) (1.0.1)\n",
            "Requirement already satisfied: cached-property in /usr/local/lib/python3.7/dist-packages (from h5py->crepe) (1.5.2)\n",
            "Building wheels for collected packages: crepe\n",
            "  Building wheel for crepe (setup.py) ... \u001b[?25l\u001b[?25hdone\n",
            "  Created wheel for crepe: filename=crepe-0.0.12-py3-none-any.whl size=134848696 sha256=4bd953d12bef6e5f900bd287bf8e1247511baed3ea0cce9119de6eae8e4ec1f3\n",
            "  Stored in directory: /root/.cache/pip/wheels/56/05/32/fccf64e8ae720b34b486b6a8a08712777fd0beab419980fea3\n",
            "Successfully built crepe\n",
            "Installing collected packages: hmmlearn, crepe\n",
            "Successfully installed crepe-0.0.12 hmmlearn-0.2.6\n"
          ],
          "name": "stdout"
        }
      ]
    },
    {
      "cell_type": "code",
      "metadata": {
        "colab": {
          "base_uri": "https://localhost:8080/"
        },
        "id": "L12rW0o-WEFc",
        "outputId": "c801d537-5b97-4f7f-badc-0789a827d587"
      },
      "source": [
        "!pip install fuzzywuzzy[speedup]"
      ],
      "execution_count": null,
      "outputs": [
        {
          "output_type": "stream",
          "text": [
            "Collecting fuzzywuzzy[speedup]\n",
            "  Downloading fuzzywuzzy-0.18.0-py2.py3-none-any.whl (18 kB)\n",
            "Collecting python-levenshtein>=0.12\n",
            "  Downloading python-Levenshtein-0.12.2.tar.gz (50 kB)\n",
            "\u001b[?25l\r\u001b[K     |██████▌                         | 10 kB 24.3 MB/s eta 0:00:01\r\u001b[K     |█████████████                   | 20 kB 27.5 MB/s eta 0:00:01\r\u001b[K     |███████████████████▌            | 30 kB 31.2 MB/s eta 0:00:01\r\u001b[K     |██████████████████████████      | 40 kB 27.8 MB/s eta 0:00:01\r\u001b[K     |████████████████████████████████| 50 kB 4.9 MB/s \n",
            "\u001b[?25hRequirement already satisfied: setuptools in /usr/local/lib/python3.7/dist-packages (from python-levenshtein>=0.12->fuzzywuzzy[speedup]) (57.2.0)\n",
            "Building wheels for collected packages: python-levenshtein\n",
            "  Building wheel for python-levenshtein (setup.py) ... \u001b[?25l\u001b[?25hdone\n",
            "  Created wheel for python-levenshtein: filename=python_Levenshtein-0.12.2-cp37-cp37m-linux_x86_64.whl size=149860 sha256=8667745ba1ee2e1be750afa1797fca93cb822874672ec30482b91f50f320943a\n",
            "  Stored in directory: /root/.cache/pip/wheels/05/5f/ca/7c4367734892581bb5ff896f15027a932c551080b2abd3e00d\n",
            "Successfully built python-levenshtein\n",
            "Installing collected packages: python-levenshtein, fuzzywuzzy\n",
            "Successfully installed fuzzywuzzy-0.18.0 python-levenshtein-0.12.2\n"
          ],
          "name": "stdout"
        }
      ]
    },
    {
      "cell_type": "code",
      "metadata": {
        "colab": {
          "base_uri": "https://localhost:8080/"
        },
        "id": "3fI5vZXpD_Zf",
        "outputId": "be0ab2af-52bc-4158-b3e3-14d1fe200d46"
      },
      "source": [
        "!pip install git+https://github.com/tagucci/pythonrouge.git"
      ],
      "execution_count": null,
      "outputs": [
        {
          "output_type": "stream",
          "text": [
            "Collecting git+https://github.com/tagucci/pythonrouge.git\n",
            "  Cloning https://github.com/tagucci/pythonrouge.git to /tmp/pip-req-build-kacug3xi\n",
            "  Running command git clone -q https://github.com/tagucci/pythonrouge.git /tmp/pip-req-build-kacug3xi\n",
            "Building wheels for collected packages: pythonrouge\n",
            "  Building wheel for pythonrouge (setup.py) ... \u001b[?25l\u001b[?25hdone\n",
            "  Created wheel for pythonrouge: filename=pythonrouge-0.2-py3-none-any.whl size=285408 sha256=978ceee47c265c69341389dcfd13fb8ac6308fe53ec9a1e0008141b063700100\n",
            "  Stored in directory: /tmp/pip-ephem-wheel-cache-7y09o521/wheels/f2/28/1a/47e2c73d5e7d1d49296a991e19d774c97e4c2e98dbf027a515\n",
            "Successfully built pythonrouge\n",
            "Installing collected packages: pythonrouge\n",
            "Successfully installed pythonrouge-0.2\n"
          ],
          "name": "stdout"
        }
      ]
    },
    {
      "cell_type": "code",
      "metadata": {
        "colab": {
          "base_uri": "https://localhost:8080/"
        },
        "id": "Sw1q4HGQEH_y",
        "outputId": "2131bada-9532-45e3-f86f-02e5220fda42"
      },
      "source": [
        "!apt-get install -y cpanminus"
      ],
      "execution_count": null,
      "outputs": [
        {
          "output_type": "stream",
          "text": [
            "Reading package lists... Done\n",
            "Building dependency tree       \n",
            "Reading state information... Done\n",
            "The following additional packages will be installed:\n",
            "  libalgorithm-c3-perl libb-hooks-endofscope-perl libb-hooks-op-check-perl\n",
            "  libclass-c3-perl libclass-c3-xs-perl libclass-method-modifiers-perl\n",
            "  libclass-xsaccessor-perl libcpan-changes-perl libcpan-distnameinfo-perl\n",
            "  libcpan-meta-check-perl libdata-optlist-perl libdata-perl-perl\n",
            "  libdata-section-perl libdevel-callchecker-perl\n",
            "  libdevel-globaldestruction-perl libdynaloader-functions-perl\n",
            "  libencode-locale-perl libexporter-tiny-perl libfile-pushd-perl\n",
            "  libfile-slurp-perl libgetopt-long-descriptive-perl libhtml-parser-perl\n",
            "  libhtml-tagset-perl libhttp-date-perl libhttp-message-perl\n",
            "  libimport-into-perl libio-html-perl libio-stringy-perl\n",
            "  liblist-moreutils-perl liblocal-lib-perl liblwp-mediatypes-perl\n",
            "  libmodule-build-perl libmodule-cpanfile-perl libmodule-implementation-perl\n",
            "  libmodule-runtime-perl libmodule-signature-perl libmoo-perl\n",
            "  libmoox-handlesvia-perl libmro-compat-perl libnamespace-autoclean-perl\n",
            "  libnamespace-clean-perl libpackage-stash-perl libpackage-stash-xs-perl\n",
            "  libparams-classify-perl libparams-util-perl libparams-validate-perl\n",
            "  libparse-pmfile-perl libpath-tiny-perl libpod-markdown-perl\n",
            "  libpod-readme-perl libreadonly-perl libref-util-perl libref-util-xs-perl\n",
            "  librole-tiny-perl libsoftware-license-perl libstrictures-perl\n",
            "  libstring-shellquote-perl libsub-exporter-perl\n",
            "  libsub-exporter-progressive-perl libsub-identify-perl libsub-install-perl\n",
            "  libsub-name-perl libsub-quote-perl libtext-template-perl libtimedate-perl\n",
            "  libtry-tiny-perl libtype-tiny-perl libtype-tiny-xs-perl libunicode-utf8-perl\n",
            "  liburi-perl libvariable-magic-perl\n",
            "Suggested packages:\n",
            "  libdata-dump-perl libscalar-number-perl libbareword-filehandles-perl\n",
            "  libindirect-perl libmultidimensional-perl libdevel-stacktrace-perl\n",
            "  libdevel-lexalias-perl libwww-perl\n",
            "The following NEW packages will be installed:\n",
            "  cpanminus libalgorithm-c3-perl libb-hooks-endofscope-perl\n",
            "  libb-hooks-op-check-perl libclass-c3-perl libclass-c3-xs-perl\n",
            "  libclass-method-modifiers-perl libclass-xsaccessor-perl libcpan-changes-perl\n",
            "  libcpan-distnameinfo-perl libcpan-meta-check-perl libdata-optlist-perl\n",
            "  libdata-perl-perl libdata-section-perl libdevel-callchecker-perl\n",
            "  libdevel-globaldestruction-perl libdynaloader-functions-perl\n",
            "  libencode-locale-perl libexporter-tiny-perl libfile-pushd-perl\n",
            "  libfile-slurp-perl libgetopt-long-descriptive-perl libhtml-parser-perl\n",
            "  libhtml-tagset-perl libhttp-date-perl libhttp-message-perl\n",
            "  libimport-into-perl libio-html-perl libio-stringy-perl\n",
            "  liblist-moreutils-perl liblocal-lib-perl liblwp-mediatypes-perl\n",
            "  libmodule-build-perl libmodule-cpanfile-perl libmodule-implementation-perl\n",
            "  libmodule-runtime-perl libmodule-signature-perl libmoo-perl\n",
            "  libmoox-handlesvia-perl libmro-compat-perl libnamespace-autoclean-perl\n",
            "  libnamespace-clean-perl libpackage-stash-perl libpackage-stash-xs-perl\n",
            "  libparams-classify-perl libparams-util-perl libparams-validate-perl\n",
            "  libparse-pmfile-perl libpath-tiny-perl libpod-markdown-perl\n",
            "  libpod-readme-perl libreadonly-perl libref-util-perl libref-util-xs-perl\n",
            "  librole-tiny-perl libsoftware-license-perl libstrictures-perl\n",
            "  libstring-shellquote-perl libsub-exporter-perl\n",
            "  libsub-exporter-progressive-perl libsub-identify-perl libsub-install-perl\n",
            "  libsub-name-perl libsub-quote-perl libtext-template-perl libtimedate-perl\n",
            "  libtry-tiny-perl libtype-tiny-perl libtype-tiny-xs-perl libunicode-utf8-perl\n",
            "  liburi-perl libvariable-magic-perl\n",
            "0 upgraded, 72 newly installed, 0 to remove and 40 not upgraded.\n",
            "Need to get 2,249 kB of archives.\n",
            "After this operation, 6,883 kB of additional disk space will be used.\n",
            "Get:1 http://archive.ubuntu.com/ubuntu bionic/universe amd64 libcpan-distnameinfo-perl all 0.12-1 [8,662 B]\n",
            "Get:2 http://archive.ubuntu.com/ubuntu bionic/universe amd64 libcpan-meta-check-perl all 0.014-1 [7,594 B]\n",
            "Get:3 http://archive.ubuntu.com/ubuntu bionic/universe amd64 libfile-pushd-perl all 1.014-1 [11.8 kB]\n",
            "Get:4 http://archive.ubuntu.com/ubuntu bionic/universe amd64 libmodule-build-perl all 0.422400-1 [201 kB]\n",
            "Get:5 http://archive.ubuntu.com/ubuntu bionic/universe amd64 liblocal-lib-perl all 2.000024-1 [46.1 kB]\n",
            "Get:6 http://archive.ubuntu.com/ubuntu bionic/universe amd64 libmodule-cpanfile-perl all 1.1002-1 [23.8 kB]\n",
            "Get:7 http://archive.ubuntu.com/ubuntu bionic/universe amd64 libparse-pmfile-perl all 0.41-1 [14.2 kB]\n",
            "Get:8 http://archive.ubuntu.com/ubuntu bionic/universe amd64 libstring-shellquote-perl all 1.04-1 [12.0 kB]\n",
            "Get:9 http://archive.ubuntu.com/ubuntu bionic/universe amd64 cpanminus all 1.7043-1 [58.0 kB]\n",
            "Get:10 http://archive.ubuntu.com/ubuntu bionic/universe amd64 libalgorithm-c3-perl all 0.10-1 [11.3 kB]\n",
            "Get:11 http://archive.ubuntu.com/ubuntu bionic/main amd64 libb-hooks-op-check-perl amd64 0.22-1 [10.1 kB]\n",
            "Get:12 http://archive.ubuntu.com/ubuntu bionic/main amd64 libdynaloader-functions-perl all 0.003-1 [11.9 kB]\n",
            "Get:13 http://archive.ubuntu.com/ubuntu bionic/main amd64 libdevel-callchecker-perl amd64 0.007-2build1 [14.1 kB]\n",
            "Get:14 http://archive.ubuntu.com/ubuntu bionic/main amd64 libparams-classify-perl amd64 0.015-1 [21.2 kB]\n",
            "Get:15 http://archive.ubuntu.com/ubuntu bionic/main amd64 libmodule-runtime-perl all 0.016-1 [16.2 kB]\n",
            "Get:16 http://archive.ubuntu.com/ubuntu bionic/main amd64 libtry-tiny-perl all 0.30-1 [20.5 kB]\n",
            "Get:17 http://archive.ubuntu.com/ubuntu bionic/main amd64 libmodule-implementation-perl all 0.09-1 [12.2 kB]\n",
            "Get:18 http://archive.ubuntu.com/ubuntu bionic/main amd64 libsub-exporter-progressive-perl all 0.001013-1 [6,784 B]\n",
            "Get:19 http://archive.ubuntu.com/ubuntu bionic/main amd64 libvariable-magic-perl amd64 0.62-1 [34.5 kB]\n",
            "Get:20 http://archive.ubuntu.com/ubuntu bionic/main amd64 libb-hooks-endofscope-perl all 0.21-1 [14.7 kB]\n",
            "Get:21 http://archive.ubuntu.com/ubuntu bionic/universe amd64 libclass-c3-perl all 0.33-1 [19.0 kB]\n",
            "Get:22 http://archive.ubuntu.com/ubuntu bionic/universe amd64 libclass-c3-xs-perl amd64 0.14-1build3 [15.8 kB]\n",
            "Get:23 http://archive.ubuntu.com/ubuntu bionic/main amd64 libclass-method-modifiers-perl all 2.12-1 [15.7 kB]\n",
            "Get:24 http://archive.ubuntu.com/ubuntu bionic/main amd64 libclass-xsaccessor-perl amd64 1.19-2build8 [32.8 kB]\n",
            "Get:25 http://archive.ubuntu.com/ubuntu bionic/universe amd64 libcpan-changes-perl all 0.400002-1 [32.0 kB]\n",
            "Get:26 http://archive.ubuntu.com/ubuntu bionic/main amd64 libparams-util-perl amd64 1.07-3build3 [19.6 kB]\n",
            "Get:27 http://archive.ubuntu.com/ubuntu bionic/main amd64 libsub-install-perl all 0.928-1 [10.5 kB]\n",
            "Get:28 http://archive.ubuntu.com/ubuntu bionic/main amd64 libdata-optlist-perl all 0.110-1 [9,956 B]\n",
            "Get:29 http://archive.ubuntu.com/ubuntu bionic/main amd64 libexporter-tiny-perl all 1.000000-2 [34.6 kB]\n",
            "Get:30 http://archive.ubuntu.com/ubuntu bionic/main amd64 liblist-moreutils-perl amd64 0.416-1build3 [55.5 kB]\n",
            "Get:31 http://archive.ubuntu.com/ubuntu bionic/main amd64 librole-tiny-perl all 2.000006-1 [15.9 kB]\n",
            "Get:32 http://archive.ubuntu.com/ubuntu bionic/main amd64 libstrictures-perl all 2.000003-1 [16.1 kB]\n",
            "Get:33 http://archive.ubuntu.com/ubuntu bionic/universe amd64 libdata-perl-perl all 0.002009-2 [39.1 kB]\n",
            "Get:34 http://archive.ubuntu.com/ubuntu bionic/universe amd64 libmro-compat-perl all 0.13-1 [11.2 kB]\n",
            "Get:35 http://archive.ubuntu.com/ubuntu bionic/main amd64 libsub-exporter-perl all 0.987-1 [44.9 kB]\n",
            "Get:36 http://archive.ubuntu.com/ubuntu bionic/universe amd64 libdata-section-perl all 0.200007-1 [11.8 kB]\n",
            "Get:37 http://archive.ubuntu.com/ubuntu bionic/main amd64 libdevel-globaldestruction-perl all 0.14-1 [6,752 B]\n",
            "Get:38 http://archive.ubuntu.com/ubuntu bionic/main amd64 libencode-locale-perl all 1.05-1 [12.3 kB]\n",
            "Get:39 http://archive.ubuntu.com/ubuntu bionic/universe amd64 libfile-slurp-perl all 9999.19-6 [38.5 kB]\n",
            "Get:40 http://archive.ubuntu.com/ubuntu bionic/main amd64 libio-stringy-perl all 2.111-2 [60.6 kB]\n",
            "Get:41 http://archive.ubuntu.com/ubuntu bionic/main amd64 libparams-validate-perl amd64 1.29-1 [52.3 kB]\n",
            "Get:42 http://archive.ubuntu.com/ubuntu bionic/main amd64 libgetopt-long-descriptive-perl all 0.102-1 [24.4 kB]\n",
            "Get:43 http://archive.ubuntu.com/ubuntu bionic/main amd64 libhtml-tagset-perl all 3.20-3 [12.1 kB]\n",
            "Get:44 http://archive.ubuntu.com/ubuntu bionic/main amd64 liburi-perl all 1.73-1 [77.2 kB]\n",
            "Get:45 http://archive.ubuntu.com/ubuntu bionic/main amd64 libhtml-parser-perl amd64 3.72-3build1 [85.9 kB]\n",
            "Get:46 http://archive.ubuntu.com/ubuntu bionic/main amd64 libtimedate-perl all 2.3000-2 [37.5 kB]\n",
            "Get:47 http://archive.ubuntu.com/ubuntu bionic/main amd64 libhttp-date-perl all 6.02-1 [10.4 kB]\n",
            "Get:48 http://archive.ubuntu.com/ubuntu bionic/main amd64 libio-html-perl all 1.001-1 [14.9 kB]\n",
            "Get:49 http://archive.ubuntu.com/ubuntu bionic/main amd64 liblwp-mediatypes-perl all 6.02-1 [21.7 kB]\n",
            "Get:50 http://archive.ubuntu.com/ubuntu bionic/main amd64 libhttp-message-perl all 6.14-1 [72.1 kB]\n",
            "Get:51 http://archive.ubuntu.com/ubuntu bionic/main amd64 libimport-into-perl all 1.002005-1 [11.0 kB]\n",
            "Get:52 http://archive.ubuntu.com/ubuntu bionic/universe amd64 libmodule-signature-perl all 0.81-1 [22.9 kB]\n",
            "Get:53 http://archive.ubuntu.com/ubuntu bionic/main amd64 libsub-quote-perl all 2.005000-1 [17.0 kB]\n",
            "Get:54 http://archive.ubuntu.com/ubuntu bionic/main amd64 libmoo-perl all 2.003004-1 [45.5 kB]\n",
            "Get:55 http://archive.ubuntu.com/ubuntu bionic/universe amd64 libmoox-handlesvia-perl all 0.001008-3 [17.6 kB]\n",
            "Get:56 http://archive.ubuntu.com/ubuntu bionic/main amd64 libpackage-stash-perl all 0.37-1 [18.3 kB]\n",
            "Get:57 http://archive.ubuntu.com/ubuntu bionic/main amd64 libsub-identify-perl amd64 0.14-1 [10.5 kB]\n",
            "Get:58 http://archive.ubuntu.com/ubuntu bionic/main amd64 libsub-name-perl amd64 0.21-1build1 [11.6 kB]\n",
            "Get:59 http://archive.ubuntu.com/ubuntu bionic/main amd64 libnamespace-clean-perl all 0.27-1 [13.6 kB]\n",
            "Get:60 http://archive.ubuntu.com/ubuntu bionic/universe amd64 libnamespace-autoclean-perl all 0.28-1 [12.5 kB]\n",
            "Get:61 http://archive.ubuntu.com/ubuntu bionic/main amd64 libpackage-stash-xs-perl amd64 0.28-3build2 [16.4 kB]\n",
            "Get:62 http://archive.ubuntu.com/ubuntu bionic/main amd64 libpath-tiny-perl all 0.104-1 [55.3 kB]\n",
            "Get:63 http://archive.ubuntu.com/ubuntu bionic/universe amd64 libpod-markdown-perl all 3.005000-1 [27.9 kB]\n",
            "Get:64 http://archive.ubuntu.com/ubuntu bionic/universe amd64 libtype-tiny-perl all 1.002001-1 [226 kB]\n",
            "Get:65 http://archive.ubuntu.com/ubuntu bionic/universe amd64 libpod-readme-perl all 1.1.2-2 [32.9 kB]\n",
            "Get:66 http://archive.ubuntu.com/ubuntu bionic/universe amd64 libreadonly-perl all 2.050-1 [19.8 kB]\n",
            "Get:67 http://archive.ubuntu.com/ubuntu bionic/universe amd64 libref-util-perl all 0.203-1 [14.8 kB]\n",
            "Get:68 http://archive.ubuntu.com/ubuntu bionic/universe amd64 libref-util-xs-perl amd64 0.116-1 [11.5 kB]\n",
            "Get:69 http://archive.ubuntu.com/ubuntu bionic/universe amd64 libtext-template-perl all 1.47-1 [46.9 kB]\n",
            "Get:70 http://archive.ubuntu.com/ubuntu bionic/universe amd64 libsoftware-license-perl all 0.103012-1 [108 kB]\n",
            "Get:71 http://archive.ubuntu.com/ubuntu bionic/universe amd64 libtype-tiny-xs-perl amd64 0.012-2 [22.8 kB]\n",
            "Get:72 http://archive.ubuntu.com/ubuntu bionic/main amd64 libunicode-utf8-perl amd64 0.60-1build4 [17.9 kB]\n",
            "Fetched 2,249 kB in 0s (8,161 kB/s)\n",
            "Extracting templates from packages: 100%\n",
            "Selecting previously unselected package libcpan-distnameinfo-perl.\n",
            "(Reading database ... 160837 files and directories currently installed.)\n",
            "Preparing to unpack .../00-libcpan-distnameinfo-perl_0.12-1_all.deb ...\n",
            "Unpacking libcpan-distnameinfo-perl (0.12-1) ...\n",
            "Selecting previously unselected package libcpan-meta-check-perl.\n",
            "Preparing to unpack .../01-libcpan-meta-check-perl_0.014-1_all.deb ...\n",
            "Unpacking libcpan-meta-check-perl (0.014-1) ...\n",
            "Selecting previously unselected package libfile-pushd-perl.\n",
            "Preparing to unpack .../02-libfile-pushd-perl_1.014-1_all.deb ...\n",
            "Unpacking libfile-pushd-perl (1.014-1) ...\n",
            "Selecting previously unselected package libmodule-build-perl.\n",
            "Preparing to unpack .../03-libmodule-build-perl_0.422400-1_all.deb ...\n",
            "Adding 'diversion of /usr/bin/config_data to /usr/bin/config_data.diverted by libmodule-build-perl'\n",
            "Adding 'diversion of /usr/share/man/man1/config_data.1.gz to /usr/share/man/man1/config_data.diverted.1.gz by libmodule-build-perl'\n",
            "Unpacking libmodule-build-perl (0.422400-1) ...\n",
            "Selecting previously unselected package liblocal-lib-perl.\n",
            "Preparing to unpack .../04-liblocal-lib-perl_2.000024-1_all.deb ...\n",
            "Unpacking liblocal-lib-perl (2.000024-1) ...\n",
            "Selecting previously unselected package libmodule-cpanfile-perl.\n",
            "Preparing to unpack .../05-libmodule-cpanfile-perl_1.1002-1_all.deb ...\n",
            "Unpacking libmodule-cpanfile-perl (1.1002-1) ...\n",
            "Selecting previously unselected package libparse-pmfile-perl.\n",
            "Preparing to unpack .../06-libparse-pmfile-perl_0.41-1_all.deb ...\n",
            "Unpacking libparse-pmfile-perl (0.41-1) ...\n",
            "Selecting previously unselected package libstring-shellquote-perl.\n",
            "Preparing to unpack .../07-libstring-shellquote-perl_1.04-1_all.deb ...\n",
            "Unpacking libstring-shellquote-perl (1.04-1) ...\n",
            "Selecting previously unselected package cpanminus.\n",
            "Preparing to unpack .../08-cpanminus_1.7043-1_all.deb ...\n",
            "Unpacking cpanminus (1.7043-1) ...\n",
            "Selecting previously unselected package libalgorithm-c3-perl.\n",
            "Preparing to unpack .../09-libalgorithm-c3-perl_0.10-1_all.deb ...\n",
            "Unpacking libalgorithm-c3-perl (0.10-1) ...\n",
            "Selecting previously unselected package libb-hooks-op-check-perl.\n",
            "Preparing to unpack .../10-libb-hooks-op-check-perl_0.22-1_amd64.deb ...\n",
            "Unpacking libb-hooks-op-check-perl (0.22-1) ...\n",
            "Selecting previously unselected package libdynaloader-functions-perl.\n",
            "Preparing to unpack .../11-libdynaloader-functions-perl_0.003-1_all.deb ...\n",
            "Unpacking libdynaloader-functions-perl (0.003-1) ...\n",
            "Selecting previously unselected package libdevel-callchecker-perl.\n",
            "Preparing to unpack .../12-libdevel-callchecker-perl_0.007-2build1_amd64.deb ...\n",
            "Unpacking libdevel-callchecker-perl (0.007-2build1) ...\n",
            "Selecting previously unselected package libparams-classify-perl.\n",
            "Preparing to unpack .../13-libparams-classify-perl_0.015-1_amd64.deb ...\n",
            "Unpacking libparams-classify-perl (0.015-1) ...\n",
            "Selecting previously unselected package libmodule-runtime-perl.\n",
            "Preparing to unpack .../14-libmodule-runtime-perl_0.016-1_all.deb ...\n",
            "Unpacking libmodule-runtime-perl (0.016-1) ...\n",
            "Selecting previously unselected package libtry-tiny-perl.\n",
            "Preparing to unpack .../15-libtry-tiny-perl_0.30-1_all.deb ...\n",
            "Unpacking libtry-tiny-perl (0.30-1) ...\n",
            "Selecting previously unselected package libmodule-implementation-perl.\n",
            "Preparing to unpack .../16-libmodule-implementation-perl_0.09-1_all.deb ...\n",
            "Unpacking libmodule-implementation-perl (0.09-1) ...\n",
            "Selecting previously unselected package libsub-exporter-progressive-perl.\n",
            "Preparing to unpack .../17-libsub-exporter-progressive-perl_0.001013-1_all.deb ...\n",
            "Unpacking libsub-exporter-progressive-perl (0.001013-1) ...\n",
            "Selecting previously unselected package libvariable-magic-perl.\n",
            "Preparing to unpack .../18-libvariable-magic-perl_0.62-1_amd64.deb ...\n",
            "Unpacking libvariable-magic-perl (0.62-1) ...\n",
            "Selecting previously unselected package libb-hooks-endofscope-perl.\n",
            "Preparing to unpack .../19-libb-hooks-endofscope-perl_0.21-1_all.deb ...\n",
            "Unpacking libb-hooks-endofscope-perl (0.21-1) ...\n",
            "Selecting previously unselected package libclass-c3-perl.\n",
            "Preparing to unpack .../20-libclass-c3-perl_0.33-1_all.deb ...\n",
            "Unpacking libclass-c3-perl (0.33-1) ...\n",
            "Selecting previously unselected package libclass-c3-xs-perl.\n",
            "Preparing to unpack .../21-libclass-c3-xs-perl_0.14-1build3_amd64.deb ...\n",
            "Unpacking libclass-c3-xs-perl (0.14-1build3) ...\n",
            "Selecting previously unselected package libclass-method-modifiers-perl.\n",
            "Preparing to unpack .../22-libclass-method-modifiers-perl_2.12-1_all.deb ...\n",
            "Unpacking libclass-method-modifiers-perl (2.12-1) ...\n",
            "Selecting previously unselected package libclass-xsaccessor-perl.\n",
            "Preparing to unpack .../23-libclass-xsaccessor-perl_1.19-2build8_amd64.deb ...\n",
            "Unpacking libclass-xsaccessor-perl (1.19-2build8) ...\n",
            "Selecting previously unselected package libcpan-changes-perl.\n",
            "Preparing to unpack .../24-libcpan-changes-perl_0.400002-1_all.deb ...\n",
            "Unpacking libcpan-changes-perl (0.400002-1) ...\n",
            "Selecting previously unselected package libparams-util-perl.\n",
            "Preparing to unpack .../25-libparams-util-perl_1.07-3build3_amd64.deb ...\n",
            "Unpacking libparams-util-perl (1.07-3build3) ...\n",
            "Selecting previously unselected package libsub-install-perl.\n",
            "Preparing to unpack .../26-libsub-install-perl_0.928-1_all.deb ...\n",
            "Unpacking libsub-install-perl (0.928-1) ...\n",
            "Selecting previously unselected package libdata-optlist-perl.\n",
            "Preparing to unpack .../27-libdata-optlist-perl_0.110-1_all.deb ...\n",
            "Unpacking libdata-optlist-perl (0.110-1) ...\n",
            "Selecting previously unselected package libexporter-tiny-perl.\n",
            "Preparing to unpack .../28-libexporter-tiny-perl_1.000000-2_all.deb ...\n",
            "Unpacking libexporter-tiny-perl (1.000000-2) ...\n",
            "Selecting previously unselected package liblist-moreutils-perl.\n",
            "Preparing to unpack .../29-liblist-moreutils-perl_0.416-1build3_amd64.deb ...\n",
            "Unpacking liblist-moreutils-perl (0.416-1build3) ...\n",
            "Selecting previously unselected package librole-tiny-perl.\n",
            "Preparing to unpack .../30-librole-tiny-perl_2.000006-1_all.deb ...\n",
            "Unpacking librole-tiny-perl (2.000006-1) ...\n",
            "Selecting previously unselected package libstrictures-perl.\n",
            "Preparing to unpack .../31-libstrictures-perl_2.000003-1_all.deb ...\n",
            "Unpacking libstrictures-perl (2.000003-1) ...\n",
            "Selecting previously unselected package libdata-perl-perl.\n",
            "Preparing to unpack .../32-libdata-perl-perl_0.002009-2_all.deb ...\n",
            "Unpacking libdata-perl-perl (0.002009-2) ...\n",
            "Selecting previously unselected package libmro-compat-perl.\n",
            "Preparing to unpack .../33-libmro-compat-perl_0.13-1_all.deb ...\n",
            "Unpacking libmro-compat-perl (0.13-1) ...\n",
            "Selecting previously unselected package libsub-exporter-perl.\n",
            "Preparing to unpack .../34-libsub-exporter-perl_0.987-1_all.deb ...\n",
            "Unpacking libsub-exporter-perl (0.987-1) ...\n",
            "Selecting previously unselected package libdata-section-perl.\n",
            "Preparing to unpack .../35-libdata-section-perl_0.200007-1_all.deb ...\n",
            "Unpacking libdata-section-perl (0.200007-1) ...\n",
            "Selecting previously unselected package libdevel-globaldestruction-perl.\n",
            "Preparing to unpack .../36-libdevel-globaldestruction-perl_0.14-1_all.deb ...\n",
            "Unpacking libdevel-globaldestruction-perl (0.14-1) ...\n",
            "Selecting previously unselected package libencode-locale-perl.\n",
            "Preparing to unpack .../37-libencode-locale-perl_1.05-1_all.deb ...\n",
            "Unpacking libencode-locale-perl (1.05-1) ...\n",
            "Selecting previously unselected package libfile-slurp-perl.\n",
            "Preparing to unpack .../38-libfile-slurp-perl_9999.19-6_all.deb ...\n",
            "Unpacking libfile-slurp-perl (9999.19-6) ...\n",
            "Selecting previously unselected package libio-stringy-perl.\n",
            "Preparing to unpack .../39-libio-stringy-perl_2.111-2_all.deb ...\n",
            "Unpacking libio-stringy-perl (2.111-2) ...\n",
            "Selecting previously unselected package libparams-validate-perl.\n",
            "Preparing to unpack .../40-libparams-validate-perl_1.29-1_amd64.deb ...\n",
            "Unpacking libparams-validate-perl (1.29-1) ...\n",
            "Selecting previously unselected package libgetopt-long-descriptive-perl.\n",
            "Preparing to unpack .../41-libgetopt-long-descriptive-perl_0.102-1_all.deb ...\n",
            "Unpacking libgetopt-long-descriptive-perl (0.102-1) ...\n",
            "Selecting previously unselected package libhtml-tagset-perl.\n",
            "Preparing to unpack .../42-libhtml-tagset-perl_3.20-3_all.deb ...\n",
            "Unpacking libhtml-tagset-perl (3.20-3) ...\n",
            "Selecting previously unselected package liburi-perl.\n",
            "Preparing to unpack .../43-liburi-perl_1.73-1_all.deb ...\n",
            "Unpacking liburi-perl (1.73-1) ...\n",
            "Selecting previously unselected package libhtml-parser-perl.\n",
            "Preparing to unpack .../44-libhtml-parser-perl_3.72-3build1_amd64.deb ...\n",
            "Unpacking libhtml-parser-perl (3.72-3build1) ...\n",
            "Selecting previously unselected package libtimedate-perl.\n",
            "Preparing to unpack .../45-libtimedate-perl_2.3000-2_all.deb ...\n",
            "Unpacking libtimedate-perl (2.3000-2) ...\n",
            "Selecting previously unselected package libhttp-date-perl.\n",
            "Preparing to unpack .../46-libhttp-date-perl_6.02-1_all.deb ...\n",
            "Unpacking libhttp-date-perl (6.02-1) ...\n",
            "Selecting previously unselected package libio-html-perl.\n",
            "Preparing to unpack .../47-libio-html-perl_1.001-1_all.deb ...\n",
            "Unpacking libio-html-perl (1.001-1) ...\n",
            "Selecting previously unselected package liblwp-mediatypes-perl.\n",
            "Preparing to unpack .../48-liblwp-mediatypes-perl_6.02-1_all.deb ...\n",
            "Unpacking liblwp-mediatypes-perl (6.02-1) ...\n",
            "Selecting previously unselected package libhttp-message-perl.\n",
            "Preparing to unpack .../49-libhttp-message-perl_6.14-1_all.deb ...\n",
            "Unpacking libhttp-message-perl (6.14-1) ...\n",
            "Selecting previously unselected package libimport-into-perl.\n",
            "Preparing to unpack .../50-libimport-into-perl_1.002005-1_all.deb ...\n",
            "Unpacking libimport-into-perl (1.002005-1) ...\n",
            "Selecting previously unselected package libmodule-signature-perl.\n",
            "Preparing to unpack .../51-libmodule-signature-perl_0.81-1_all.deb ...\n",
            "Unpacking libmodule-signature-perl (0.81-1) ...\n",
            "Selecting previously unselected package libsub-quote-perl.\n",
            "Preparing to unpack .../52-libsub-quote-perl_2.005000-1_all.deb ...\n",
            "Unpacking libsub-quote-perl (2.005000-1) ...\n",
            "Selecting previously unselected package libmoo-perl.\n",
            "Preparing to unpack .../53-libmoo-perl_2.003004-1_all.deb ...\n",
            "Unpacking libmoo-perl (2.003004-1) ...\n",
            "Selecting previously unselected package libmoox-handlesvia-perl.\n",
            "Preparing to unpack .../54-libmoox-handlesvia-perl_0.001008-3_all.deb ...\n",
            "Unpacking libmoox-handlesvia-perl (0.001008-3) ...\n",
            "Selecting previously unselected package libpackage-stash-perl.\n",
            "Preparing to unpack .../55-libpackage-stash-perl_0.37-1_all.deb ...\n",
            "Unpacking libpackage-stash-perl (0.37-1) ...\n",
            "Selecting previously unselected package libsub-identify-perl.\n",
            "Preparing to unpack .../56-libsub-identify-perl_0.14-1_amd64.deb ...\n",
            "Unpacking libsub-identify-perl (0.14-1) ...\n",
            "Selecting previously unselected package libsub-name-perl.\n",
            "Preparing to unpack .../57-libsub-name-perl_0.21-1build1_amd64.deb ...\n",
            "Unpacking libsub-name-perl (0.21-1build1) ...\n",
            "Selecting previously unselected package libnamespace-clean-perl.\n",
            "Preparing to unpack .../58-libnamespace-clean-perl_0.27-1_all.deb ...\n",
            "Unpacking libnamespace-clean-perl (0.27-1) ...\n",
            "Selecting previously unselected package libnamespace-autoclean-perl.\n",
            "Preparing to unpack .../59-libnamespace-autoclean-perl_0.28-1_all.deb ...\n",
            "Unpacking libnamespace-autoclean-perl (0.28-1) ...\n",
            "Selecting previously unselected package libpackage-stash-xs-perl.\n",
            "Preparing to unpack .../60-libpackage-stash-xs-perl_0.28-3build2_amd64.deb ...\n",
            "Unpacking libpackage-stash-xs-perl (0.28-3build2) ...\n",
            "Selecting previously unselected package libpath-tiny-perl.\n",
            "Preparing to unpack .../61-libpath-tiny-perl_0.104-1_all.deb ...\n",
            "Unpacking libpath-tiny-perl (0.104-1) ...\n",
            "Selecting previously unselected package libpod-markdown-perl.\n",
            "Preparing to unpack .../62-libpod-markdown-perl_3.005000-1_all.deb ...\n",
            "Unpacking libpod-markdown-perl (3.005000-1) ...\n",
            "Selecting previously unselected package libtype-tiny-perl.\n",
            "Preparing to unpack .../63-libtype-tiny-perl_1.002001-1_all.deb ...\n",
            "Unpacking libtype-tiny-perl (1.002001-1) ...\n",
            "Selecting previously unselected package libpod-readme-perl.\n",
            "Preparing to unpack .../64-libpod-readme-perl_1.1.2-2_all.deb ...\n",
            "Unpacking libpod-readme-perl (1.1.2-2) ...\n",
            "Selecting previously unselected package libreadonly-perl.\n",
            "Preparing to unpack .../65-libreadonly-perl_2.050-1_all.deb ...\n",
            "Unpacking libreadonly-perl (2.050-1) ...\n",
            "Selecting previously unselected package libref-util-perl.\n",
            "Preparing to unpack .../66-libref-util-perl_0.203-1_all.deb ...\n",
            "Unpacking libref-util-perl (0.203-1) ...\n",
            "Selecting previously unselected package libref-util-xs-perl.\n",
            "Preparing to unpack .../67-libref-util-xs-perl_0.116-1_amd64.deb ...\n",
            "Unpacking libref-util-xs-perl (0.116-1) ...\n",
            "Selecting previously unselected package libtext-template-perl.\n",
            "Preparing to unpack .../68-libtext-template-perl_1.47-1_all.deb ...\n",
            "Unpacking libtext-template-perl (1.47-1) ...\n",
            "Selecting previously unselected package libsoftware-license-perl.\n",
            "Preparing to unpack .../69-libsoftware-license-perl_0.103012-1_all.deb ...\n",
            "Unpacking libsoftware-license-perl (0.103012-1) ...\n",
            "Selecting previously unselected package libtype-tiny-xs-perl.\n",
            "Preparing to unpack .../70-libtype-tiny-xs-perl_0.012-2_amd64.deb ...\n",
            "Unpacking libtype-tiny-xs-perl (0.012-2) ...\n",
            "Selecting previously unselected package libunicode-utf8-perl.\n",
            "Preparing to unpack .../71-libunicode-utf8-perl_0.60-1build4_amd64.deb ...\n",
            "Unpacking libunicode-utf8-perl (0.60-1build4) ...\n",
            "Setting up libhtml-tagset-perl (3.20-3) ...\n",
            "Setting up libpath-tiny-perl (0.104-1) ...\n",
            "Setting up libclass-c3-xs-perl (0.14-1build3) ...\n",
            "Setting up libsub-install-perl (0.928-1) ...\n",
            "Setting up libio-stringy-perl (2.111-2) ...\n",
            "Setting up libcpan-distnameinfo-perl (0.12-1) ...\n",
            "Setting up libsub-exporter-progressive-perl (0.001013-1) ...\n",
            "Setting up libtry-tiny-perl (0.30-1) ...\n",
            "Setting up libfile-slurp-perl (9999.19-6) ...\n",
            "Setting up libclass-method-modifiers-perl (2.12-1) ...\n",
            "Setting up libencode-locale-perl (1.05-1) ...\n",
            "Setting up libvariable-magic-perl (0.62-1) ...\n",
            "Setting up libtimedate-perl (2.3000-2) ...\n",
            "Setting up librole-tiny-perl (2.000006-1) ...\n",
            "Setting up libstring-shellquote-perl (1.04-1) ...\n",
            "Setting up libb-hooks-op-check-perl (0.22-1) ...\n",
            "Setting up libio-html-perl (1.001-1) ...\n",
            "Setting up libexporter-tiny-perl (1.000000-2) ...\n",
            "Setting up libmodule-cpanfile-perl (1.1002-1) ...\n",
            "Setting up libtype-tiny-xs-perl (0.012-2) ...\n",
            "Setting up libsub-identify-perl (0.14-1) ...\n",
            "Setting up libref-util-perl (0.203-1) ...\n",
            "Setting up libdynaloader-functions-perl (0.003-1) ...\n",
            "Setting up libparse-pmfile-perl (0.41-1) ...\n",
            "Setting up libfile-pushd-perl (1.014-1) ...\n",
            "Setting up libcpan-meta-check-perl (0.014-1) ...\n",
            "Setting up libpackage-stash-xs-perl (0.28-3build2) ...\n",
            "Setting up libstrictures-perl (2.000003-1) ...\n",
            "Setting up libmodule-signature-perl (0.81-1) ...\n",
            "Setting up libreadonly-perl (2.050-1) ...\n",
            "Setting up liblwp-mediatypes-perl (6.02-1) ...\n",
            "Setting up libref-util-xs-perl (0.116-1) ...\n",
            "Setting up liburi-perl (1.73-1) ...\n",
            "Setting up libhtml-parser-perl (3.72-3build1) ...\n",
            "Setting up libdevel-globaldestruction-perl (0.14-1) ...\n",
            "Setting up libpod-markdown-perl (3.005000-1) ...\n",
            "Setting up libclass-xsaccessor-perl (1.19-2build8) ...\n",
            "Setting up libcpan-changes-perl (0.400002-1) ...\n",
            "Setting up libunicode-utf8-perl (0.60-1build4) ...\n",
            "Setting up libmodule-build-perl (0.422400-1) ...\n",
            "Setting up libparams-util-perl (1.07-3build3) ...\n",
            "Setting up libsub-name-perl (0.21-1build1) ...\n",
            "Setting up libsub-quote-perl (2.005000-1) ...\n",
            "Setting up libtext-template-perl (1.47-1) ...\n",
            "Setting up libalgorithm-c3-perl (0.10-1) ...\n",
            "Setting up libclass-c3-perl (0.33-1) ...\n",
            "Setting up liblocal-lib-perl (2.000024-1) ...\n",
            "Setting up liblist-moreutils-perl (0.416-1build3) ...\n",
            "Setting up libdata-optlist-perl (0.110-1) ...\n",
            "Setting up libhttp-date-perl (6.02-1) ...\n",
            "Setting up libtype-tiny-perl (1.002001-1) ...\n",
            "Setting up libdevel-callchecker-perl (0.007-2build1) ...\n",
            "Setting up cpanminus (1.7043-1) ...\n",
            "Setting up libmro-compat-perl (0.13-1) ...\n",
            "Setting up libsub-exporter-perl (0.987-1) ...\n",
            "Setting up libhttp-message-perl (6.14-1) ...\n",
            "Setting up libparams-classify-perl (0.015-1) ...\n",
            "Setting up libdata-section-perl (0.200007-1) ...\n",
            "Setting up libmodule-runtime-perl (0.016-1) ...\n",
            "Setting up libsoftware-license-perl (0.103012-1) ...\n",
            "Setting up libdata-perl-perl (0.002009-2) ...\n",
            "Setting up libimport-into-perl (1.002005-1) ...\n",
            "Setting up libmodule-implementation-perl (0.09-1) ...\n",
            "Setting up libparams-validate-perl (1.29-1) ...\n",
            "Setting up libmoo-perl (2.003004-1) ...\n",
            "Setting up libb-hooks-endofscope-perl (0.21-1) ...\n",
            "Setting up libpackage-stash-perl (0.37-1) ...\n",
            "Setting up libgetopt-long-descriptive-perl (0.102-1) ...\n",
            "Setting up libmoox-handlesvia-perl (0.001008-3) ...\n",
            "Setting up libnamespace-clean-perl (0.27-1) ...\n",
            "Setting up libnamespace-autoclean-perl (0.28-1) ...\n",
            "Setting up libpod-readme-perl (1.1.2-2) ...\n",
            "Processing triggers for man-db (2.8.3-2ubuntu0.1) ...\n"
          ],
          "name": "stdout"
        }
      ]
    },
    {
      "cell_type": "markdown",
      "metadata": {
        "id": "DsUE36HX7Tiz"
      },
      "source": [
        "#Imports"
      ]
    },
    {
      "cell_type": "code",
      "metadata": {
        "id": "xn8eGVa17TMr"
      },
      "source": [
        "import os\n",
        "from os.path import exists, join, basename, splitext\n",
        "from pydub import AudioSegment\n",
        "from pydub.silence import split_on_silence"
      ],
      "execution_count": null,
      "outputs": []
    },
    {
      "cell_type": "code",
      "metadata": {
        "id": "6voZZDxY7yua"
      },
      "source": [
        "import torch\n",
        "device = torch.device(\"cuda:0\" if torch.cuda.is_available() else \"cpu\")"
      ],
      "execution_count": null,
      "outputs": []
    },
    {
      "cell_type": "code",
      "metadata": {
        "id": "lvuYIphQ8Csp"
      },
      "source": [
        "import librosa\n",
        "import torch\n",
        "from transformers import Wav2Vec2ForCTC, Wav2Vec2Tokenizer"
      ],
      "execution_count": null,
      "outputs": []
    },
    {
      "cell_type": "code",
      "metadata": {
        "colab": {
          "base_uri": "https://localhost:8080/",
          "height": 398,
          "referenced_widgets": [
            "f5e2d79b83394f3697c7e847a69f65fe",
            "092f99f48c5a49e18d4c01aa1984d6c2",
            "61c0038e267d4b5cb8c693f7ea1f28aa",
            "79e8b16ee43c4096a2a5a5cc2f339ab5",
            "676ec75fc6034266afd9a0c4b958d7bf",
            "ac57ad27f5244408a430c967d84dc93d",
            "e8f444027e9541cf9eaafdc90ca55a59",
            "4a8bf50a575140cfabc1f46f57ebddc8",
            "62a72439f31645fe9e9b07ce1bbf0ab5",
            "67bbdc5980674fbe9fa68fba52d30bad",
            "dfec7422605645e5b96e63e9ef9aab26",
            "eabbadfd40774af6b6ca8694a75d9a12",
            "be48e65fb18d47c898a1b1f1a719fcf5",
            "a495acb53e954afc85928bc461b6048f",
            "f794930f44714dc9b31b7ee0b2ad6383",
            "f35ebc0d928746fd926f9044fedddb2a",
            "8ef135d4da044fdcaf035c06173d1be1",
            "c6e2eb675152429f9053f05931fdfa09",
            "f64d72e0c69d420ea40c06c4ccc1b0d6",
            "351e68f85b144c929a62ac514c8ffccf",
            "08d65d62f1cb4d4aa2cc53fc46935829",
            "8a34dea6cbc64581a776deaf964c927b",
            "cee853993f294ac4883e49ae1ffb0edc",
            "f13d83e6615c443587b64be0e8a4aacc",
            "4c17297489f5499481c731363b6a125b",
            "69f5eedf60e542bf97fb510e82c64151",
            "dd80faf3ff244f589ffa1e32fcf29df0",
            "2e1076fca5cb4bbfad6604a66eca96ac",
            "3c0466bf11e2490aae80a115a5f5470f",
            "f491a72c5f7345249b81974611f03abf",
            "1134428991a149cab2e334388c9166ac",
            "623aa613a4a045218cf5c640ed962dbe",
            "7f9979a95c754fbb9c9389c551722991",
            "05468bb84fdd4afabcaffdcf2b38c6c2",
            "06be9938814b445fbc7019e531db6fa4",
            "d5f2aa212766487b9fe3ec214ad4b18d",
            "39704aa23e9f4221bde757cef38aca9c",
            "5470045e519b4b25befbc188d39245bc",
            "32deb79841844da79d8f4390fa21f54a",
            "d6ab5cf88cea46aca89416673a3f770d"
          ]
        },
        "id": "OA5gFVptoViN",
        "outputId": "ee68e6e5-ef92-43d8-be9b-b3b327cdfea7"
      },
      "source": [
        "tokenizer = Wav2Vec2Tokenizer.from_pretrained(\"facebook/wav2vec2-base-960h\")\n",
        "model = Wav2Vec2ForCTC.from_pretrained(\"facebook/wav2vec2-base-960h\").to(\"cuda\")"
      ],
      "execution_count": null,
      "outputs": [
        {
          "output_type": "display_data",
          "data": {
            "application/vnd.jupyter.widget-view+json": {
              "model_id": "f5e2d79b83394f3697c7e847a69f65fe",
              "version_minor": 0,
              "version_major": 2
            },
            "text/plain": [
              "HBox(children=(FloatProgress(value=0.0, description='Downloading', max=291.0, style=ProgressStyle(description_…"
            ]
          },
          "metadata": {
            "tags": []
          }
        },
        {
          "output_type": "stream",
          "text": [
            "\n"
          ],
          "name": "stdout"
        },
        {
          "output_type": "display_data",
          "data": {
            "application/vnd.jupyter.widget-view+json": {
              "model_id": "62a72439f31645fe9e9b07ce1bbf0ab5",
              "version_minor": 0,
              "version_major": 2
            },
            "text/plain": [
              "HBox(children=(FloatProgress(value=0.0, description='Downloading', max=163.0, style=ProgressStyle(description_…"
            ]
          },
          "metadata": {
            "tags": []
          }
        },
        {
          "output_type": "stream",
          "text": [
            "\n"
          ],
          "name": "stdout"
        },
        {
          "output_type": "display_data",
          "data": {
            "application/vnd.jupyter.widget-view+json": {
              "model_id": "8ef135d4da044fdcaf035c06173d1be1",
              "version_minor": 0,
              "version_major": 2
            },
            "text/plain": [
              "HBox(children=(FloatProgress(value=0.0, description='Downloading', max=85.0, style=ProgressStyle(description_w…"
            ]
          },
          "metadata": {
            "tags": []
          }
        },
        {
          "output_type": "stream",
          "text": [
            "\n"
          ],
          "name": "stdout"
        },
        {
          "output_type": "display_data",
          "data": {
            "application/vnd.jupyter.widget-view+json": {
              "model_id": "4c17297489f5499481c731363b6a125b",
              "version_minor": 0,
              "version_major": 2
            },
            "text/plain": [
              "HBox(children=(FloatProgress(value=0.0, description='Downloading', max=1596.0, style=ProgressStyle(description…"
            ]
          },
          "metadata": {
            "tags": []
          }
        },
        {
          "output_type": "stream",
          "text": [
            "The tokenizer class you load from this checkpoint is not the same type as the class this function is called from. It may result in unexpected tokenization. \n",
            "The tokenizer class you load from this checkpoint is 'Wav2Vec2CTCTokenizer'. \n",
            "The class this function is called from is 'Wav2Vec2Tokenizer'.\n"
          ],
          "name": "stderr"
        },
        {
          "output_type": "stream",
          "text": [
            "\n"
          ],
          "name": "stdout"
        },
        {
          "output_type": "stream",
          "text": [
            "/usr/local/lib/python3.7/dist-packages/transformers/models/wav2vec2/tokenization_wav2vec2.py:419: FutureWarning: The class `Wav2Vec2Tokenizer` is deprecated and will be removed in version 5 of Transformers. Please use `Wav2Vec2Processor` or `Wav2Vec2CTCTokenizer` instead.\n",
            "  FutureWarning,\n"
          ],
          "name": "stderr"
        },
        {
          "output_type": "display_data",
          "data": {
            "application/vnd.jupyter.widget-view+json": {
              "model_id": "7f9979a95c754fbb9c9389c551722991",
              "version_minor": 0,
              "version_major": 2
            },
            "text/plain": [
              "HBox(children=(FloatProgress(value=0.0, description='Downloading', max=377667514.0, style=ProgressStyle(descri…"
            ]
          },
          "metadata": {
            "tags": []
          }
        },
        {
          "output_type": "stream",
          "text": [
            "\n"
          ],
          "name": "stdout"
        },
        {
          "output_type": "stream",
          "text": [
            "Some weights of Wav2Vec2ForCTC were not initialized from the model checkpoint at facebook/wav2vec2-base-960h and are newly initialized: ['wav2vec2.masked_spec_embed']\n",
            "You should probably TRAIN this model on a down-stream task to be able to use it for predictions and inference.\n"
          ],
          "name": "stderr"
        }
      ]
    },
    {
      "cell_type": "code",
      "metadata": {
        "id": "H2XWQtSN8PbY"
      },
      "source": [
        "import gdown"
      ],
      "execution_count": null,
      "outputs": []
    },
    {
      "cell_type": "code",
      "metadata": {
        "colab": {
          "base_uri": "https://localhost:8080/",
          "height": 102
        },
        "id": "_nVGFm_a_3Ls",
        "outputId": "a6ed0f65-ecea-4297-bfc7-1e23e217fda6"
      },
      "source": [
        "# importing gdown to download the Demo Europarl Punctuator model\n",
        "\n",
        "url = 'https://drive.google.com/uc?id=0B7BsN5f2F1fZd1Q0aXlrUDhDbnM'\n",
        "output = 'Demo-Europarl-EN.pcl'\n",
        "gdown.download(url, output, quiet=False)"
      ],
      "execution_count": null,
      "outputs": [
        {
          "output_type": "stream",
          "text": [
            "Downloading...\n",
            "From: https://drive.google.com/uc?id=0B7BsN5f2F1fZd1Q0aXlrUDhDbnM\n",
            "To: /content/Demo-Europarl-EN.pcl\n",
            "144MB [00:01, 84.7MB/s]\n"
          ],
          "name": "stderr"
        },
        {
          "output_type": "execute_result",
          "data": {
            "application/vnd.google.colaboratory.intrinsic+json": {
              "type": "string"
            },
            "text/plain": [
              "'Demo-Europarl-EN.pcl'"
            ]
          },
          "metadata": {
            "tags": []
          },
          "execution_count": 18
        }
      ]
    },
    {
      "cell_type": "code",
      "metadata": {
        "id": "jHXG6eZ08at9"
      },
      "source": [
        "from punctuator import Punctuator"
      ],
      "execution_count": null,
      "outputs": []
    },
    {
      "cell_type": "code",
      "metadata": {
        "colab": {
          "base_uri": "https://localhost:8080/"
        },
        "id": "yqF9pdib8f9s",
        "outputId": "42edd11c-32ce-4050-d350-d6884b3b2b35"
      },
      "source": [
        "import nltk\n",
        "nltk.download('stopwords')\n",
        "nltk.download('wordnet')\n",
        "nltk.download('punkt')\n",
        "nltk.download('averaged_perceptron_tagger') "
      ],
      "execution_count": null,
      "outputs": [
        {
          "output_type": "stream",
          "text": [
            "[nltk_data] Downloading package stopwords to /root/nltk_data...\n",
            "[nltk_data]   Unzipping corpora/stopwords.zip.\n",
            "[nltk_data] Downloading package wordnet to /root/nltk_data...\n",
            "[nltk_data]   Unzipping corpora/wordnet.zip.\n",
            "[nltk_data] Downloading package punkt to /root/nltk_data...\n",
            "[nltk_data]   Unzipping tokenizers/punkt.zip.\n",
            "[nltk_data] Downloading package averaged_perceptron_tagger to\n",
            "[nltk_data]     /root/nltk_data...\n",
            "[nltk_data]   Unzipping taggers/averaged_perceptron_tagger.zip.\n"
          ],
          "name": "stderr"
        },
        {
          "output_type": "execute_result",
          "data": {
            "text/plain": [
              "True"
            ]
          },
          "metadata": {
            "tags": []
          },
          "execution_count": 20
        }
      ]
    },
    {
      "cell_type": "code",
      "metadata": {
        "id": "bWN2j7Y08nWS"
      },
      "source": [
        "from nltk.tokenize import sent_tokenize, word_tokenize\n",
        "from nltk.stem import WordNetLemmatizer\n",
        "wordnet_lemmatizer = WordNetLemmatizer()"
      ],
      "execution_count": null,
      "outputs": []
    },
    {
      "cell_type": "code",
      "metadata": {
        "id": "7EUS4VRF8y1V"
      },
      "source": [
        "from autocorrect import Speller"
      ],
      "execution_count": null,
      "outputs": []
    },
    {
      "cell_type": "code",
      "metadata": {
        "id": "w8DOst2m85He"
      },
      "source": [
        "from sklearn.feature_extraction.text import CountVectorizer \n",
        "import numpy as np"
      ],
      "execution_count": null,
      "outputs": []
    },
    {
      "cell_type": "code",
      "metadata": {
        "colab": {
          "base_uri": "https://localhost:8080/"
        },
        "id": "o7gFQphz8_T_",
        "outputId": "9cfdff99-bb53-487d-a727-b20542fef571"
      },
      "source": [
        "from nltk.corpus import stopwords\n",
        "nltk.download('stopwords')\n",
        "from nltk.tokenize import word_tokenize"
      ],
      "execution_count": null,
      "outputs": [
        {
          "output_type": "stream",
          "text": [
            "[nltk_data] Downloading package stopwords to /root/nltk_data...\n",
            "[nltk_data]   Package stopwords is already up-to-date!\n"
          ],
          "name": "stderr"
        }
      ]
    },
    {
      "cell_type": "code",
      "metadata": {
        "id": "pEkYTNRS9H2U"
      },
      "source": [
        "import matplotlib.pyplot as plt"
      ],
      "execution_count": null,
      "outputs": []
    },
    {
      "cell_type": "code",
      "metadata": {
        "id": "7DiyYXrf9UMw"
      },
      "source": [
        "from gensim.summarization import keywords"
      ],
      "execution_count": null,
      "outputs": []
    },
    {
      "cell_type": "code",
      "metadata": {
        "id": "NasVxZfl9aKC"
      },
      "source": [
        "from gensim.summarization import summarize"
      ],
      "execution_count": null,
      "outputs": []
    },
    {
      "cell_type": "code",
      "metadata": {
        "id": "x6Oy7HIS9hg-"
      },
      "source": [
        "from pydub.utils import make_chunks"
      ],
      "execution_count": null,
      "outputs": []
    },
    {
      "cell_type": "code",
      "metadata": {
        "id": "1Qdn2zEwFH_D"
      },
      "source": [
        "from pythonrouge.pythonrouge import Pythonrouge"
      ],
      "execution_count": null,
      "outputs": []
    },
    {
      "cell_type": "code",
      "metadata": {
        "id": "XiFkn4eX_Uup"
      },
      "source": [
        "import crepe\n",
        "import pandas as pd\n",
        "import math"
      ],
      "execution_count": null,
      "outputs": []
    },
    {
      "cell_type": "code",
      "metadata": {
        "id": "ZqKGHXGoWNzj"
      },
      "source": [
        "from fuzzywuzzy import fuzz\n",
        "from fuzzywuzzy import process"
      ],
      "execution_count": null,
      "outputs": []
    },
    {
      "cell_type": "markdown",
      "metadata": {
        "id": "vI2rFRDe8RXk"
      },
      "source": [
        "#Creating Files"
      ]
    },
    {
      "cell_type": "code",
      "metadata": {
        "id": "wm7kfsvL-Uek"
      },
      "source": [
        "# Creating all the files \n",
        "\n",
        "def creating_files():\n",
        "  inference_file = open(\"inference.txt\",\"w+\")\n",
        "  inference_file.truncate(0)\n",
        "  inference_file.close()\n",
        "  punctuated_file = open(\"PunctuatedText.txt\",\"w+\")\n",
        "  punctuated_file.truncate(0)\n",
        "  punctuated_file.close()\n",
        "  summarized_file = open(\"SummarizedText.txt\",\"w+\")\n",
        "  summarized_file.truncate(0)\n",
        "  summarized_file.close()\n",
        "  lemmatized_file = open(\"LemmatizedText.txt\",\"w+\")\n",
        "  lemmatized_file.truncate(0)\n",
        "  lemmatized_file.close()\n",
        "  final_infer_file = open(\"finalInference.txt\",\"w+\")\n",
        "  final_infer_file.truncate(0)\n",
        "  final_infer_file.close()"
      ],
      "execution_count": null,
      "outputs": []
    },
    {
      "cell_type": "markdown",
      "metadata": {
        "id": "x6N0gUez9fBv"
      },
      "source": [
        "#Downloading the Audio from Youtube Video"
      ]
    },
    {
      "cell_type": "code",
      "metadata": {
        "id": "WO8vmrUP2xN9"
      },
      "source": [
        "#Downloading Youtube Audio using youtube dl extension\n",
        "def dowloadAudio(YOUTUBE_ID):\n",
        "  !youtube-dl --extract-audio --audio-format wav --output \"YoutubeVid.%(ext)s\" https://www.youtube.com/watch\\?v\\={YOUTUBE_ID}\n"
      ],
      "execution_count": null,
      "outputs": []
    },
    {
      "cell_type": "markdown",
      "metadata": {
        "id": "_VvcVBMKl2n0"
      },
      "source": [
        "#Chunking the Youtube Audio on the basis of silence"
      ]
    },
    {
      "cell_type": "code",
      "metadata": {
        "id": "W64hy0oOHjp_"
      },
      "source": [
        "#Chunking the Audio based on Silence\n",
        "def chunk_on_silence():\n",
        "  if not exists(\"YoutubeVidChunks\"):\n",
        "    os.mkdir(\"YoutubeVidChunks\")\n",
        "  sound_file = AudioSegment.from_wav(\"YoutubeVid.wav\")\n",
        "  audio_chunks = split_on_silence(sound_file, min_silence_len=2000, silence_thresh=-40, keep_silence=1000 )\n",
        "  for i, chunk in enumerate(audio_chunks):\n",
        "    out_file = \"YoutubeVidChunks/chunk{0}.wav\".format(i)\n",
        "    chunk.export(out_file, format=\"wav\")\n",
        "  return audio_chunks"
      ],
      "execution_count": null,
      "outputs": []
    },
    {
      "cell_type": "markdown",
      "metadata": {
        "id": "8VpHkB2Ifnxz"
      },
      "source": [
        "#Huggingface wav2vec2:\n",
        "https://www.analyticsvidhya.com/blog/2021/02/hugging-face-introduces-the-first-automatic-speech-recognition-model-wav2vec2/\n",
        "https://huggingface.co/facebook/wav2vec2-base-960h?\n"
      ]
    },
    {
      "cell_type": "code",
      "metadata": {
        "id": "vREa4KaV-_LV"
      },
      "source": [
        "#load huggingface wav2vec2 model and tokenizer\n",
        "def wav2vec2(audio_chunks):\n",
        "  print(\"\\n\")\n",
        "  for i, chunk in enumerate(audio_chunks):\n",
        "    out_file = \"YoutubeVidChunks/chunk{0}.wav\".format(i)\n",
        "    speech, rate = librosa.load(out_file,sr=16000)\n",
        "    input_values = tokenizer(speech, return_tensors = 'pt').input_values\n",
        "    with torch.no_grad():\n",
        "            logits = model(input_values.to(\"cuda\")).logits\n",
        "    #Store predicted id's\n",
        "    predicted_ids = torch.argmax(logits, dim =-1)\n",
        "\n",
        "    #decode the audio to generate text\n",
        "    transcriptions = tokenizer.decode(predicted_ids[0]).lower()\n",
        "    with open('inference.txt', 'a+') as writefile:\n",
        "      writefile.write(transcriptions+\". \")\n",
        "  print(transcriptions)"
      ],
      "execution_count": null,
      "outputs": []
    },
    {
      "cell_type": "markdown",
      "metadata": {
        "id": "hcXibLAqJdL6"
      },
      "source": [
        "#Pip Punctuator"
      ]
    },
    {
      "cell_type": "markdown",
      "metadata": {
        "id": "p8VSMxsaJiR9"
      },
      "source": [
        "Reference: https://pypi.org/project/punctuator/"
      ]
    },
    {
      "cell_type": "code",
      "metadata": {
        "id": "g8o7sUaPt0Yd"
      },
      "source": [
        "#Punctuating the raw text output from Deep Speech using Pip Punctuator \n",
        "import spacy\n",
        "\n",
        "def Punctuate():\n",
        "  f = open('inference.txt', \"r\")\n",
        "  lines = f.readline()\n",
        "  f.close()\n",
        "  #p = Punctuator('Demo-Europarl-EN.pcl')\n",
        "  #punctLines=p.punctuate(lines)\n",
        "  nlp = spacy.load('en_core_web_sm')\n",
        "  text_sentences = nlp(lines)\n",
        "  for sentence in text_sentences.sents:\n",
        "        print(sentence.text)\n",
        "        with open('PunctuatedText.txt', 'a+') as writefile:\n",
        "              writefile.write(sentence.text+\". \")\n"
      ],
      "execution_count": null,
      "outputs": []
    },
    {
      "cell_type": "markdown",
      "metadata": {
        "id": "il_IhagEmIyV"
      },
      "source": [
        "Auto-correcting the Text"
      ]
    },
    {
      "cell_type": "code",
      "metadata": {
        "id": "rKWvaiA80IVM"
      },
      "source": [
        "#Auto-Correcting the mistakes in Transcription\n",
        "def AutoCorrection():\n",
        "  f = open('PunctuatedText.txt', \"r\")\n",
        "  lines = f.readline()\n",
        "  f.close()\n",
        "  spell = Speller()\n",
        "  correct_spell=spell(lines)\n",
        "  print(correct_spell)\n",
        "  lines_list = nltk.tokenize.sent_tokenize(correct_spell)\n",
        "  with open('finalInference.txt', 'w+') as writefile:\n",
        "    writefile.write(correct_spell)\n"
      ],
      "execution_count": null,
      "outputs": []
    },
    {
      "cell_type": "markdown",
      "metadata": {
        "id": "lP9oH399LxhE"
      },
      "source": [
        "#NLTK Preprocessing"
      ]
    },
    {
      "cell_type": "markdown",
      "metadata": {
        "id": "5AayV4HiMEvU"
      },
      "source": [
        "Reference: https://www.datacamp.com/community/tutorials/stemming-lemmatization-python"
      ]
    },
    {
      "cell_type": "code",
      "metadata": {
        "id": "8jt8nmx4qTO_"
      },
      "source": [
        "#Function for word tokenization \n",
        "\n",
        "def lemmSentence(sentence):\n",
        "    token_words=word_tokenize(sentence)\n",
        "    token_words\n",
        "    lemm_sentence=[]\n",
        "    for word in token_words:\n",
        "        lemm_sentence.append(wordnet_lemmatizer.lemmatize(word))\n",
        "        lemm_sentence.append(\" \")\n",
        "    return \"\".join(lemm_sentence)\n"
      ],
      "execution_count": null,
      "outputs": []
    },
    {
      "cell_type": "code",
      "metadata": {
        "id": "_TttxnPa_Wly"
      },
      "source": [
        "#Function for word lemmatization\n",
        "def lemmatizedText():\n",
        "  lemm_file= open(\"LemmatizedText.txt\",\"w+\")\n",
        "  sentences=\"\"\n",
        "  f = open('finalInference.txt', \"r\")\n",
        "  lines = f.readline()\n",
        "  f.close()\n",
        "  lines_list = nltk.tokenize.sent_tokenize(lines)\n",
        "  for line in lines_list:\n",
        "      lemm_sentence=lemmSentence(line)\n",
        "      lemm_file.write(lemm_sentence)\n",
        "      sentences+=lemm_sentence\n",
        "  lemm_file.close()\n",
        "  return sentences"
      ],
      "execution_count": null,
      "outputs": []
    },
    {
      "cell_type": "markdown",
      "metadata": {
        "id": "qCC75JRvmWd6"
      },
      "source": [
        "#Extracting keywords and key sentences using Gensim"
      ]
    },
    {
      "cell_type": "code",
      "metadata": {
        "id": "edwbqajy2MPj"
      },
      "source": [
        "#extracting keywords and key sentences in the Text\n",
        "def extract_keywords():\n",
        "  f = open('LemmatizedText.txt', \"r\")\n",
        "  sentences = f.readline()\n",
        "  f.close()\n",
        "  key_terms=keywords(sentences,words=23)\n",
        "  print(key_terms)\n",
        "  keywords_list=key_terms.split()\n",
        "  topic_word=keywords_list[0]\n",
        "  print(\"Topic Word\",topic_word)\n",
        "  return key_terms, keywords_list, topic_word"
      ],
      "execution_count": null,
      "outputs": []
    },
    {
      "cell_type": "code",
      "metadata": {
        "id": "KyiQTtL2A7mp"
      },
      "source": [
        "#extracting noun entities from the keywords\n",
        "def extract_nouns(key_terms):\n",
        "  is_noun = lambda pos: pos[:2] == 'NN'\n",
        "  # do the nlp stuff\n",
        "  tokenized = nltk.word_tokenize(key_terms)\n",
        "  keyword_nouns = [word for (word, pos) in nltk.pos_tag(tokenized) if is_noun(pos)] \n",
        "  print(keyword_nouns)\n",
        "  return keyword_nouns"
      ],
      "execution_count": null,
      "outputs": []
    },
    {
      "cell_type": "code",
      "metadata": {
        "id": "X0ofL6scmlhw"
      },
      "source": [
        "#generating the summary of the text\n",
        "def summarize_text():\n",
        "  f = open('finalInference.txt', \"r\")\n",
        "  sentences = f.readline()\n",
        "  f.close()\n",
        "  summarized_text=summarize(sentences,ratio=0.3)\n",
        "  print(summarized_text)\n",
        "  with open('SummarizedText.txt', 'w+') as writefile:\n",
        "    writefile.write(summarized_text)"
      ],
      "execution_count": null,
      "outputs": []
    },
    {
      "cell_type": "markdown",
      "metadata": {
        "id": "OEQ3R2aU1pmS"
      },
      "source": [
        "#ROUGE EVALUATION\n",
        "https://pypi.org/project/rouge/"
      ]
    },
    {
      "cell_type": "code",
      "metadata": {
        "id": "5x0YpD9ls1Ad"
      },
      "source": [
        "# !apt-get install -y cpanminus\n",
        "\n",
        "# !cpanm --force XML::Parser"
      ],
      "execution_count": null,
      "outputs": []
    },
    {
      "cell_type": "code",
      "metadata": {
        "id": "K5X_s8Wxhnm_"
      },
      "source": [
        "# from pythonrouge.pythonrouge import Pythonrouge\n",
        "\n",
        " \n",
        "\n",
        "# # system summary(prediction) & reference summary\n",
        "# summary = [[Summarized_lines]]\n",
        "\n",
        "# reference = [[[Inferenced_lines]]]\n",
        "\n",
        "# # initialize setting of ROUGE to evaluate ROUGE-1, 2, W and SU4\n",
        "\n",
        "# rouge = Pythonrouge(summary_file_exist=False,\n",
        "\n",
        "#                     summary=summary, reference=reference,\n",
        "\n",
        "#                     n_gram=2, ROUGE_SU4=True, ROUGE_L=True,ROUGE_W=True,ROUGE_W_Weight=1.2,\n",
        "\n",
        "#                     recall_only=False, stemming=True, stopwords=True,\n",
        "\n",
        "#                     word_level=True, length_limit=True, length=50,\n",
        "\n",
        "#                     use_cf=False, cf=95, scoring_formula='average',\n",
        "\n",
        "#                     resampling=True, samples=1000, favor=True, p=0.5)\n",
        "\n",
        "# score = rouge.calc_score()\n",
        "\n",
        "# print(score)"
      ],
      "execution_count": null,
      "outputs": []
    },
    {
      "cell_type": "code",
      "metadata": {
        "id": "44LcE5xsFNGn"
      },
      "source": [
        "\n",
        "# def Evaluate_Rouge:\n",
        "#   summary = [[Summarized_lines]]\n",
        "\n",
        "#   reference = [[[Inferenced_lines]]]\n",
        "\n",
        "\n",
        "#   rouge = Pythonrouge(summary_file_exist=False,\n",
        "\n",
        "#                       summary=summary, reference=reference,\n",
        "\n",
        "#                       n_gram=2, ROUGE_SU4=True, ROUGE_L=True,ROUGE_W=True,ROUGE_W_Weight=1.2,\n",
        "\n",
        "#                       recall_only=False, stemming=True, stopwords=True,\n",
        "\n",
        "#                       word_level=True, length_limit=True, length=50,\n",
        "\n",
        "#                       use_cf=False, cf=95, scoring_formula='average',\n",
        "\n",
        "#                       resampling=True, samples=1000, favor=True, p=0.5)\n",
        "\n",
        "#   score = rouge.calc_score()\n",
        "\n",
        "#   print(score)"
      ],
      "execution_count": null,
      "outputs": []
    },
    {
      "cell_type": "code",
      "metadata": {
        "id": "J0RakBVYj-Hw"
      },
      "source": [
        "# rouge=list(score.keys())\n",
        "# r_score=list(score.values())"
      ],
      "execution_count": null,
      "outputs": []
    },
    {
      "cell_type": "code",
      "metadata": {
        "id": "UTWQltraka54"
      },
      "source": [
        "# print(rouge)\n",
        "# print(r_score)"
      ],
      "execution_count": null,
      "outputs": []
    },
    {
      "cell_type": "code",
      "metadata": {
        "id": "i-XMTNyF_Nnq"
      },
      "source": [
        "\n",
        "# rouge_12=rouge[0:6]\n",
        "# rscore_12=r_score[0:6]"
      ],
      "execution_count": null,
      "outputs": []
    },
    {
      "cell_type": "code",
      "metadata": {
        "id": "Y5EoFRJl5p5l"
      },
      "source": [
        "# import numpy as np\n",
        "# import matplotlib.pyplot as plt\n",
        "# fig = plt.figure(figsize = (10, 5))\n",
        " \n",
        "# # ROUGE-1\n",
        "# plt.bar(rouge_12, rscore_12, color ='maroon')\n",
        "\n",
        "# plt.xlabel(\"ROUGE-1,2 Precision, Recall and F-Score\")\n",
        "# plt.ylabel(\"ROUGE-1,2 Scores\")\n",
        "# plt.title(\"ROUGE-1,2\")\n",
        "# plt.show()"
      ],
      "execution_count": null,
      "outputs": []
    },
    {
      "cell_type": "code",
      "metadata": {
        "id": "Kl1O-Uh4_T3O"
      },
      "source": [
        "# rouge_LWS=rouge[6:15]\n",
        "# rscore_LWS=r_score[6:15]"
      ],
      "execution_count": null,
      "outputs": []
    },
    {
      "cell_type": "code",
      "metadata": {
        "id": "_mHRHVch8cxb"
      },
      "source": [
        "\n",
        "# fig = plt.figure(figsize = (15, 5))\n",
        "# # ROUGE-2\n",
        "# plt.bar(rouge_LWS, rscore_LWS, color ='blue')\n",
        "\n",
        "# plt.xlabel(\"ROUGE-LSW Precision, Recall and F-Score\")\n",
        "# plt.ylabel(\"ROUGE-LSW Scores\")\n",
        "# plt.title(\"ROUGE-LSW\")\n",
        "# plt.show()"
      ],
      "execution_count": null,
      "outputs": []
    },
    {
      "cell_type": "code",
      "metadata": {
        "id": "-t5K8i0gkawI"
      },
      "source": [
        "# rouge_1=rouge[0:3]\n",
        "# rouge_2=rouge[3:6]\n",
        "# rouge_L=rouge[6:9]\n",
        "# rouge_W=rouge[9:12]\n",
        "# rouge_SU=rouge[12:15]\n",
        "# rscore_1=r_score[0:3]\n",
        "# rscore_2=r_score[3:6]\n",
        "# rscore_L=r_score[6:9]\n",
        "# rscore_W=r_score[9:12]\n",
        "# rscore_SU=r_score[12:15]"
      ],
      "execution_count": null,
      "outputs": []
    },
    {
      "cell_type": "code",
      "metadata": {
        "id": "8bSf5RvwBAYu"
      },
      "source": [
        ""
      ],
      "execution_count": null,
      "outputs": []
    },
    {
      "cell_type": "code",
      "metadata": {
        "id": "2Z8ygvGyApJm"
      },
      "source": [
        "# import numpy as np\n",
        "# import matplotlib.pyplot as plt\n",
        "# fig = plt.subplots(figsize =(10, 5))\n",
        "# # ROUGE-1\n",
        "# barWidth=0.5\n",
        "# plt.bar(rouge_1, rscore_1, color ='maroon', width = barWidth,\n",
        "#         edgecolor ='grey', label ='ROUGE-1')\n",
        "# plt.bar(rouge_2, rscore_2, color ='blue', width = barWidth,\n",
        "#         edgecolor ='grey', label ='ROUGE-2')\n",
        "\n",
        "# plt.xlabel(\"ROUGE-1,2 Precision, Recall and F-Score\")\n",
        "# plt.ylabel(\"ROUGE-1,2 Scores\")\n",
        "# plt.title(\"ROUGE-1,2\")\n",
        "# plt.show()"
      ],
      "execution_count": null,
      "outputs": []
    },
    {
      "cell_type": "code",
      "metadata": {
        "id": "7F3gCWoZt84q"
      },
      "source": [
        "# print(rouge_1,rouge_2,rouge_L,rouge_W,rouge_SU)\n",
        "# print(rscore_1,rscore_2,rscore_L,rscore_W,rscore_SU)\n",
        "# print(rouge_LWS,rouge_12)\n",
        "# print(rscore_12)"
      ],
      "execution_count": null,
      "outputs": []
    },
    {
      "cell_type": "code",
      "metadata": {
        "id": "SEMLdXlL8eTP"
      },
      "source": [
        "\n",
        "# fig = plt.figure(figsize = (5, 3))\n",
        "# # ROUGE-2\n",
        "# plt.bar(rouge_2, rscore_2, color ='blue',\n",
        "#         width = 0.4)\n",
        "\n",
        "# plt.xlabel(\"ROUGE-2 Precision, Recall and F-Score\")\n",
        "# plt.ylabel(\"ROUGE-2 Scores\")\n",
        "# plt.title(\"ROUGE-2\")\n",
        "# plt.show()"
      ],
      "execution_count": null,
      "outputs": []
    },
    {
      "cell_type": "markdown",
      "metadata": {
        "id": "uZBHW7t7SOL9"
      },
      "source": [
        "#Split audio into 5 secs chunks"
      ]
    },
    {
      "cell_type": "code",
      "metadata": {
        "id": "AHQuh3DLR-on"
      },
      "source": [
        "def Chunks_five_sec():\n",
        "  if not exists(\"AudioChunks\"):\n",
        "    os.mkdir(\"AudioChunks\")\n",
        "  chunk_length_ms = 5000 # pydub calculates in millisec\n",
        "  sound_file = AudioSegment.from_wav(\"YoutubeVid.wav\")\n",
        "  chunks = make_chunks(sound_file, chunk_length_ms)\n",
        "  for i, chunk in enumerate(chunks):\n",
        "      chunk_name = \"AudioChunks/chunk{0}.wav\".format(i)\n",
        "      print (\"exporting\", chunk_name)\n",
        "      chunk.export(chunk_name, format=\"wav\")\n",
        "  return chunks"
      ],
      "execution_count": null,
      "outputs": []
    },
    {
      "cell_type": "markdown",
      "metadata": {
        "id": "8M7UNf2yCUVh"
      },
      "source": [
        "#Search Key words in Audio "
      ]
    },
    {
      "cell_type": "code",
      "metadata": {
        "id": "JoBniov6aiqm"
      },
      "source": [
        "# searching keywords in transcription\n",
        "def search_keywords(transcription, word_array):\n",
        "    i=0\n",
        "    flag=False\n",
        "    while(i<len(word_array)):\n",
        "      # print(\"index\",i)\n",
        "      if(word_array[i] in transcription):\n",
        "        print(transcription)\n",
        "        print(word_array[i])\n",
        "        word_array.remove(word_array[i])\n",
        "        flag=True\n",
        "      i+=1\n",
        "    if flag:\n",
        "      return True\n",
        "    return False"
      ],
      "execution_count": null,
      "outputs": []
    },
    {
      "cell_type": "code",
      "metadata": {
        "id": "Aqe82qSiYbfZ"
      },
      "source": [
        "# mapping the keywords from text to audio\n",
        "def find_keywords_in_Audio(keyword_nouns,chunks):\n",
        "  words=keyword_nouns.copy()\n",
        "  print(words)\n",
        "  index_ids=[]\n",
        "  main_transcription=[]\n",
        "  for i, chunk in enumerate(chunks):\n",
        "    out_file = \"AudioChunks/chunk{0}.wav\".format(i)\n",
        "    speech, rate = librosa.load(out_file,sr=16000)\n",
        "    input_values = tokenizer(speech, return_tensors = 'pt').input_values\n",
        "    with torch.no_grad():\n",
        "            logits = model(input_values.to(\"cuda\")).logits\n",
        "    #Store predicted id's\n",
        "    predicted_ids = torch.argmax(logits, dim =-1)\n",
        "    #decode the audio to generate text\n",
        "    transcriptions = tokenizer.decode(predicted_ids[0]).lower()\n",
        "    spell = Speller()\n",
        "    transcriptions=spell(transcriptions)\n",
        "    main_transcription.append(transcriptions)\n",
        "    \n",
        "    if search_keywords(transcriptions, words):\n",
        "      index_ids.append(i)\n",
        "      #print(index_ids)\n",
        "  print(main_transcription)\n",
        "  print(index_ids)\n",
        "  return index_ids, main_transcription"
      ],
      "execution_count": null,
      "outputs": []
    },
    {
      "cell_type": "markdown",
      "metadata": {
        "id": "ftThSHf2-7MC"
      },
      "source": [
        "#Crepe"
      ]
    },
    {
      "cell_type": "markdown",
      "metadata": {
        "id": "wuKxiYSmkn7o"
      },
      "source": [
        "Reference : https://github.com/marl/crepe"
      ]
    },
    {
      "cell_type": "code",
      "metadata": {
        "id": "dXDl452A7YRX"
      },
      "source": [
        "\n",
        "def load_audio():\n",
        "  speech, rate = librosa.load(\"YoutubeVid.wav\",sr=16000)\n",
        "  return speech,rate"
      ],
      "execution_count": null,
      "outputs": []
    },
    {
      "cell_type": "code",
      "metadata": {
        "id": "oQQmpY6F7m77"
      },
      "source": [
        "#seperate dataframes to hold frequencies\n",
        "def make_df_freq(speech,rate):\n",
        "  time, frequency, confidence, activation = crepe.predict(speech, rate, viterbi=True,step_size= 5000,center=False)\n",
        "  df = pd.DataFrame()\n",
        "  df = pd.DataFrame(columns=['time', 'frequency','confidence','activation'])\n",
        "  df['time']=time\n",
        "  df['frequency']=frequency\n",
        "  df['confidence']=confidence\n",
        "  df['activation']=activation\n",
        "  df\n",
        "  return df"
      ],
      "execution_count": null,
      "outputs": []
    },
    {
      "cell_type": "code",
      "metadata": {
        "id": "Sz-03nl1J_WJ"
      },
      "source": [
        "#Frequencies corresponding to keywords\n",
        "def extract_keywords_freq(df,index_ids):\n",
        "  time_Array=index_ids\n",
        "  freq_Array=[]\n",
        "  stepSize=5.0\n",
        "  for i in range(0,len(time_Array)):\n",
        "    row_index=time_Array[i]\n",
        "    row=df.iloc[row_index]\n",
        "    row_freq=row['frequency']\n",
        "    freq_Array.append(row_freq)\n",
        "  for i in range (0,len(freq_Array)):\n",
        "    print(freq_Array[i])\n",
        "  return freq_Array\n",
        "  "
      ],
      "execution_count": null,
      "outputs": []
    },
    {
      "cell_type": "code",
      "metadata": {
        "id": "adf6OqIGDKNH"
      },
      "source": [
        "#Extracting top 3 frequencies\n",
        "def extract_top_freq(freq_Array):\n",
        "  top_3_f=[]\n",
        "  top_3_f=freq_Array\n",
        "  top_3_f.sort(reverse=True)\n",
        "  freq3=[]\n",
        "  freq3=top_3_f[:3]\n",
        "  freq3\n",
        "  return freq3"
      ],
      "execution_count": null,
      "outputs": []
    },
    {
      "cell_type": "code",
      "metadata": {
        "id": "7ezf0R5puqK5"
      },
      "source": [
        "#frequency indexes\n",
        "def freq_index(df,freq3):\n",
        "  tempFreq=[]\n",
        "  index_f=[]\n",
        "  tempFreq=df['frequency'].values\n",
        "  for i in range (0,len(freq3)):\n",
        "    for j in range (0,len(tempFreq)):\n",
        "      if ((int((freq3[i])))==(int((tempFreq[j])))):\n",
        "        index_f.append(j)\n",
        "  final_freq=np.unique(index_f)\n",
        "  final_freq\n",
        "  return final_freq"
      ],
      "execution_count": null,
      "outputs": []
    },
    {
      "cell_type": "markdown",
      "metadata": {
        "id": "W5DGokx1LWvl"
      },
      "source": [
        "Amplitude"
      ]
    },
    {
      "cell_type": "markdown",
      "metadata": {
        "id": "yI_xKO4_lVsk"
      },
      "source": [
        "Reference: https://librosa.org/doc/main/generated/librosa.load.html"
      ]
    },
    {
      "cell_type": "code",
      "metadata": {
        "id": "rCOYmBFPKeoS"
      },
      "source": [
        "\n",
        "\n",
        "#Extracting Amplitude of audio\n",
        "def make_df_amp(speech, rate):\n",
        "  length = speech.shape[0] / rate\n",
        "  time = np.linspace(0., length, speech.shape[0])\n",
        "  fifteen_sec_time = np.arange(start=0., stop=length, step=5.0)\n",
        "  print(fifteen_sec_time)\n",
        "  print(len(time), len(fifteen_sec_time))\n",
        "  print(int(len(time)/len(fifteen_sec_time)))\n",
        "  div_val = int(len(time)/len(fifteen_sec_time))\n",
        "\n",
        "  speech = [x*pow(10, 5) for x in speech]\n",
        "  j = 0\n",
        "  amp_array = []\n",
        "  for i in range(0, len(fifteen_sec_time)):\n",
        "    amp_array.append((np.mean(speech[i*div_val:(i+1)*div_val])))\n",
        "\n",
        "  df_amp = pd.DataFrame(columns=['time', 'amplitude'])\n",
        "  df_amp['time'] = fifteen_sec_time\n",
        "  df_amp['amplitude'] = amp_array\n",
        "  print(df_amp)\n",
        "  return df_amp"
      ],
      "execution_count": null,
      "outputs": []
    },
    {
      "cell_type": "code",
      "metadata": {
        "id": "LhvHIOicMoBQ"
      },
      "source": [
        "#Amplitude values corresponding to key words\n",
        "def extract_keywords_amp(df_amp,index_ids):\n",
        "  time_Array=index_ids\n",
        "  amp_Array=[]\n",
        "  for i in range(0,len(time_Array)):\n",
        "    row_index_amp=time_Array[i]\n",
        "    row2=df_amp.iloc[row_index_amp]\n",
        "    row_amp=row2['amplitude']\n",
        "    amp_Array.append(row_amp)\n",
        "  for i in range (0,len(amp_Array)):\n",
        "    print(amp_Array[i])\n",
        "  return amp_Array"
      ],
      "execution_count": null,
      "outputs": []
    },
    {
      "cell_type": "code",
      "metadata": {
        "id": "CRU9OseCI2Ss"
      },
      "source": [
        "#Extracting top 5 amplitude\n",
        "def extract_top_amp(amp_Array):\n",
        "  top_7_amp=[]\n",
        "  top_7_amp=amp_Array\n",
        "  top_7_amp.sort(reverse=True)\n",
        "  amp7=[]\n",
        "  amp7=top_7_amp[:7]\n",
        "  amp7\n",
        "  return amp7"
      ],
      "execution_count": null,
      "outputs": []
    },
    {
      "cell_type": "code",
      "metadata": {
        "id": "NMo8Bd1Gu49E"
      },
      "source": [
        "#Amplitude indexes\n",
        "def amp_index(df_amp,amp7):\n",
        "  tempAmp=[]\n",
        "  index_a=[]\n",
        "  tempAmp=df_amp['amplitude'].values\n",
        "  for i in range (0,len(amp7)):\n",
        "    for j in range (0,len(tempAmp)):\n",
        "      if ((round((amp7[i]),1))==(round((tempAmp[j]),1))):\n",
        "        index_a.append(j)\n",
        "  index_a\n",
        "  final_amp=np.unique(index_a)\n",
        "  final_amp\n",
        "  return final_amp"
      ],
      "execution_count": null,
      "outputs": []
    },
    {
      "cell_type": "code",
      "metadata": {
        "id": "EEJBJX-V1cz4"
      },
      "source": [
        "#Transcribing the high amp & high frequency regions\n",
        "def transcribe_amp_freq_regions(final_freq,final_amp,main_transcription):\n",
        "  freq_transcription=[]\n",
        "  for i in range(0,len(final_freq)):\n",
        "    freq_transcription.append(main_transcription[final_freq[i]])\n",
        "  amp_transcription=[]\n",
        "  for i in range(0,len(final_amp)):\n",
        "    amp_transcription.append(main_transcription[final_amp[i]])\n",
        "  print(freq_transcription)\n",
        "  print(amp_transcription)\n",
        "  return freq_transcription, amp_transcription"
      ],
      "execution_count": null,
      "outputs": []
    },
    {
      "cell_type": "code",
      "metadata": {
        "id": "dJSypCemXwpU"
      },
      "source": [
        "#Highlighting the emphasised text \n",
        "def highlighted_text(freq_transcription,amp_transcription):\n",
        "  with open('finalInference.txt','r') as file:\n",
        "      text = file.read()\n",
        "      text_list = nltk.tokenize.sent_tokenize(text)\n",
        "  highlight_index=[]\n",
        "  for i in range(0,len(freq_transcription)):\n",
        "    scores=[]\n",
        "    for j in range (0,len(text_list)):\n",
        "      scores.append(fuzz.partial_ratio(freq_transcription[i],text_list[j]))\n",
        "    highlight_index.append(scores.index(max(scores)))\n",
        "  for i in range(0,len(amp_transcription)):\n",
        "    scores=[]\n",
        "    for j in range (0,len(text_list)):\n",
        "      scores.append(fuzz.partial_ratio(amp_transcription[i],text_list[j]))\n",
        "    highlight_index.append(scores.index(max(scores)))\n",
        "\n",
        "  highlighted_text=[]\n",
        "\n",
        "  unique_highlight_index=set(highlight_index)\n",
        "  unique_highlight_index=list(unique_highlight_index)\n",
        "  for i in range (0,len(unique_highlight_index)):\n",
        "    highlighted_text.append(text_list[unique_highlight_index[i]])\n",
        "  print(highlighted_text)\n",
        "  return highlighted_text"
      ],
      "execution_count": null,
      "outputs": []
    },
    {
      "cell_type": "code",
      "metadata": {
        "id": "-SxhdascqpZ1"
      },
      "source": [
        "#Generating Transcription\n",
        "def Transcription(ID):\n",
        "  creating_files()\n",
        "  dowloadAudio(ID)\n",
        "  aud_chunks=chunk_on_silence()\n",
        "  wav2vec2(aud_chunks)\n",
        "  Punctuate()\n",
        "  AutoCorrection()\n",
        "  "
      ],
      "execution_count": null,
      "outputs": []
    },
    {
      "cell_type": "code",
      "metadata": {
        "id": "3eq0Ad_KKca0"
      },
      "source": [
        "#Generating keywords\n",
        "def Generate_Keywords():\n",
        "  lemmatizedText()\n",
        "  key_terms, keywords_list, topic_word= extract_keywords()\n",
        "  keyword_nouns=extract_nouns(key_terms)\n",
        "  return keyword_nouns, keywords_list, topic_word"
      ],
      "execution_count": null,
      "outputs": []
    },
    {
      "cell_type": "code",
      "metadata": {
        "id": "R1SVFDy_g5Sf"
      },
      "source": [
        "#Generating summary\n",
        "def Generate_Summary():\n",
        "  summarize_text()"
      ],
      "execution_count": null,
      "outputs": []
    },
    {
      "cell_type": "code",
      "metadata": {
        "id": "GJSg0Xjyg6h4"
      },
      "source": [
        "#Calling pre defined functions\n",
        "def Emphasis_Detection(keyword_nouns):\n",
        "  chunks=Chunks_five_sec()\n",
        "  index_ids, main_transcription=find_keywords_in_Audio(keyword_nouns,chunks)\n",
        "  speech,rate=load_audio()\n",
        "  df=make_df_freq(speech,rate)\n",
        "  freq_Array=extract_keywords_freq(df,index_ids)\n",
        "  freq3=extract_top_freq(freq_Array)\n",
        "  final_freq=freq_index(df,freq3)\n",
        "\n",
        "  df_amp=make_df_amp(speech, rate)\n",
        "  amp_Array=extract_keywords_amp(df_amp,index_ids)\n",
        "  amp7=extract_top_amp(amp_Array)\n",
        "  final_amp=amp_index(df_amp,amp7)\n",
        "\n",
        "  freq_transcription,amp_transcription=transcribe_amp_freq_regions(final_freq,final_amp,main_transcription)\n",
        "  \n",
        "  return freq_transcription,amp_transcription"
      ],
      "execution_count": null,
      "outputs": []
    },
    {
      "cell_type": "code",
      "metadata": {
        "id": "KhIrHiMbig5H"
      },
      "source": [
        "#Highlighting Important Points\n",
        "def Highlighted_Transcription(freq_transcription,amp_transcription):\n",
        "  highlighted_trans=highlighted_text(freq_transcription,amp_transcription)\n",
        "  return highlighted_trans"
      ],
      "execution_count": null,
      "outputs": []
    },
    {
      "cell_type": "markdown",
      "metadata": {
        "id": "eXhOqxyMKZIF"
      },
      "source": [
        "#Calling Functions"
      ]
    },
    {
      "cell_type": "code",
      "metadata": {
        "id": "Fipykl_WuYkH"
      },
      "source": [
        "# ID='2xbAiKyTveU'\n",
        "# # # ID='rDIlR71omg4'\n",
        "# Transcription(ID)"
      ],
      "execution_count": null,
      "outputs": []
    },
    {
      "cell_type": "markdown",
      "metadata": {
        "id": "v-REJjirNK35"
      },
      "source": [
        "#Flask Front End"
      ]
    },
    {
      "cell_type": "code",
      "metadata": {
        "id": "cA7nNskF5Yri",
        "colab": {
          "base_uri": "https://localhost:8080/"
        },
        "outputId": "cd5a78ae-3c60-4410-e9c5-54c8c72d5251"
      },
      "source": [
        "!pip install flask-ngrok"
      ],
      "execution_count": null,
      "outputs": [
        {
          "output_type": "stream",
          "text": [
            "Collecting flask-ngrok\n",
            "  Downloading flask_ngrok-0.0.25-py3-none-any.whl (3.1 kB)\n",
            "Requirement already satisfied: requests in /usr/local/lib/python3.7/dist-packages (from flask-ngrok) (2.23.0)\n",
            "Requirement already satisfied: Flask>=0.8 in /usr/local/lib/python3.7/dist-packages (from flask-ngrok) (1.1.4)\n",
            "Requirement already satisfied: click<8.0,>=5.1 in /usr/local/lib/python3.7/dist-packages (from Flask>=0.8->flask-ngrok) (7.1.2)\n",
            "Requirement already satisfied: itsdangerous<2.0,>=0.24 in /usr/local/lib/python3.7/dist-packages (from Flask>=0.8->flask-ngrok) (1.1.0)\n",
            "Requirement already satisfied: Jinja2<3.0,>=2.10.1 in /usr/local/lib/python3.7/dist-packages (from Flask>=0.8->flask-ngrok) (2.11.3)\n",
            "Requirement already satisfied: Werkzeug<2.0,>=0.15 in /usr/local/lib/python3.7/dist-packages (from Flask>=0.8->flask-ngrok) (1.0.1)\n",
            "Requirement already satisfied: MarkupSafe>=0.23 in /usr/local/lib/python3.7/dist-packages (from Jinja2<3.0,>=2.10.1->Flask>=0.8->flask-ngrok) (2.0.1)\n",
            "Requirement already satisfied: chardet<4,>=3.0.2 in /usr/local/lib/python3.7/dist-packages (from requests->flask-ngrok) (3.0.4)\n",
            "Requirement already satisfied: certifi>=2017.4.17 in /usr/local/lib/python3.7/dist-packages (from requests->flask-ngrok) (2021.5.30)\n",
            "Requirement already satisfied: idna<3,>=2.5 in /usr/local/lib/python3.7/dist-packages (from requests->flask-ngrok) (2.10)\n",
            "Requirement already satisfied: urllib3!=1.25.0,!=1.25.1,<1.26,>=1.21.1 in /usr/local/lib/python3.7/dist-packages (from requests->flask-ngrok) (1.24.3)\n",
            "Installing collected packages: flask-ngrok\n",
            "Successfully installed flask-ngrok-0.0.25\n"
          ],
          "name": "stdout"
        }
      ]
    },
    {
      "cell_type": "code",
      "metadata": {
        "id": "GbnYVSwd9GUh",
        "colab": {
          "base_uri": "https://localhost:8080/"
        },
        "outputId": "8e1e7b99-55ef-45db-b43c-701ea21b8b20"
      },
      "source": [
        "from flask_ngrok import run_with_ngrok\n",
        "from flask import Flask, render_template, request, redirect, url_for, make_response\n",
        "\n",
        "app = Flask(__name__, template_folder='drive/MyDrive/FYP/templates', static_folder='drive/MyDrive/FYP/templates/static')\n",
        "run_with_ngrok(app)   #starts ngrok when the app is run \n",
        "\n",
        "\n",
        "ytlink = \"\"\n",
        "yt_id = \"\"\n",
        "\n",
        "\n",
        "#      Homepage\n",
        "@app.route(\"/\")\n",
        "def home():\n",
        "  return render_template(\"homepage.html\")\n",
        "\n",
        "\n",
        "#      Page in which user enters the YouTube link to a video lecture\n",
        "@app.route(\"/get-youtube-link\", methods =[\"GET\", \"POST\"])\n",
        "def getlink():\n",
        "  if request.method == \"POST\":\n",
        "    ytlink = request.form.get(\"link\")\n",
        "    list1 = ytlink.split('=')\n",
        "    if (len(list1)==3):\n",
        "      list2 = list1[1].split('&')\n",
        "      yt_id = list2[0]\n",
        "    else:\n",
        "      yt_id = list1[1]\n",
        "\n",
        "    #yt(yt_id)\n",
        "    res = make_response(redirect(url_for('full_transcription')))  \n",
        "    #res = make_response()\n",
        "    res.set_cookie(\"yt_id\", value = yt_id)\n",
        "    creating_files()\n",
        "    return res\n",
        "  return render_template(\"get-youtube-link.html\")\n",
        "\n",
        "\n",
        "#      Page that displays the lecture in notes form\n",
        "@app.route(\"/lecture-notes\", methods = [\"GET\", \"POST\"])\n",
        "def notes():\n",
        "  listofkeywords = []\n",
        "  yt_id = request.cookies.get('yt_id')\n",
        "  ytlink_embed = \"https://www.youtube.com/embed/\"+yt_id\n",
        "  Generate_Summary()\n",
        "  f = open('SummarizedText.txt', 'r')\n",
        "  text = f.read()\n",
        "  t1 = text.split('\\n')\n",
        "  if request.method == \"POST\":\n",
        "    return redirect(url_for('notes_with_keywords'))\n",
        "  return render_template(\"notes-page.html\", listofkeywords = listofkeywords, ytlink_embed = ytlink_embed, display_notes = t1)\n",
        "\n",
        "\n",
        "#      Displays the keywords on the notes page\n",
        "@app.route(\"/lecture-notes-with-keywords\", methods = [\"GET\", \"POST\"])\n",
        "def notes_with_keywords():\n",
        "  listofkeywords = []\n",
        "  yt_id = request.cookies.get('yt_id')\n",
        "  ytlink_embed = \"https://www.youtube.com/embed/\"+yt_id\n",
        "  f = open('SummarizedText.txt', 'r')\n",
        "  text = f.read()\n",
        "  t1 = text.split('\\n')\n",
        "  listofkeywords, keywords_list, topic_word = Generate_Keywords()\n",
        "  return render_template(\"notes-page-with-keywords.html\", listofkeywords = listofkeywords, ytlink_embed = ytlink_embed, display_notes = t1)\n",
        "\n",
        "\n",
        "#      Help page that answers a few frequently asked questions\n",
        "@app.route(\"/help\")\n",
        "def help():\n",
        "  return render_template(\"help-page.html\")\n",
        "\n",
        "\n",
        "#      Page that displays the full transcription of the video lecture with important parts highlighted\n",
        "@app.route(\"/full-transcription\", methods = [\"GET\", \"POST\"])\n",
        "def full_transcription():\n",
        "  listofkeywords = []\n",
        "  lines = []\n",
        "  yt_id = request.cookies.get('yt_id')\n",
        "  try:\n",
        "    f = open('finalInference.txt', \"r\")\n",
        "    lines = f.readline()\n",
        "    f.close()\n",
        "  except IOError:\n",
        "    print(\"No file found\")\n",
        "\n",
        "  if (len(lines) == 0):\n",
        "    Transcription(yt_id)\n",
        "    f = open('finalInference.txt', \"r\")\n",
        "    lines = f.readline()\n",
        "    f.close()\n",
        "\n",
        "  t1 = lines.split(\". \")\n",
        "  t1 = [x+'.' for x in t1]\n",
        "\n",
        "  keyword_nouns, keywords_list, topic_word = Generate_Keywords()\n",
        "  freq_transcription, amp_transcription = Emphasis_Detection(keyword_nouns)\n",
        "\n",
        "  highlights = Highlighted_Transcription(freq_transcription,amp_transcription)\n",
        "\n",
        "  f = open('KeySentences.txt', 'w')\n",
        "  for i in range(0, len(highlights)-1):\n",
        "    f.write(highlights[i]+'\\n')\n",
        "  f.write(highlights[-1])\n",
        "  f.close()\n",
        "\n",
        "  #print(yt_id)\n",
        "  ytlink_embed = \"https://www.youtube.com/embed/\"+yt_id\n",
        "  if request.method == \"POST\":\n",
        "    return redirect(url_for('full_transcription_with_keywords'))\n",
        "  return render_template(\"full-text-transcription.html\", listofkeywords = listofkeywords, ytlink_embed = ytlink_embed, transcription = t1, highlights = highlights)\n",
        "\n",
        "\n",
        "#      Page that displays keywords with the transcription of the video lecture with highlighted important parts\n",
        "@app.route(\"/full-transcription-with-keywords\", methods = [\"GET\", \"POST\"])\n",
        "def full_transcription_with_keywords():\n",
        "  f = open('finalInference.txt', \"r\")\n",
        "  lines = f.readline()\n",
        "  f.close()\n",
        "  #print(yt_id)\n",
        "  yt_id = request.cookies.get('yt_id')\n",
        "  ytlink_embed = \"https://www.youtube.com/embed/\"+yt_id\n",
        "\n",
        "  f = open('KeySentences.txt', 'r')\n",
        "  highlights = f.read()\n",
        "\n",
        "  highlights = highlights.split('\\n')\n",
        "\n",
        "  t1 = lines.split(\". \")\n",
        "  t1 = [x+'.' for x in t1]\n",
        "\n",
        "  listofkeywords, keywords_list, topic_word = Generate_Keywords()\n",
        "  return render_template(\"full-text-transcription-with-keywords.html\", listofkeywords = listofkeywords, ytlink_embed = ytlink_embed, transcription = t1, highlights = highlights)\n",
        "\n",
        "\n",
        "#      Page that displays audio notes\n",
        "@app.route(\"/audio-notes\", methods = [\"GET\", \"POST\"])\n",
        "def audio_notes():\n",
        "  listofkeywords = []\n",
        "  yt_id = request.cookies.get('yt_id')\n",
        "  ytlink_embed = \"https://www.youtube.com/embed/\"+yt_id\n",
        "  Generate_Summary()\n",
        "  f = open('KeySentences.txt', 'r')\n",
        "  text = f.read()\n",
        "  t1 = text.split('\\n')\n",
        "  if request.method == \"POST\":\n",
        "    return redirect(url_for('audio_notes_with_keywords'))\n",
        "  return render_template(\"audio-notes-page.html\", listofkeywords = listofkeywords, ytlink_embed = ytlink_embed, display_notes = t1)\n",
        "\n",
        "\n",
        "#      Page that displays keywords with the audio notes\n",
        "@app.route(\"/audio-notes-with-keywords\", methods = [\"GET\", \"POST\"])\n",
        "def audio_notes_with_keywords():\n",
        "  listofkeywords = []\n",
        "  yt_id = request.cookies.get('yt_id')\n",
        "  ytlink_embed = \"https://www.youtube.com/embed/\"+yt_id\n",
        "  f = open('KeySentences.txt', 'r')\n",
        "  text = f.read()\n",
        "  t1 = text.split('\\n')\n",
        "  listofkeywords, keywords_list, topic_word = Generate_Keywords()\n",
        "  return render_template(\"audio-notes-page-with-keywords.html\", listofkeywords = listofkeywords, ytlink_embed = ytlink_embed, display_notes = t1)\n",
        "\n",
        "\n",
        "if __name__ == \"__main__\":\n",
        "  app.run()"
      ],
      "execution_count": null,
      "outputs": [
        {
          "output_type": "stream",
          "text": [
            " * Serving Flask app \"__main__\" (lazy loading)\n",
            " * Environment: production\n",
            "\u001b[31m   WARNING: This is a development server. Do not use it in a production deployment.\u001b[0m\n",
            "\u001b[2m   Use a production WSGI server instead.\u001b[0m\n",
            " * Debug mode: off\n"
          ],
          "name": "stdout"
        },
        {
          "output_type": "stream",
          "text": [
            " * Running on http://127.0.0.1:5000/ (Press CTRL+C to quit)\n",
            "INFO:werkzeug: * Running on http://127.0.0.1:5000/ (Press CTRL+C to quit)\n"
          ],
          "name": "stderr"
        },
        {
          "output_type": "stream",
          "text": [
            " * Running on http://6b6aa4c97b64.ngrok.io\n",
            " * Traffic stats available on http://127.0.0.1:4040\n"
          ],
          "name": "stdout"
        },
        {
          "output_type": "stream",
          "text": [
            "127.0.0.1 - - [27/Jul/2021 18:35:57] \"\u001b[37mGET / HTTP/1.1\u001b[0m\" 200 -\n",
            "INFO:werkzeug:127.0.0.1 - - [27/Jul/2021 18:35:57] \"\u001b[37mGET / HTTP/1.1\u001b[0m\" 200 -\n",
            "127.0.0.1 - - [27/Jul/2021 18:35:57] \"\u001b[37mGET /static/images/note-taking-with-overlay.jpg HTTP/1.1\u001b[0m\" 200 -\n",
            "INFO:werkzeug:127.0.0.1 - - [27/Jul/2021 18:35:57] \"\u001b[37mGET /static/images/note-taking-with-overlay.jpg HTTP/1.1\u001b[0m\" 200 -\n",
            "127.0.0.1 - - [27/Jul/2021 18:35:58] \"\u001b[37mGET /static/styles/style.css HTTP/1.1\u001b[0m\" 200 -\n",
            "INFO:werkzeug:127.0.0.1 - - [27/Jul/2021 18:35:58] \"\u001b[37mGET /static/styles/style.css HTTP/1.1\u001b[0m\" 200 -\n",
            "127.0.0.1 - - [27/Jul/2021 18:35:58] \"\u001b[37mGET /static/images/gonotes-logo.png HTTP/1.1\u001b[0m\" 200 -\n",
            "INFO:werkzeug:127.0.0.1 - - [27/Jul/2021 18:35:58] \"\u001b[37mGET /static/images/gonotes-logo.png HTTP/1.1\u001b[0m\" 200 -\n",
            "127.0.0.1 - - [27/Jul/2021 18:35:59] \"\u001b[33mGET /favicon.ico HTTP/1.1\u001b[0m\" 404 -\n",
            "INFO:werkzeug:127.0.0.1 - - [27/Jul/2021 18:35:59] \"\u001b[33mGET /favicon.ico HTTP/1.1\u001b[0m\" 404 -\n",
            "127.0.0.1 - - [27/Jul/2021 18:36:00] \"\u001b[37mGET /get-youtube-link HTTP/1.1\u001b[0m\" 200 -\n",
            "INFO:werkzeug:127.0.0.1 - - [27/Jul/2021 18:36:00] \"\u001b[37mGET /get-youtube-link HTTP/1.1\u001b[0m\" 200 -\n",
            "127.0.0.1 - - [27/Jul/2021 18:36:05] \"\u001b[32mPOST /get-youtube-link HTTP/1.1\u001b[0m\" 302 -\n",
            "INFO:werkzeug:127.0.0.1 - - [27/Jul/2021 18:36:05] \"\u001b[32mPOST /get-youtube-link HTTP/1.1\u001b[0m\" 302 -\n"
          ],
          "name": "stderr"
        },
        {
          "output_type": "stream",
          "text": [
            "[youtube] 2xbAiKyTveU: Downloading webpage\n",
            "[youtube] 2xbAiKyTveU: Downloading MPD manifest\n",
            "[download] Destination: YoutubeVid.webm\n",
            "\u001b[K[download] 100% of 6.05MiB in 01:19\n",
            "[ffmpeg] Destination: YoutubeVid.wav\n",
            "Deleting original file YoutubeVid.webm (pass -k to keep)\n",
            "\n",
            "\n",
            "we'll spend a lot of time dismess or discussing the interaction of these seven layers of the oside model if you have a good understanding of the oside model you'll do very very well of the rest of your networking courses we'll go through the interaction of the layers and each device has a particular job to do each devices functioning at a particular layer of the oside mob so at the end of this chapter you'l understand each layer has a job each layer has something that's doing that job and then each layer has either may be a piece of hard ware or sawh wor sometimes both that'sgetting at accomplished so that raps up chapter one we will discuss this and have a briefquisit our next class\n",
            "good morning welcome to you today's networking discussion on professor cenard\n",
            "we are here to go through chapter one of the text which is introducted to networking we\n",
            "you be talking about what the purpose of network is for mainly the different types of devices as well as addressing the types of networks that you have and their applications.\n",
            "we use different terms in networking that you'll see throughout the course o you hear network services\n",
            "you might also hear the term application the purposes a network is there to share different types of what we call resources or resource could be a something as simple as a file or printer it could be a webside\n",
            "could be an entire er pea system so that we'll use the term resource as well as application under the hood\n",
            "you might hearas use the term service or eaden farther under the surface\n",
            "we might say protocal there are different types of applications that you'll see discussed in the text client server and peared a pear being the two main types bhut you'll see others mentioned as well.\n",
            "so if client server as you'll seen the listing that's the dominant type of networks that we see to day terms of application sif\n",
            "you see the list web e mal others it will get through throughout the course\n",
            "but you can see those are really the man types of applications of ifined to day there again\n",
            "referr to as client servers\n",
            "o be slide here\n",
            "you can see the intrinete which some people confuse from being the webthat\n",
            "it's not the same thing\n",
            "so the internete being the inferstructure\n",
            "the series of connections of networks the users requesting a web page a vile wet browser that's the sompward running up their machine known is the client and h\n",
            "you have web serversov were running on the web servant will get more into that f future chapters other examples\n",
            "e mal soy\n",
            "we can say emals the application under the hood\n",
            "there are a set of of one or more protocolst that provide that service to the application so here you can see example such as sem t p pop three lots of alphabet suit the symmester and will get into all of them\n",
            "fa print a little that more basic but\n",
            "that two represents in tapwlik application if i want to make files available defices such as printers available than you need to make those resources of elble somehow on the netl that could be done in a fairly simple environment known is peered appeer which is to say each system has a something that it's sharing a particular resource and then the other machines are functioning as clients that ae requesting the services on that particular machine\n",
            "wet\n",
            "you don't see in that slide\n",
            "is any mention uppla pliticular server\n",
            "so it's a little bit simpler of a set up\n",
            "oh the long hall can get a la bit more complicated so you can seen the slide there\n",
            "it's simple for small networks\n",
            "it's an expensive because you don't need complicated servoroperating systems\n",
            "but you can see the problems are doesn't scale well\n",
            "it doesn't grow as your needs change\n",
            "and it's also not a secure\n",
            "so client servigeyou cancee here being more dominant type of what you might call an administrative mob so all of the security los of the services might be a isolated on one or maybe several machines and then the clients are simply requesting those services from those one or more service that you have so nosa network operatingsystem that would be something like serve orgyou cancy on the slide or linixes of popular servoroperating system as well.\n",
            "now we will be getting into ah the different components hat you need for the network\n",
            "so the application technically as one component\n",
            "but as we get into more hardware types of things you'll see some devices mentioned in this live there or least in the diagram oe can see a switch mentioned as a particular device will see others such as hubs rouders wireless accsess points and more that diagram also also referring to a particular typology or the design of the network that physical topologies you can see as what's known as a star topology sometimes called hub and spoke this lide shows a combination of topology\n",
            "so you have three separate devices that are connecting may be three separate class rooms three separate buildings three separate offices\n",
            "and then they are all ar connected together on what's known as a bus topology a single line connecting them altogether.\n",
            "larger types of networks you might need other types of devices so you can see an addition to switches which are representing individual networks all of those networkser than connected by one or more rouders stepping back even farther nows if we need to conct unmultiple networks together vi a ias peas or providers you can see now there is what's known as a wan link so that also mentionng you get up whits nar's a metropolitan area net work which is typically within one particular city municpilarea or wide area a net works which can really spand the entire globe\n",
            "but you need a provioter to give you those kinds of connections we spend a latitime this messer discussing the os i model\n",
            "so it's broken up into seven layers as you can see here with the color coting\n",
            "the top three layers are really all about the application itself so you'll see presentation in session are mention there\n",
            "but really most of the time we us bend talking about the application itself and give the examples are a the application being web or e mail or f tp under the hood each application is made up of one or more protocols more services that are allowing that application to function transport layer different protocalls different job\n",
            "it's not the application\n",
            "its\n",
            "how are we delivering the application the net work lair\n",
            "how are we getting that data from the application from one place to another using proto calls\n",
            "an addressing datalincon physical layer are more about connectivity using the net work card in getting that nick connected to paicular device on your land.\n",
            "we'll spend a lot of time dismess or discussing the interaction of these seven layers of the oside model if you have a good understanding of the oside model\n",
            "you'll do very very well of the rest of your networking courses\n",
            "we'll go through the interaction of the layers and each device has a particular job to do each devices functioning at a particular layer of the oside mob\n",
            "so at the end of this chapter you'l understand each layer has a job each layer has something that's doing that job\n",
            "and then each layer has either may be a piece of hard ware or sawh wor sometimes both that'sgetting at accomplished\n",
            "so that raps up chapter one we will discuss this and have a briefquisit our next class.\n",
            "good morning welcome to you today's networking discussion on professor canard. we are here to go through chapter one of the text which is introduced to networking we. you be talking about what the purpose of network is for mainly the different types of devices as well as addressing the types of networks that you have and their applications.. we use different terms in networking that you'll see throughout the course o you hear network services. you might also hear the term application the purposes a network is there to share different types of what we call resources or resource could be a something as simple as a file or printer it could be a website. could be an entire er pea system so that we'll use the term resource as well as application under the hood. you might hearts use the term service or eaten farther under the surface. we might say protocol there are different types of applications that you'll see discussed in the text client server and peaked a pear being the two main types but you'll see others mentioned as well.. so if client server as you'll seen the listing that's the dominant type of networks that we see to day terms of application if. you see the list web e mal others it will get through throughout the course. but you can see those are really the man types of applications of fined to day there again. refer to as client servers. o be slide here. you can see the intricate which some people confuse from being the webthat. it's not the same thing. so the internet being the infrastructure. the series of connections of networks the users requesting a web page a vile wet browser that's the sompward running up their machine known is the client and h. you have web servers were running on the web servant will get more into that f future chapters other examples. e mal soy. we can say emails the application under the hood. there are a set of of one or more protocols that provide that service to the application so here you can see example such as sem t p pop three lots of alphabet suit the semester and will get into all of them. fa print a little that more basic but. that two represents in tapwlik application if i want to make files available devices such as printers available than you need to make those resources of elle somehow on the net that could be done in a fairly simple environment known is needed appear which is to say each system has a something that it's sharing a particular resource and then the other machines are functioning as clients that ae requesting the services on that particular machine. wet. you don't see in that slide. is any mention upper particular server. so it's a little bit simpler of a set up. oh the long hall can get a la bit more complicated so you can seen the slide there. it's simple for small networks. it's an expensive because you don't need complicated servoroperating systems. but you can see the problems are doesn't scale well. it doesn't grow as your needs change. and it's also not a secure. so client servigeyou cancer here being more dominant type of what you might call an administrative mob so all of the security los of the services might be a isolated on one or maybe several machines and then the clients are simply requesting those services from those one or more service that you have so nos network operatingsystem that would be something like serve orgyou candy on the slide or lines of popular servoroperating system as well.. now we will be getting into ah the different components hat you need for the network. so the application technically as one component. but as we get into more hardware types of things you'll see some devices mentioned in this live there or least in the diagram oe can see a switch mentioned as a particular device will see others such as hubs routers wireless access points and more that diagram also also referring to a particular typology or the design of the network that physical apologies you can see as what's known as a star topology sometimes called hub and spoke this like shows a combination of topology. so you have three separate devices that are connecting may be three separate class rooms three separate buildings three separate offices. and then they are all ar connected together on what's known as a bus topology a single line connecting them altogether.. larger types of networks you might need other types of devices so you can see an addition to switches which are representing individual networks all of those networks than connected by one or more routers stepping back even farther news if we need to cont multiple networks together vi a ias peas or providers you can see now there is what's known as a wan link so that also mentioning you get up white nar's a metropolitan area net work which is typically within one particular city municpilarea or wide area a net works which can really span the entire globe. but you need a provider to give you those kinds of connections we spend a maritime this lesser discussing the os i model. so it's broken up into seven layers as you can see here with the color coming. the top three layers are really all about the application itself so you'll see presentation in session are mention there. but really most of the time we us bend talking about the application itself and give the examples are a the application being web or e mail or f tp under the hood each application is made up of one or more protocols more services that are allowing that application to function transport layer different protocols different job. it's not the application. its. how are we delivering the application the net work lair. how are we getting that data from the application from one place to another using proto calls. an addressing datalincon physical layer are more about connectivity using the net work card in getting that nick connected to particular device on your land.. we'll spend a lot of time dismiss or discussing the interaction of these seven layers of the side model if you have a good understanding of the side model. you'll do very very well of the rest of your networking courses. we'll go through the interaction of the layers and each device has a particular job to do each devices functioning at a particular layer of the side mob. so at the end of this chapter you'l understand each layer has a job each layer has something that's doing that job. and then each layer has either may be a piece of hard ware or saw wor sometimes both that'getting at accomplished. so that raps up chapter one we will discuss this and have a briefquisit our next class.. \n",
            "networking\n",
            "network\n",
            "particular\n",
            "different type\n",
            "term\n",
            "device\n",
            "layer\n",
            "web\n",
            "separate\n",
            "need\n",
            "needed\n",
            "work\n",
            "area\n",
            "router\n",
            "wet\n",
            "application\n",
            "bit\n",
            "requesting\n",
            "topology\n",
            "farther\n",
            "available\n",
            "physical\n",
            "client server\n",
            "Topic Word networking\n",
            "['network', 'term', 'device', 'layer', 'web', 'need', 'work', 'area', 'router', 'application', 'bit', 'topology', 'client', 'server']\n",
            "exporting AudioChunks/chunk0.wav\n",
            "exporting AudioChunks/chunk1.wav\n",
            "exporting AudioChunks/chunk2.wav\n",
            "exporting AudioChunks/chunk3.wav\n",
            "exporting AudioChunks/chunk4.wav\n",
            "exporting AudioChunks/chunk5.wav\n",
            "exporting AudioChunks/chunk6.wav\n",
            "exporting AudioChunks/chunk7.wav\n",
            "exporting AudioChunks/chunk8.wav\n",
            "exporting AudioChunks/chunk9.wav\n",
            "exporting AudioChunks/chunk10.wav\n",
            "exporting AudioChunks/chunk11.wav\n",
            "exporting AudioChunks/chunk12.wav\n",
            "exporting AudioChunks/chunk13.wav\n",
            "exporting AudioChunks/chunk14.wav\n",
            "exporting AudioChunks/chunk15.wav\n",
            "exporting AudioChunks/chunk16.wav\n",
            "exporting AudioChunks/chunk17.wav\n",
            "exporting AudioChunks/chunk18.wav\n",
            "exporting AudioChunks/chunk19.wav\n",
            "exporting AudioChunks/chunk20.wav\n",
            "exporting AudioChunks/chunk21.wav\n",
            "exporting AudioChunks/chunk22.wav\n",
            "exporting AudioChunks/chunk23.wav\n",
            "exporting AudioChunks/chunk24.wav\n",
            "exporting AudioChunks/chunk25.wav\n",
            "exporting AudioChunks/chunk26.wav\n",
            "exporting AudioChunks/chunk27.wav\n",
            "exporting AudioChunks/chunk28.wav\n",
            "exporting AudioChunks/chunk29.wav\n",
            "exporting AudioChunks/chunk30.wav\n",
            "exporting AudioChunks/chunk31.wav\n",
            "exporting AudioChunks/chunk32.wav\n",
            "exporting AudioChunks/chunk33.wav\n",
            "exporting AudioChunks/chunk34.wav\n",
            "exporting AudioChunks/chunk35.wav\n",
            "exporting AudioChunks/chunk36.wav\n",
            "exporting AudioChunks/chunk37.wav\n",
            "exporting AudioChunks/chunk38.wav\n",
            "exporting AudioChunks/chunk39.wav\n",
            "exporting AudioChunks/chunk40.wav\n",
            "exporting AudioChunks/chunk41.wav\n",
            "exporting AudioChunks/chunk42.wav\n",
            "exporting AudioChunks/chunk43.wav\n",
            "exporting AudioChunks/chunk44.wav\n",
            "exporting AudioChunks/chunk45.wav\n",
            "exporting AudioChunks/chunk46.wav\n",
            "exporting AudioChunks/chunk47.wav\n",
            "exporting AudioChunks/chunk48.wav\n",
            "exporting AudioChunks/chunk49.wav\n",
            "exporting AudioChunks/chunk50.wav\n",
            "exporting AudioChunks/chunk51.wav\n",
            "exporting AudioChunks/chunk52.wav\n",
            "exporting AudioChunks/chunk53.wav\n",
            "exporting AudioChunks/chunk54.wav\n",
            "exporting AudioChunks/chunk55.wav\n",
            "exporting AudioChunks/chunk56.wav\n",
            "exporting AudioChunks/chunk57.wav\n",
            "exporting AudioChunks/chunk58.wav\n",
            "exporting AudioChunks/chunk59.wav\n",
            "exporting AudioChunks/chunk60.wav\n",
            "exporting AudioChunks/chunk61.wav\n",
            "exporting AudioChunks/chunk62.wav\n",
            "exporting AudioChunks/chunk63.wav\n",
            "exporting AudioChunks/chunk64.wav\n",
            "exporting AudioChunks/chunk65.wav\n",
            "exporting AudioChunks/chunk66.wav\n",
            "exporting AudioChunks/chunk67.wav\n",
            "exporting AudioChunks/chunk68.wav\n",
            "exporting AudioChunks/chunk69.wav\n",
            "exporting AudioChunks/chunk70.wav\n",
            "exporting AudioChunks/chunk71.wav\n",
            "exporting AudioChunks/chunk72.wav\n",
            "exporting AudioChunks/chunk73.wav\n",
            "exporting AudioChunks/chunk74.wav\n",
            "exporting AudioChunks/chunk75.wav\n",
            "exporting AudioChunks/chunk76.wav\n",
            "exporting AudioChunks/chunk77.wav\n",
            "exporting AudioChunks/chunk78.wav\n",
            "['network', 'term', 'device', 'layer', 'web', 'need', 'work', 'area', 'router', 'application', 'bit', 'topology', 'client', 'server']\n",
            "good morning welcome to you to day's networking discussion on professor cannot\n",
            "network\n",
            "good morning welcome to you to day's networking discussion on professor cannot\n",
            "work\n",
            "ing about what the purpose of network is for mainly the different types of devices\n",
            "device\n",
            "well as addressing the types of networks that you have and their applications\n",
            "application\n",
            "we use different terms in networking that you'll see throughout the chorus f you hear ne\n",
            "term\n",
            "cations that you'll see disgust in the text client server and peaked a pear be\n",
            "client\n",
            "so if clip server as you'll see the listing that's the dominant\n",
            "server\n",
            "type of network that we see to day in terms of applications if you seen the list web e\n",
            "web\n",
            "offices such as printers available then you need to make those resources available somehow on\n",
            "need\n",
            "its a little bit simpler of the set up over the long hall i can get a a bit more complicated\n",
            "bit\n",
            "will see others such as hubs routers wireless acs as points and more\n",
            "router\n",
            "so that also mention you get atwasnar'sa metropolitan area that work which is typically within one\n",
            "area\n",
            "into seven layers as you can see here with the roller coming the top three lay\n",
            "layer\n",
            "[\"good morning welcome to you to day's networking discussion on professor cannot\", 'ar we are you to go through chapter one of the text which is introduction to networking wer to be taught', 'ing about what the purpose of network is for mainly the different types of devices', 'well as addressing the types of networks that you have and their applications', \"we use different terms in networking that you'll see throughout the chorus f you hear ne\", 'services you might also hear the term application to purposes a network is ther', 'two share different types of what we call resources or resource could be a something as simple as a', 'ile or printer it could be a wed side could be an entire ear pea system so that will', 'the term resource as well as application under the hood he might hears use the term serve', 'reading farther under the surface we might say protocol there are different types of', \"cations that you'll see disgust in the text client server and peaked a pear be\", \"man types but you'll see others mattiond as well\", \"so if clip server as you'll see the listing that's the dominant\", 'type of network that we see to day in terms of applications if you seen the list web e', 'male others it will get through throughout the course but you can see those are really the maintype', 'of applications ot confined to day there again referred to as client server some beside here you can see', \"the intricate which some people confuse fom being the web it's not the same thing so\", 'h the interstate being the emp structure of te series of connections of networks the', \"users requesting a wet page a vile wet browser that's the sop\", 'running up their machine own is the client and you ave w observers were running on the web servant will get', 'to that future chapters other examples e row so we cul say e males the a', 'location under the hood there are a set of one or more protocols that prov', 'i that service to the application so here you can see example such as sm t p pop three', \"lots of alphabet suit the master and we'll get into all of them fa print\", 'lum but more basic but that too represents a network application if i want to make files available', 'offices such as printers available then you need to make those resources available somehow on', 'talk that could be done in a fairly simply invioment known his puerto peer with', 'to say each system has a something that is share in a particular resource', 'and that the other machines are functioning as clients at a requesting the services on tha', \"titular machine what you don't see in that live is any mention of a particular server so\", 'its a little bit simpler of the set up over the long hall i can get a a bit more complicated', \"so he can see the slide there it's simple for small networks it's an expr\", \"nen because you don't need complicated sirroporating systems but you can see the problems are de\", \"sn't scale well it doesn't grow as your needs change and it's all\", 'o not a secure so client serve as you can see here being a more dominant type of what you might', 'administrative model so all of the security lost of the services might be', 'isolated on one or maybe several machines and then the clients are simply requesting those', 'services from those one or more servers that you have so n', 'asa network operating system that would be something like servergen any on the slide or', 'linux is a popular servooperating system as well now we will', 'e getting into ah the different components unite for the network so the application', \"technically as one compose but as we get into more hard ware types of things you'll see some devices mentioned\", 'the like there or least in the diagram ye can see a switch mentioned as a particular device', 'will see others such as hubs routers wireless acs as points and more', 'that diagram als also referring to a particular apologies or of the design of the', \"t work that physical apologies you can see as what's mot as a star or apology sometimes call\", 'd hub and spoke this like shows', 'a combination of apology so you have three separate devices that are connected maybe', 'three separate class rooms three separate buildings three separate offices and then they are all', 'are connected together on whats known as a bus apology a single line connected', 'altogether larger types of networks you might need other types', 'and devices so vacancy in addition to switches which are representing individual networks all', 'hose networks are then connected by one or more rowers', 'stepping back even farther now so if we need to connect multiple networks together', \"via ias peas or providers he could see now therein what's note as a wam link\", \"so that also mention you get atwasnar'sa metropolitan area that work which is typically within one\", 'particular city munispilarea or wide area thatworks which can real', 'a span the entire globe but you need a proprietor to give you those kinds of connections', \"wa spent a maritime dismesseor discussing the aussie mail so it's broke n\", 'into seven layers as you can see here with the roller coming the top three lay', \"rs are really all about the application itself so you'll see presentation and session\", 'mention there but really most ofetamis us been talking about the application itself and being the ex', 'samples ar a the application being web or e male or f t p', 'under the hood each application is made up of one or more protocol more services', 'at are allowing that application to function transport layer different proto', \"all different job it's not the applications how are we delivering the applicationthe net work\", 'glare how are we getting that data from the application from one place to another using pro to call', 'and addressing datalincon physical lair are more about connectivity', 'e using the network card in getting that nick connected to particular device on your land', 'we spent a lot of time dismessor discussing the interact', 'ion of these seven latter of the side model if you have a good understanding of the side model you', 'very very well in the rest of your net work in courses wil go', 'rough the interaction of the layers and each divide', 'ss has a particular job to do each devices functioning at a particular layer of the', \"simon so at the end of this chapter you'l understand each layer has a job each layer has something\", 't doing that job and then each latter has either maybe a piece of hardware or soft wore', \"times both that's getting that accomplished so that raps up chapter one we\", 'discuss this and haven web quit our next class', '']\n",
            "[0, 2, 3, 4, 10, 12, 13, 25, 30, 43, 55, 59]\n",
            "3/3 [==============================] - 0s 46ms/step\n",
            "129.15599983798833\n",
            "126.86159729097426\n",
            "120.11969470394973\n",
            "120.35250673352822\n",
            "128.14369606919502\n",
            "119.21712839082699\n",
            "128.10939162848894\n",
            "112.17668740170237\n",
            "122.18353303730545\n",
            "125.3685605204302\n",
            "118.23245797640456\n",
            "110.09944942332137\n",
            "[  0.   5.  10.  15.  20.  25.  30.  35.  40.  45.  50.  55.  60.  65.\n",
            "  70.  75.  80.  85.  90.  95. 100. 105. 110. 115. 120. 125. 130. 135.\n",
            " 140. 145. 150. 155. 160. 165. 170. 175. 180. 185. 190. 195. 200. 205.\n",
            " 210. 215. 220. 225. 230. 235. 240. 245. 250. 255. 260. 265. 270. 275.\n",
            " 280. 285. 290. 295. 300. 305. 310. 315. 320. 325. 330. 335. 340. 345.\n",
            " 350. 355. 360. 365. 370. 375. 380. 385. 390.]\n",
            "6287325 79\n",
            "79586\n",
            "     time  amplitude\n",
            "0     0.0   1.406207\n",
            "1     5.0  -0.689754\n",
            "2    10.0  -0.160222\n",
            "3    15.0   0.031851\n",
            "4    20.0  -0.150954\n",
            "..    ...        ...\n",
            "74  370.0  -0.915037\n",
            "75  375.0  -0.684438\n",
            "76  380.0  -1.260032\n",
            "77  385.0   2.679243\n",
            "78  390.0   0.159375\n",
            "\n",
            "[79 rows x 2 columns]\n",
            "1.406206812630087\n",
            "-0.1602224276244465\n",
            "0.031851231383541886\n",
            "-0.1509538660449281\n",
            "0.8381998347644821\n",
            "-4.031202783546661\n",
            "-4.383688888398442\n",
            "0.27617470810791234\n",
            "-1.0760874703300614\n",
            "-0.4002647178241262\n",
            "-1.4549719067911389\n",
            "1.982492135982372\n",
            "[\"good morning welcome to you to day's networking discussion on professor cannot\", 'reading farther under the surface we might say protocol there are different types of', \"cations that you'll see disgust in the text client server and peaked a pear be\", 'type of network that we see to day in terms of applications if you seen the list web e', 'of applications ot confined to day there again referred to as client server some beside here you can see', \"technically as one compose but as we get into more hard ware types of things you'll see some devices mentioned\", 'at are allowing that application to function transport layer different proto']\n",
            "[\"good morning welcome to you to day's networking discussion on professor cannot\", 'ing about what the purpose of network is for mainly the different types of devices', 'well as addressing the types of networks that you have and their applications', \"we use different terms in networking that you'll see throughout the chorus f you hear ne\", \"cations that you'll see disgust in the text client server and peaked a pear be\", 'i that service to the application so here you can see example such as sm t p pop three', \"lots of alphabet suit the master and we'll get into all of them fa print\", 'offices such as printers available then you need to make those resources available somehow on', 'to say each system has a something that is share in a particular resource', 'isolated on one or maybe several machines and then the clients are simply requesting those', 'services from those one or more servers that you have so n', \"via ias peas or providers he could see now therein what's note as a wam link\", 'into seven layers as you can see here with the roller coming the top three lay']\n"
          ],
          "name": "stdout"
        },
        {
          "output_type": "stream",
          "text": [
            "127.0.0.1 - - [27/Jul/2021 18:41:02] \"\u001b[37mGET /full-transcription HTTP/1.1\u001b[0m\" 200 -\n",
            "INFO:werkzeug:127.0.0.1 - - [27/Jul/2021 18:41:02] \"\u001b[37mGET /full-transcription HTTP/1.1\u001b[0m\" 200 -\n"
          ],
          "name": "stderr"
        },
        {
          "output_type": "stream",
          "text": [
            "[\"good morning welcome to you today's networking discussion on professor canard.\", \"but as we get into more hardware types of things you'll see some devices mentioned in this live there or least in the diagram oe can see a switch mentioned as a particular device will see others such as hubs routers wireless access points and more that diagram also also referring to a particular typology or the design of the network that physical apologies you can see as what's known as a star topology sometimes called hub and spoke this like shows a combination of topology.\", \"you be talking about what the purpose of network is for mainly the different types of devices as well as addressing the types of networks that you have and their applications.. we use different terms in networking that you'll see throughout the course o you hear network services.\", 'you might also hear the term application the purposes a network is there to share different types of what we call resources or resource could be a something as simple as a file or printer it could be a website.', \"and then they are all ar connected together on what's known as a bus topology a single line connecting them altogether.. larger types of networks you might need other types of devices so you can see an addition to switches which are representing individual networks all of those networks than connected by one or more routers stepping back even farther news if we need to cont multiple networks together vi a ias peas or providers you can see now there is what's known as a wan link so that also mentioning you get up white nar's a metropolitan area net work which is typically within one particular city municpilarea or wide area a net works which can really span the entire globe.\", \"so it's broken up into seven layers as you can see here with the color coming.\", \"we might say protocol there are different types of applications that you'll see discussed in the text client server and peaked a pear being the two main types but you'll see others mentioned as well.. so if client server as you'll seen the listing that's the dominant type of networks that we see to day terms of application if.\", \"it's not the application.\", 'but really most of the time we us bend talking about the application itself and give the examples are a the application being web or e mail or f tp under the hood each application is made up of one or more protocols more services that are allowing that application to function transport layer different protocols different job.', 'refer to as client servers.', 'there are a set of of one or more protocols that provide that service to the application so here you can see example such as sem t p pop three lots of alphabet suit the semester and will get into all of them.', \"that two represents in tapwlik application if i want to make files available devices such as printers available than you need to make those resources of elle somehow on the net that could be done in a fairly simple environment known is needed appear which is to say each system has a something that it's sharing a particular resource and then the other machines are functioning as clients that ae requesting the services on that particular machine.\", 'so client servigeyou cancer here being more dominant type of what you might call an administrative mob so all of the security los of the services might be a isolated on one or maybe several machines and then the clients are simply requesting those services from those one or more service that you have so nos network operatingsystem that would be something like serve orgyou candy on the slide or lines of popular servoroperating system as well.. now we will be getting into ah the different components hat you need for the network.']\n"
          ],
          "name": "stdout"
        },
        {
          "output_type": "stream",
          "text": [
            "127.0.0.1 - - [27/Jul/2021 18:41:08] \"\u001b[37mGET /audio-notes HTTP/1.1\u001b[0m\" 200 -\n",
            "INFO:werkzeug:127.0.0.1 - - [27/Jul/2021 18:41:08] \"\u001b[37mGET /audio-notes HTTP/1.1\u001b[0m\" 200 -\n"
          ],
          "name": "stderr"
        },
        {
          "output_type": "stream",
          "text": [
            "you be talking about what the purpose of network is for mainly the different types of devices as well as addressing the types of networks that you have and their applications..\n",
            "we use different terms in networking that you'll see throughout the course o you hear network services.\n",
            "you might also hear the term application the purposes a network is there to share different types of what we call resources or resource could be a something as simple as a file or printer it could be a website.\n",
            "could be an entire er pea system so that we'll use the term resource as well as application under the hood.\n",
            "we might say protocol there are different types of applications that you'll see discussed in the text client server and peaked a pear being the two main types but you'll see others mentioned as well..\n",
            "so if client server as you'll seen the listing that's the dominant type of networks that we see to day terms of application if.\n",
            "the series of connections of networks the users requesting a web page a vile wet browser that's the sompward running up their machine known is the client and h.\n",
            "there are a set of of one or more protocols that provide that service to the application so here you can see example such as sem t p pop three lots of alphabet suit the semester and will get into all of them.\n",
            "that two represents in tapwlik application if i want to make files available devices such as printers available than you need to make those resources of elle somehow on the net that could be done in a fairly simple environment known is needed appear which is to say each system has a something that it's sharing a particular resource and then the other machines are functioning as clients that ae requesting the services on that particular machine.\n",
            "so client servigeyou cancer here being more dominant type of what you might call an administrative mob so all of the security los of the services might be a isolated on one or maybe several machines and then the clients are simply requesting those services from those one or more service that you have so nos network operatingsystem that would be something like serve orgyou candy on the slide or lines of popular servoroperating system as well..\n",
            "now we will be getting into ah the different components hat you need for the network.\n",
            "but as we get into more hardware types of things you'll see some devices mentioned in this live there or least in the diagram oe can see a switch mentioned as a particular device will see others such as hubs routers wireless access points and more that diagram also also referring to a particular typology or the design of the network that physical apologies you can see as what's known as a star topology sometimes called hub and spoke this like shows a combination of topology.\n",
            "the top three layers are really all about the application itself so you'll see presentation in session are mention there.\n",
            "but really most of the time we us bend talking about the application itself and give the examples are a the application being web or e mail or f tp under the hood each application is made up of one or more protocols more services that are allowing that application to function transport layer different protocols different job.\n",
            "an addressing datalincon physical layer are more about connectivity using the net work card in getting that nick connected to particular device on your land..\n",
            "we'll spend a lot of time dismiss or discussing the interaction of these seven layers of the side model if you have a good understanding of the side model.\n"
          ],
          "name": "stdout"
        },
        {
          "output_type": "stream",
          "text": [
            "127.0.0.1 - - [27/Jul/2021 18:41:14] \"\u001b[37mPOST /audio-notes-with-keywords HTTP/1.1\u001b[0m\" 200 -\n",
            "INFO:werkzeug:127.0.0.1 - - [27/Jul/2021 18:41:14] \"\u001b[37mPOST /audio-notes-with-keywords HTTP/1.1\u001b[0m\" 200 -\n"
          ],
          "name": "stderr"
        },
        {
          "output_type": "stream",
          "text": [
            "networking\n",
            "network\n",
            "particular\n",
            "different type\n",
            "term\n",
            "device\n",
            "layer\n",
            "web\n",
            "separate\n",
            "need\n",
            "needed\n",
            "work\n",
            "area\n",
            "router\n",
            "wet\n",
            "application\n",
            "farther\n",
            "bit\n",
            "topology\n",
            "requesting\n",
            "available\n",
            "physical\n",
            "client server\n",
            "Topic Word networking\n",
            "['network', 'term', 'device', 'layer', 'web', 'need', 'work', 'area', 'router', 'application', 'client', 'server']\n"
          ],
          "name": "stdout"
        },
        {
          "output_type": "stream",
          "text": [
            "127.0.0.1 - - [27/Jul/2021 18:41:17] \"\u001b[37mGET /lecture-notes HTTP/1.1\u001b[0m\" 200 -\n",
            "INFO:werkzeug:127.0.0.1 - - [27/Jul/2021 18:41:17] \"\u001b[37mGET /lecture-notes HTTP/1.1\u001b[0m\" 200 -\n"
          ],
          "name": "stderr"
        },
        {
          "output_type": "stream",
          "text": [
            "you be talking about what the purpose of network is for mainly the different types of devices as well as addressing the types of networks that you have and their applications..\n",
            "we use different terms in networking that you'll see throughout the course o you hear network services.\n",
            "you might also hear the term application the purposes a network is there to share different types of what we call resources or resource could be a something as simple as a file or printer it could be a website.\n",
            "could be an entire er pea system so that we'll use the term resource as well as application under the hood.\n",
            "we might say protocol there are different types of applications that you'll see discussed in the text client server and peaked a pear being the two main types but you'll see others mentioned as well..\n",
            "so if client server as you'll seen the listing that's the dominant type of networks that we see to day terms of application if.\n",
            "the series of connections of networks the users requesting a web page a vile wet browser that's the sompward running up their machine known is the client and h.\n",
            "there are a set of of one or more protocols that provide that service to the application so here you can see example such as sem t p pop three lots of alphabet suit the semester and will get into all of them.\n",
            "that two represents in tapwlik application if i want to make files available devices such as printers available than you need to make those resources of elle somehow on the net that could be done in a fairly simple environment known is needed appear which is to say each system has a something that it's sharing a particular resource and then the other machines are functioning as clients that ae requesting the services on that particular machine.\n",
            "so client servigeyou cancer here being more dominant type of what you might call an administrative mob so all of the security los of the services might be a isolated on one or maybe several machines and then the clients are simply requesting those services from those one or more service that you have so nos network operatingsystem that would be something like serve orgyou candy on the slide or lines of popular servoroperating system as well..\n",
            "now we will be getting into ah the different components hat you need for the network.\n",
            "but as we get into more hardware types of things you'll see some devices mentioned in this live there or least in the diagram oe can see a switch mentioned as a particular device will see others such as hubs routers wireless access points and more that diagram also also referring to a particular typology or the design of the network that physical apologies you can see as what's known as a star topology sometimes called hub and spoke this like shows a combination of topology.\n",
            "the top three layers are really all about the application itself so you'll see presentation in session are mention there.\n",
            "but really most of the time we us bend talking about the application itself and give the examples are a the application being web or e mail or f tp under the hood each application is made up of one or more protocols more services that are allowing that application to function transport layer different protocols different job.\n",
            "an addressing datalincon physical layer are more about connectivity using the net work card in getting that nick connected to particular device on your land..\n",
            "we'll spend a lot of time dismiss or discussing the interaction of these seven layers of the side model if you have a good understanding of the side model.\n",
            "networking\n",
            "network\n",
            "particular\n",
            "different type\n",
            "term\n",
            "device\n",
            "layer\n",
            "web\n",
            "separate\n",
            "need\n",
            "needed\n",
            "work\n",
            "area\n",
            "router\n",
            "wet\n",
            "application\n",
            "bit\n",
            "requesting\n",
            "topology\n",
            "farther\n",
            "available\n",
            "physical\n",
            "client server\n",
            "Topic Word networking\n",
            "['network', 'term', 'device', 'layer', 'web', 'need', 'work', 'area', 'router', 'application', 'bit', 'topology', 'client', 'server']\n"
          ],
          "name": "stdout"
        },
        {
          "output_type": "stream",
          "text": [
            "127.0.0.1 - - [27/Jul/2021 18:41:20] \"\u001b[37mPOST /lecture-notes-with-keywords HTTP/1.1\u001b[0m\" 200 -\n",
            "INFO:werkzeug:127.0.0.1 - - [27/Jul/2021 18:41:20] \"\u001b[37mPOST /lecture-notes-with-keywords HTTP/1.1\u001b[0m\" 200 -\n",
            "127.0.0.1 - - [27/Jul/2021 18:41:43] \"\u001b[37mGET /help HTTP/1.1\u001b[0m\" 200 -\n",
            "INFO:werkzeug:127.0.0.1 - - [27/Jul/2021 18:41:43] \"\u001b[37mGET /help HTTP/1.1\u001b[0m\" 200 -\n",
            "127.0.0.1 - - [27/Jul/2021 18:41:44] \"\u001b[37mGET /get-youtube-link HTTP/1.1\u001b[0m\" 200 -\n",
            "INFO:werkzeug:127.0.0.1 - - [27/Jul/2021 18:41:44] \"\u001b[37mGET /get-youtube-link HTTP/1.1\u001b[0m\" 200 -\n"
          ],
          "name": "stderr"
        }
      ]
    }
  ]
}