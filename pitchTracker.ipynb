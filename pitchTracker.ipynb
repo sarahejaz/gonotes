{
  "nbformat": 4,
  "nbformat_minor": 0,
  "metadata": {
    "colab": {
      "name": "pitchTracker.ipynb",
      "provenance": [],
      "authorship_tag": "ABX9TyOAXT9Vdz+kLQst9hOaRID0",
      "include_colab_link": true
    },
    "kernelspec": {
      "name": "python3",
      "display_name": "Python 3"
    }
  },
  "cells": [
    {
      "cell_type": "markdown",
      "metadata": {
        "id": "view-in-github",
        "colab_type": "text"
      },
      "source": [
        "<a href=\"https://colab.research.google.com/github/sarahejaz/gonotes/blob/main/pitchTracker.ipynb\" target=\"_parent\"><img src=\"https://colab.research.google.com/assets/colab-badge.svg\" alt=\"Open In Colab\"/></a>"
      ]
    },
    {
      "cell_type": "code",
      "metadata": {
        "id": "AMbszaJuB6lL"
      },
      "source": [
        "import numpy as np\r\n",
        "import math\r\n",
        "import librosa"
      ],
      "execution_count": 2,
      "outputs": []
    },
    {
      "cell_type": "code",
      "metadata": {
        "id": "gmBO0acXDXir"
      },
      "source": [
        "def divide_into_frames(y, frame_size, frame_stride, fs):\r\n",
        "    frame_len = int(fs*frame_size) # number of samples in a single frame\r\n",
        "    frame_step = int(fs*frame_stride) # number of overlapping samples\r\n",
        "    total_frames = int(np.ceil(float(np.abs(len(y)-frame_len))/frame_step))\r\n",
        "    print(\"Frame len %d, frame step %d, total frames %d\"%(frame_len, frame_step, total_frames))\r\n",
        "    padded_y = np.append(np.array(y), np.zeros(frame_len * total_frames - len(y)))\r\n",
        "    framed_y = np.zeros((total_frames, frame_len))\r\n",
        "    for i in range(total_frames):\r\n",
        "        framed_y[i] = padded_y[i*frame_step : i*frame_step + frame_len] \r\n",
        "    print (framed_y.shape)\r\n",
        "    return framed_y\r\n",
        "\r\n",
        "def calculate_difference(signal) :\r\n",
        "    half_len_signal = len(signal)//2\r\n",
        "    tau = 0\r\n",
        "    autocorr = np.zeros(half_len_signal)\r\n",
        "    for tau in range(half_len_signal):\r\n",
        "        for i in range(half_len_signal):\r\n",
        "            diff = signal[i] - signal[i+tau]\r\n",
        "            autocorr[tau] += diff**2\r\n",
        "    \r\n",
        "    return autocorr\r\n",
        "\r\n",
        "def normalize_with_cumulative_mean(autocorr, halflen):\r\n",
        "    new_autocorr = autocorr\r\n",
        "    new_autocorr[0] = 1\r\n",
        "    running_sum = 0.0\r\n",
        "    for tau in range(1,halflen):\r\n",
        "        running_sum += autocorr[tau]\r\n",
        "        new_autocorr[tau] = autocorr[tau]/((1/tau)*running_sum)\r\n",
        "    \r\n",
        "    return new_autocorr\r\n",
        "\r\n",
        "def absolute_threshold(new_autocorr, halflen, threshold):           \r\n",
        "    temp = np.array(np.where(new_autocorr < threshold))\r\n",
        "    if (temp.shape == (1,0)):\r\n",
        "        tau = -1\r\n",
        "    else : \r\n",
        "        tau = temp[:,0][0]\r\n",
        "    return tau\r\n",
        "\r\n",
        "def parabolic_interpolation(new_autocorr, tau, frame_len):\r\n",
        "    if tau > 1 and tau < (frame_len//2-1):\r\n",
        "        alpha = new_autocorr[tau-1]\r\n",
        "        beta = new_autocorr[tau]\r\n",
        "        gamma = new_autocorr[tau+1]\r\n",
        "        improv = 0.5*(alpha - gamma)/(alpha - 2*beta + gamma)\r\n",
        "    else :\r\n",
        "        improv = 0\r\n",
        "    \r\n",
        "    new_tau = tau + improv\r\n",
        "    return new_tau\r\n",
        "\r\n",
        "def yin_pitchtracker(y, frame_size, frame_step, sr):\r\n",
        "    framed_y = divide_into_frames(y, frame_size, frame_step, sr)\r\n",
        "    pitches = []\r\n",
        "    for i in range(len(framed_y)):\r\n",
        "        autocorr = calculate_difference(framed_y[i])\r\n",
        "        new_autocorr = normalize_with_cumulative_mean(autocorr, frame_len//2)\r\n",
        "        tau = absolute_threshold(new_autocorr, frame_len//2, 0.16)\r\n",
        "        new_tau = parabolic_interpolation(new_autocorr, tau, frame_len)\r\n",
        "        if (new_tau == -1):\r\n",
        "            pitch = 0\r\n",
        "        else :\r\n",
        "            pitch = sr/new_tau\r\n",
        "        # print (pitch)\r\n",
        "        pitches.append(pitch)\r\n",
        "    return pitches\r\n",
        "\r\n"
      ],
      "execution_count": 7,
      "outputs": []
    },
    {
      "cell_type": "code",
      "metadata": {
        "colab": {
          "base_uri": "https://localhost:8080/"
        },
        "id": "ynZkpOnIIjGG",
        "outputId": "b9c6e44c-66e8-4657-a057-b849e903d4bf"
      },
      "source": [
        "wf = \"/content/audio.wav\"\r\n",
        "    # wf = 'OpenA.wav'\r\n",
        "sr = 22050\r\n",
        "y,sr = librosa.load(wf,sr=sr)\r\n",
        "y = y[0:int(3.5*sr)]\r\n",
        "print (sr)\r\n",
        "\r\n",
        "frame_size = 0.03\r\n",
        "frame_step = 0.01\r\n",
        "frame_len = int(frame_size * sr)\r\n",
        "\r\n",
        "\r\n",
        "pitches = yin_pitchtracker(y, frame_size, frame_step, sr)\r\n",
        "print (pitches)"
      ],
      "execution_count": 8,
      "outputs": [
        {
          "output_type": "stream",
          "text": [
            "22050\n",
            "Frame len 661, frame step 220, total frames 348\n",
            "(348, 661)\n"
          ],
          "name": "stdout"
        },
        {
          "output_type": "stream",
          "text": [
            "/usr/local/lib/python3.6/dist-packages/ipykernel_launcher.py:30: RuntimeWarning: invalid value encountered in double_scalars\n"
          ],
          "name": "stderr"
        },
        {
          "output_type": "stream",
          "text": [
            "[0, 0, 0, 0, 0, 0, 0, 0, 123.06882682733024, 0, 0, 0, 0, 0, 0, 0, 0, 0, 0, 0, 0, 0, 0, 0, 0, 0, 0, 0, 0, 0, 0, 177.7563381922316, 0, 0, 0, 0, 0, 0, 0, 0, 0, 0, 0, 0, 0, 0, 0, 0, 0, 0, 626.0041419166589, 629.2396594589312, 0, 0, 0, 0, 0, 0, 0, 0, 0, 0, 0, 0, 0, 0, 0, 0, 0, 0, 0, 110.37763405309434, 0, 0, 0, 0, 0, 0, 0, 0, 0, 0, 0, 0, 0, 129.46192684644163, 121.19821487316545, 123.89025264165195, 122.49235245411916, 123.0943867449816, 0, 0, 0, 0, 121.50611478178305, 0, 0, 0, 0, 0, 0, 0, 0, 0, 0, 0, 0, 0, 0, 0, 0, 0, 0, 0, 0, 0, 0, 0, 0, 0, 0, 0, 0, 0, 0, 0, 0, 0, 0, 0, 0, 0, 123.38232606453406, 0, 0, 0, 0, 0, 0, 0, 124.67446305068134, 121.20750870890313, 110.8356342885019, 120.79399247966857, 121.00806243400719, 120.87269703686545, 0, 0, 0, 0, 0, 0, 0, 0, 0, 0, 137.73260448230295, 136.23840350631727, 141.083016867107, 0, 139.69383075375555, 141.02041681963857, 142.29008410597552, 146.66086896692346, 149.7822503545768, 0, 0, 0, 166.68897879893262, 172.9119617413911, 176.37120947200472, 180.0956476055712, 181.7562548329847, 0, 0, 180.9798447921506, 186.3257214770309, 0, 0, 0, 0, 0, 0, 0, 0, 0, 0, 0, 0, 0, 0, 0, 0, 115.59117030432807, 114.68325929223846, 0, 0, 0, 0, 0, 0, 0, 0, 0, 0, 0, 0, 116.56948197442165, 117.41467950187085, 117.5291738157596, 115.71043735791467, 116.04762921001932, 116.74059645017607, 116.70908195172747, 0, 0, 0, 0, 0, 0, 0, 0, 0, 0, 0, 0, 0, 0, 0, 0, 118.21546314710233, 113.68252961333596, 110.5795012641541, 0, 0, 0, 0, 0, 0, 0, 0, 0, 0, 132.9204989727523, 121.74042331716146, 127.10150535006719, 128.21298224608879, 127.51854871540199, 125.80423897584303, 125.35704911371853, 124.9258599065569, 123.36698169459365, 121.97715123625466, 120.28720503766893, 119.16398819249225, 0, 114.93742377447927, 0, 0, 0, 0, 0, 0, 0, 123.49616695367948, 133.43138999421836, 0, 0, 0, 0, 133.2269229641719, 134.08504466486744, 0, 0, 0, 0, 0, 0, 119.36768565434686, 117.92375971524977, 118.7061255052497, 118.05386473462588, 119.49685717639322, 119.71152137441292, 158.0437671000365, 136.59187635570132, 161.25715824120942, 117.05228042365088, 120.80792813440704, 121.33895458886366, 117.13082722368347, 118.52014035238125, 116.51826806479282, 109.38444260009886, 118.4290861975713, 0, 0, 0, 0, 0, 0, 0, 0, 0, 0, 0, 0, 0, 0, 0, 0, 0, 0, 0, 106.71584784285793, 0, 0, 235.99791481037852, 0, 0, 0, 0, 121.84553475363032, 122.94563326359443, 125.90189122732812, 126.35030087699137, 0, 0, 0, 137.45155728845194, 135.5053749910406, 0, 0, 0, 0, 0, 0, 0, 0, 137.62413504949438, 135.43939093944917, 133.16556189970677, 0, 0, 0, 122.61155845385397, 0, 0]\n"
          ],
          "name": "stdout"
        }
      ]
    },
    {
      "cell_type": "code",
      "metadata": {
        "colab": {
          "base_uri": "https://localhost:8080/",
          "height": 282
        },
        "id": "9FPGlnajKplT",
        "outputId": "9812905f-a3fc-4c24-d2ce-85a0189f0b4e"
      },
      "source": [
        "import matplotlib.pyplot as plt\r\n",
        "%matplotlib inline\r\n",
        "\r\n",
        "plt.figure(figsize=(12,4))\r\n",
        "plt.plot(y)"
      ],
      "execution_count": 11,
      "outputs": [
        {
          "output_type": "execute_result",
          "data": {
            "text/plain": [
              "[<matplotlib.lines.Line2D at 0x7f185b0aa9b0>]"
            ]
          },
          "metadata": {
            "tags": []
          },
          "execution_count": 11
        },
        {
          "output_type": "display_data",
          "data": {
            "image/png": "[encoded data removed]",
            "text/plain": [
              "<Figure size 864x288 with 1 Axes>"
            ]
          },
          "metadata": {
            "tags": [],
            "needs_background": "light"
          }
        }
      ]
    }
  ]
}